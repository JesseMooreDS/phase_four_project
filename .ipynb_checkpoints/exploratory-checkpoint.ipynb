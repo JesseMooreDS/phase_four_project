{
 "cells": [
  {
   "cell_type": "markdown",
   "id": "6a041ccf-d395-4133-a027-34966840e0a5",
   "metadata": {},
   "source": [
    "# Top 5 Flicks - Movie Recommendation System\n",
    "- Author: Jesse Moore\n",
    "- Phase 4\n",
    "- Instructor - Mark Barbour\n",
    "- Blog Post: "
   ]
  },
  {
   "cell_type": "markdown",
   "id": "681f8903-927e-4206-b79c-021f8f193b4b",
   "metadata": {},
   "source": [
    "![image](images/picking_movie.jpeg)"
   ]
  },
  {
   "cell_type": "markdown",
   "id": "6b0346e0-4521-40fa-8dac-c5f58b4bc727",
   "metadata": {},
   "source": [
    "# Summary"
   ]
  },
  {
   "cell_type": "markdown",
   "id": "3ee272f5-323c-4fad-b406-7619d09c8881",
   "metadata": {},
   "source": [
    "Business and data understanding:\n",
    "\n",
    "what kind of data are you using, and what makes it well-suited for the business problem?\n",
    "You do not need to include any data visualizations in your summary, but consider including relevant descriptive statistics\n",
    "\n",
    "Data preparation: why did you choose the data preparation steps that you did, and what was the result?\n",
    "This should be specific to the kind of data you are working with. For example, if you are doing an NLP project, what did you decide to do with stopwords?\n",
    "Be sure to list the packages/libraries used to prepare the data, and why\n",
    "\n",
    "\n",
    "Modeling: what modeling package(s) did you use, which model(s) within the package(s), and what tuning steps did you take?\n",
    "For some projects there may be only one applicable package; you should still briefly explain why this was the appropriate choice\n",
    "\n",
    "\n",
    "Evaluation: how well did your final model perform?\n",
    "Include one or more relevant metrics\n",
    "Be sure to briefly describe your validation approach"
   ]
  },
  {
   "cell_type": "markdown",
   "id": "617c1e6b-de71-414b-9f6d-527ccd1fae57",
   "metadata": {},
   "source": [
    "# Overview"
   ]
  },
  {
   "cell_type": "markdown",
   "id": "09fbcc3b-45cf-465d-9755-7a9d98315ad7",
   "metadata": {},
   "source": [
    "## Business Understanding"
   ]
  },
  {
   "cell_type": "markdown",
   "id": "90bffdef-bc35-435e-9d95-59e2e293dff0",
   "metadata": {},
   "source": [
    "### Problem Statement"
   ]
  },
  {
   "cell_type": "markdown",
   "id": "68621aac-2827-4009-a2c9-96dda4049dd2",
   "metadata": {},
   "source": [
    "Our client is launching a new streaming service and wants to implement a recommendation system that provides users with five personalized movie recommendations.\n",
    "\n",
    "To achieve this, we will use a hybrid approach, combining collaborative filtering and content-based filtering. This will help mitigate the cold start problem, which occurs when:\n",
    "\n",
    "New users, who haven’t rated any content, receive poor or no recommendations.\n",
    "Movies with few or no ratings are unlikely to be recommended.\n",
    "Additionally, we have been tasked with delivering insights into user engagement, enabling our client to maximize engagement with their growing user base.\n",
    "\n",
    "Evaluation Metrics\n",
    "To assess the effectiveness of our recommendation system, we will use the following key metrics:\n",
    "\n",
    "Cosine Similarity – Measures the similarity between movies based on content features. It calculates the angle between feature vectors, helping identify movies with similar characteristics.\n",
    "\n",
    "Root Mean Squared Error (RMSE) – Evaluates the accuracy of our rating predictions by measuring the average difference between actual and predicted ratings. A lower RMSE indicates better prediction performance.\n",
    "By leveraging this hybrid approach and these evaluation metrics, we aim to build a recommendation system that delivers high-quality suggestions while providing valuable insights for our client.\n",
    "\n",
    "These concepts will be explained in further detail below."
   ]
  },
  {
   "cell_type": "markdown",
   "id": "f0b8c493-de6b-4a72-8ae1-98dd335f02f4",
   "metadata": {},
   "source": [
    "### Business Objective\n"
   ]
  },
  {
   "cell_type": "markdown",
   "id": "0498ad96-0c72-49d6-9b2f-20fa7745967c",
   "metadata": {},
   "source": [
    "Our business objective is to enhance user enjoyment and engagement with our client's streaming service.\n",
    "\n",
    "To achieve this, we will recommend five movies to each user that they are likely to enjoy. Success will be measured by ensuring that our recommendations receive higher rating scores compared to a baseline model."
   ]
  },
  {
   "cell_type": "markdown",
   "id": "7ed9fdd2-b253-4728-9028-11506bb80d9e",
   "metadata": {},
   "source": [
    "### Stakeholder Questions"
   ]
  },
  {
   "cell_type": "markdown",
   "id": "c5955b16-6ea1-4e6a-b8d5-0cd3ce44481f",
   "metadata": {},
   "source": [
    "User Behavior & Engagement\n",
    "*What types of movies (genres, ratings, release years) are most frequently watched?\n",
    "*Are there specific times or days when users are more active on the platform?\n",
    "\n",
    "\n",
    "Content Optimization\n",
    "What are the most popular movies among different audience segments?\n",
    "Are there under-watched but highly-rated movies that we should promote?\n",
    "What content categories (e.g., drama, comedy, action) drive the most engagement?\n",
    "Is there a difference in engagement between older classics and new releases?\n",
    "\n",
    "\n",
    "Personalization & Recommendations\n",
    "What patterns exist in user ratings that can inform better recommendations?\n",
    "Can we predict what a user might watch next based on their history?\n",
    "Should we prioritize recommending high-rated content or content that aligns with past behavior?"
   ]
  },
  {
   "cell_type": "markdown",
   "id": "f018b2a2-2785-40e8-8cdf-435a7a0cd961",
   "metadata": {},
   "source": [
    "# Data"
   ]
  },
  {
   "cell_type": "markdown",
   "id": "6272065f-3a53-4257-bd1f-c21afe1dfd6e",
   "metadata": {},
   "source": [
    "## Data Understanding"
   ]
  },
  {
   "cell_type": "markdown",
   "id": "bb70824f-6f91-4fee-a705-67df9bd5a3fd",
   "metadata": {},
   "source": [
    "### Data Source\n",
    "\n"
   ]
  },
  {
   "cell_type": "markdown",
   "id": "e515ad6d-bd95-4560-89fb-0b354e053c9f",
   "metadata": {},
   "source": [
    "Our dataset is the [MovieLens](https://grouplens.org/datasets/movielens/latest/) dataset that has been created by the GroupLens research lab at the University of Minnesota. This dataset contains 100,000 ratings, 3,600 tags and was last updated on 9/2018."
   ]
  },
  {
   "cell_type": "markdown",
   "id": "0fc2ce73-aec8-435e-804a-d0e18988bfee",
   "metadata": {},
   "source": [
    "### Data Description"
   ]
  },
  {
   "cell_type": "markdown",
   "id": "d1ddf47e-0ba5-4247-80d8-d7201503a4e1",
   "metadata": {},
   "source": [
    "movies.csv - contains the nearly 10,000 movies that have been rated, their title and genre.\n",
    "\n",
    "- movieId - the Id of the movie, this will used to be merge this information with other data. \n",
    "- title - the title of the movie, also generally contains the year of the movie.\n",
    "- genres -  the genres that the movie comprises. This data will be transformed later, to split genre tags such as 'Action/Adventure/Animation' into their individual components, and will be explained later in this notebook. "
   ]
  },
  {
   "cell_type": "markdown",
   "id": "74afe9f3-2c25-4070-8cf0-b5120b939195",
   "metadata": {},
   "source": [
    "links.csv - file contains identifiers to almost 10,000 movies using imdb.com, movielens.org, and themovie.db.org's identifiers. \n",
    "\n",
    "- movieId - contains the movieId of the movie, will be used to merge with other data.\n",
    "- imdbId - the Imdb Id of this movie, will be used to link with other data.\n",
    "- tmdbId - the MovieDB Id of this movie, will be used to link with other data.\n",
    "\n",
    "*Note: This data is not yet utilized in our modelling and will be implemented in the future. "
   ]
  },
  {
   "cell_type": "markdown",
   "id": "bc77a525-780f-4dbb-9273-22d139b59a48",
   "metadata": {},
   "source": [
    "ratings.csv - includes the over 100,000 user ratings.\n",
    "\n",
    "- userId - the Id of the user who left the rating, this will be used to merge with other data.\n",
    "- movieId - the Id of the movie, we will use this Id to merge with other data.\n",
    "- rating - the rating, ranging from 0.5 to 5.0.\n",
    "- timestamp - the time when the rating was left. "
   ]
  },
  {
   "cell_type": "markdown",
   "id": "d470f9c7-3cd2-41f3-9777-cc6a6eb261b4",
   "metadata": {},
   "source": [
    "tags.csv - gives us ~3,600 short phrases or single words that a user has used to describe one movie.\n",
    "\n",
    "- userId - the user Id who left the tag, this will be used to merge with other data.\n",
    "- movieId - the Id of the movie that contains the tag, we will use this Id to merge with other data.\n",
    "- tag - the text of the tag itself.\n",
    "- timestamp - the time when the tag was left by the user. "
   ]
  },
  {
   "cell_type": "code",
   "execution_count": 1,
   "id": "6369e8c3-e902-41d7-8329-14e4a93760cf",
   "metadata": {},
   "outputs": [],
   "source": [
    "# Suppress warnings  \n",
    "import warnings  \n",
    "warnings.filterwarnings(\"ignore\")  \n",
    "\n",
    "# Standard Libraries  \n",
    "import numpy as np  \n",
    "import pandas as pd  \n",
    "import random  \n",
    "\n",
    "# Visualization  \n",
    "import matplotlib.pyplot as plt  \n",
    "import seaborn as sns  \n",
    "%matplotlib inline  \n",
    "\n",
    "# Text Processing & Feature Extraction  \n",
    "from sklearn.feature_extraction.text import TfidfVectorizer  \n",
    "from sklearn.decomposition import TruncatedSVD  \n",
    "from nltk.corpus import stopwords  \n",
    "\n",
    "# Data Processing & Utilities  \n",
    "from zipfile import ZipFile  \n",
    "from scipy.sparse import csr_matrix  \n",
    "\n",
    "# Machine Learning & Model Evaluation  \n",
    "from sklearn.model_selection import train_test_split  \n",
    "from sklearn.preprocessing import LabelEncoder  \n",
    "from sklearn.metrics import mean_squared_error  \n",
    "from sklearn.metrics.pairwise import cosine_similarity  \n",
    "\n",
    "# Bayesian Optimization  \n",
    "from bayes_opt import BayesianOptimization  \n",
    "\n",
    "# Implicit ALS (Collaborative Filtering)  \n",
    "from implicit.als import AlternatingLeastSquares  \n",
    "\n",
    "# Apache Spark for Large-Scale Processing  \n",
    "from pyspark.sql import SparkSession  \n",
    "from pyspark.sql.functions import explode, rank, log2  \n",
    "from pyspark.sql.window import Window  \n",
    "\n",
    "# Spark Machine Learning (ALS Recommender System)  \n",
    "from pyspark.ml.recommendation import ALS  \n",
    "from pyspark.ml.feature import StringIndexer  \n",
    "from pyspark.ml.evaluation import RegressionEvaluator  \n",
    "from pyspark.ml.tuning import TrainValidationSplit, ParamGridBuilder  \n"
   ]
  },
  {
   "cell_type": "code",
   "execution_count": 2,
   "id": "7a461065-36c3-44bc-a835-d01e29d48793",
   "metadata": {},
   "outputs": [],
   "source": [
    "# # Importing the necessary libraries using the standard aliasing\n",
    "\n",
    "# import numpy as np\n",
    "# import pandas as pd\n",
    "# import matplotlib.pyplot as plt\n",
    "# import seaborn as sns\n",
    "# from zipfile import ZipFile\n",
    "\n",
    "# from bayes_opt import BayesianOptimization\n",
    "# from sklearn.feature_extraction.text import TfidfVectorizer\n",
    "# from sklearn.decomposition import TruncatedSVD\n",
    "# from nltk.corpus import stopwords\n",
    "\n",
    "# from scipy.sparse import csr_matrix\n",
    "# from sklearn.metrics import mean_squared_error\n",
    "# from sklearn.metrics.pairwise import cosine_similarity\n",
    "# from sklearn.model_selection import train_test_split\n",
    "# from sklearn.preprocessing import LabelEncoder\n",
    "# from implicit.als import AlternatingLeastSquares\n",
    "# from pyspark.ml.recommendation import ALS\n",
    "# from pyspark.sql import SparkSession\n",
    "# from pyspark.ml.feature import StringIndexer\n",
    "# from pyspark.sql.functions import explode, rank, log2\n",
    "# from pyspark.sql.window import Window\n",
    "# from implicit.als import AlternatingLeastSquares\n",
    "# import warnings\n",
    "# import random\n",
    "\n",
    "# from pyspark.ml.evaluation import RegressionEvaluator\n",
    "# from pyspark.ml.recommendation import ALS\n",
    "# from pyspark.ml.tuning import TrainValidationSplit, ParamGridBuilder\n",
    "# from pyspark.ml.recommendation import ALS\n",
    "# from pyspark.sql import SparkSession\n",
    "# from pyspark.ml.evaluation import RegressionEvaluator\n",
    "\n",
    "# %matplotlib inline"
   ]
  },
  {
   "cell_type": "code",
   "execution_count": 3,
   "id": "501bf8a0-ea57-4367-8aee-937f99b98d7c",
   "metadata": {},
   "outputs": [],
   "source": [
    "# Quality of Life (QoL) Enhancements for Reproducibility, Plotting, and Warnings\n",
    "\n",
    "# Set a random seed for reproducibility across random number generators\n",
    "random_seed = 42  \n",
    "np.random.seed(random_seed)  \n",
    "random.seed(random_seed)  \n",
    "\n",
    "# Set plotting style for better visuals in charts\n",
    "plt.style.use('seaborn-v0_8-darkgrid')  \n",
    "\n",
    "# Suppress all warnings to avoid clutter in output\n",
    "warnings.filterwarnings('ignore')  \n",
    "\n",
    "# Disable warnings for chained assignments in pandas (prevents 'SettingWithCopyWarning')\n",
    "pd.options.mode.chained_assignment = None  \n"
   ]
  },
  {
   "cell_type": "code",
   "execution_count": 4,
   "id": "3edda2be-bc50-4d08-ad18-03bbd0f9e0bb",
   "metadata": {},
   "outputs": [],
   "source": [
    "# # Some QoL enhancements for our plotting and coding. \n",
    "\n",
    "# #generating a random seed for reproducability\n",
    "# random_seed = 42\n",
    "# np.random.seed(random_seed)  \n",
    "# random.seed(random_seed)  \n",
    "# # Setting our plotting style for later\n",
    "# plt.style.use('seaborn-v0_8-darkgrid')\n",
    "\n",
    "# # Setting warnings to 'ignore'\n",
    "# warnings.filterwarnings('ignore')\n",
    "\n",
    "# # Disabling warnings for chained assignments\n",
    "# pd.options.mode.chained_assignment = None "
   ]
  },
  {
   "cell_type": "code",
   "execution_count": 5,
   "id": "d7507d98-be79-4230-897e-36f50de25b2c",
   "metadata": {},
   "outputs": [],
   "source": [
    "# Loading MovieLens Database and Extracting Data\n",
    "\n",
    "# Define file paths\n",
    "zip_file_path = 'data/ml-latest-small.zip'  \n",
    "extract_folder = 'data/'\n",
    "\n",
    "# Extract the dataset from the zip file\n",
    "with ZipFile(zip_file_path, 'r') as zip_ref:  \n",
    "    zip_ref.extractall(extract_folder)  \n",
    "\n",
    "# Load the datasets into pandas DataFrames\n",
    "datasets = {\n",
    "    'tags': 'tags.csv', \n",
    "    'movies': 'movies.csv', \n",
    "    'links': 'links.csv', \n",
    "    'ratings': 'ratings.csv'\n",
    "}\n",
    "\n",
    "# Using a loop to load all datasets at once\n",
    "dataframes = {}\n",
    "for key, file_name in datasets.items():\n",
    "    dataframes[key] = pd.read_csv(f'data/ml-latest-small/{file_name}', encoding='utf-8')\n",
    "\n",
    "# Access individual dataframes as needed, for example:\n",
    "tags_df = dataframes['tags']\n",
    "movies_df = dataframes['movies']\n",
    "links_df = dataframes['links']\n",
    "ratings_df = dataframes['ratings']\n"
   ]
  },
  {
   "cell_type": "code",
   "execution_count": 6,
   "id": "cd61866a-81f9-481f-a35f-f08cb5b74db8",
   "metadata": {},
   "outputs": [],
   "source": [
    "# # Loading in our files and extracting our data, then loading in our datasets using a loop.\n",
    "\n",
    "# # Loading our MovieLens database\n",
    "# zip_file_path = 'data/ml-latest-small.zip'\n",
    "# extract_folder = 'data/'\n",
    "\n",
    "# #extracting the database with ZipFile\n",
    "# with ZipFile(zip_file_path, 'r') as zip_ref:\n",
    "#     zip_ref.extractall(extract_folder)\n",
    "\n",
    "# # Loading in our datasets: \n",
    "# tags_df = pd.read_csv('data/ml-latest-small/tags.csv', encoding='utf-8')\n",
    "# movies_df = pd.read_csv('data/ml-latest-small/movies.csv', encoding='utf-8')\n",
    "# links_df = pd.read_csv('data/ml-latest-small/links.csv', encoding='utf-8')\n",
    "# ratings_df = pd.read_csv('data/ml-latest-small/ratings.csv', encoding='utf-8')"
   ]
  },
  {
   "cell_type": "code",
   "execution_count": 7,
   "id": "24a372a5-1206-44e3-a2c5-257b87100987",
   "metadata": {},
   "outputs": [],
   "source": [
    "# We will just look over our data using the beginning data analysis tools that Pandas provides (.info(), columnds(), .head(), .shape, .describe(), value_counts())"
   ]
  },
  {
   "cell_type": "code",
   "execution_count": 8,
   "id": "595936af-bfba-40d1-a811-e678e90f1b57",
   "metadata": {},
   "outputs": [],
   "source": [
    "# We will just look over our data using the beginning data analysis tools that Pandas provides (.info(), .head(), .shape, .describe())"
   ]
  },
  {
   "cell_type": "code",
   "execution_count": null,
   "id": "c3e8b12b-90f0-480f-a06e-3fd652ada957",
   "metadata": {},
   "outputs": [],
   "source": []
  },
  {
   "cell_type": "markdown",
   "id": "fd3dc3b2-a39d-4d85-9c2d-9f3497abdacf",
   "metadata": {},
   "source": [
    "### Data Cleaning"
   ]
  },
  {
   "cell_type": "markdown",
   "id": "3fbea7f2-2e93-419a-8d2e-cb78e638e1a4",
   "metadata": {},
   "source": [
    "Our dataset requires cleaning, particularly in the movies_df 'title' column. In most cases, the title contains the year of the movie's release, which we will extract to create a new 'year' column for feature engineering.\n",
    "\n",
    "Additionally, we will \"explode\" the 'genres' column. Currently, the 'genres' values are often combined into multi-genre categories like 'Adventure / Animation / Comedy', which can be difficult to analyze. By splitting these values into individual genres, we will avoid potential statistical errors, such as misattributing ratings to multi-genre categories instead of individual genres. This will also help prevent inflation or deflation of genre-specific insights and skewed trend analysis due to inconsistent classifications.\n",
    "\n",
    "Finally, the 'timestamp' column in 'ratings_df' will be converted into a more usable format for plotting and time-based analysis."
   ]
  },
  {
   "cell_type": "code",
   "execution_count": 9,
   "id": "8af8efcc-2a50-4141-8157-5b110edd7bdd",
   "metadata": {},
   "outputs": [],
   "source": [
    "# Creating the 'year' feature from the movie title\n",
    "movies_df['year'] = movies_df['title'].str.extract(r'\\((\\d{4})\\)')\n",
    "\n",
    "# Removing the year information from the movie title\n",
    "movies_df['title'] = movies_df['title'].str.replace(r'\\s*\\(\\d{4}\\)', '', regex=True)\n",
    "\n",
    "# Splitting the 'genres' feature so that we can explode the dataset\n",
    "movies_df['genres'] = movies_df['genres'].str.split('|')\n",
    "\n",
    "# Exploding the dataset based on 'genres'\n",
    "movies_df_exploded = movies_df.explode('genres')\n"
   ]
  },
  {
   "cell_type": "markdown",
   "id": "95b02e78-88e1-45da-a909-6b87b5542557",
   "metadata": {},
   "source": [
    "### Data Preparation"
   ]
  },
  {
   "cell_type": "markdown",
   "id": "27c8b101-1f31-4374-9928-f397d578eae0",
   "metadata": {},
   "source": [
    "We will take several steps to prepare our data:\n",
    "\n",
    "* Convert the 'timestamp' column into a datetime object and create new features, such as 'day_of_week', for easier plotting and analysis.\n",
    "  \n",
    "* Merge the ratings_df with the movies_df_exploded dataset to associate ratings with each genre.\n",
    "  \n",
    "* Transform the 'rating' feature to reflect that each genre associated with a movie title will hold equal weight in the rating. This ensures accurate representation of multi-genre movies.\n",
    "  \n",
    "* Split the 'tags' column in the tags_df into individual words for use with TF-IDF feature extraction."
   ]
  },
  {
   "cell_type": "code",
   "execution_count": 10,
   "id": "105d947e-3978-4e18-83fc-b9a80d78ac0f",
   "metadata": {},
   "outputs": [],
   "source": [
    "# Converting the 'timestamp' column into a datetime object to make it more usable\n",
    "ratings_df['timestamp'] = pd.to_datetime(ratings_df['timestamp'], unit='s')\n",
    "\n",
    "# Feature engineering for 'day_of_week' and 'time_of_day' columns\n",
    "ratings_df['day_of_week'] = ratings_df['timestamp'].dt.day_name()  # Extract the day of the week\n",
    "ratings_df['time_of_day'] = ratings_df['timestamp'].dt.strftime('%H:%M')  # Extract the time of day (hour:minute)\n",
    "ratings_df['day_and_time'] = ratings_df['timestamp'].dt.day_name() + \" \" + ratings_df['timestamp'].dt.strftime('%H:00')  # Combine day and hour"
   ]
  },
  {
   "cell_type": "code",
   "execution_count": 11,
   "id": "802cd6cf-2bd1-40ff-a3fb-3a8618a5ffd1",
   "metadata": {},
   "outputs": [],
   "source": [
    "# Merging the exploded movies dataset with the ratings dataset\n",
    "merged_df = movies_df_exploded.merge(ratings_df, left_on='movieId', right_on='movieId', how='left')"
   ]
  },
  {
   "cell_type": "code",
   "execution_count": 12,
   "id": "ff7bc5e2-1b01-40f1-85d1-8664817f9f93",
   "metadata": {},
   "outputs": [],
   "source": [
    "# Transforming the 'rating' feature based on the number of genres for each movie-user pair\n",
    "\n",
    "# Counting the number of genres for each movie-user pair\n",
    "merged_df['num_genres'] = merged_df.groupby(['title', 'userId'])['genres'].transform('count')\n",
    "\n",
    "# Adjusting the 'rating' by dividing it by the number of genres for each movie-user pair\n",
    "merged_df['rating'] = merged_df['rating'] / merged_df['num_genres']\n",
    "\n",
    "# Dropping the temporary 'num_genres' column after transformation\n",
    "merged_df = merged_df.drop(columns=['num_genres'])\n"
   ]
  },
  {
   "cell_type": "code",
   "execution_count": 13,
   "id": "cdfd3a62-540f-4619-b640-89a393562a0f",
   "metadata": {},
   "outputs": [],
   "source": [
    "### The TF-IDF portion of this notebook is note yet implemented. "
   ]
  },
  {
   "cell_type": "code",
   "execution_count": 14,
   "id": "f82ea904-7f45-4db6-a4d7-87170fb8a25d",
   "metadata": {},
   "outputs": [],
   "source": [
    "# # Calling our 'english' stopwords and storing them in the stop_words variable.\n",
    "# stop_words = set(stopwords.words('english'))"
   ]
  },
  {
   "cell_type": "code",
   "execution_count": 15,
   "id": "8c0fdcb8-0281-46aa-9175-523afdf600cb",
   "metadata": {},
   "outputs": [],
   "source": [
    "# # Creating a tag_preprocess function that will filter for stopwords. \n",
    "\n",
    "# def tag_preprocess(tags):\n",
    "#     return ' '.join([word for word in tags.split() if word not in stop_words])"
   ]
  },
  {
   "cell_type": "code",
   "execution_count": 16,
   "id": "f22d501e-c61b-4334-9164-2024d14e02fa",
   "metadata": {},
   "outputs": [],
   "source": [
    "# # Transforming our tags into lowercase for processing.\n",
    "# tags_df['tag'] = tags_df['tag'].str.lower().str.replace('[^a-zA-Z]', ' ')\n",
    "\n",
    "# # Applying our tag_process function to our tags to filter for stopwords.\n",
    "# tags_df['tag_cleaned'] = tags_df['tag'].apply(tag_preprocess)\n",
    "\n",
    "# # Merging our datasets together.\n",
    "# tagged_df = pd.merge(merged_df, tags_df, on='movieId', how='left')\n",
    "\n",
    "# # Joining our tags together if they are lists so that we can then perform TF-IDF on them.\n",
    "# tagged_df['tag_cleaned'] = tagged_df['tag_cleaned'].apply(lambda x: ' '.join(x) if isinstance(x, list) else x)\n",
    "\n",
    "# # Filling any NA values in our dataset 'tags' feature so that we can process it. \n",
    "# tagged_df.fillna('', inplace=True)"
   ]
  },
  {
   "cell_type": "code",
   "execution_count": 17,
   "id": "43e078cf-0462-40c8-9009-11d7f4c494bb",
   "metadata": {},
   "outputs": [],
   "source": [
    "# tags_df.head()"
   ]
  },
  {
   "cell_type": "code",
   "execution_count": 18,
   "id": "5b8cd866-33ac-431a-86f4-d00d88fe1e25",
   "metadata": {},
   "outputs": [],
   "source": [
    "# # creating a TF-IDF Vectorizer.\n",
    "# vectorizer = TfidfVectorizer(stop_words='english')\n",
    "\n",
    "# # Fitting a tfidf matrix to our vectorizer\n",
    "# tfidf_matrix = vectorizer.fit_transform(tagged_df['tag_cleaned'])\n",
    "\n",
    "# # Turning this into a dataframe so that we can easily view it. \n",
    "# tfidf_df = pd.DataFrame(tfidf_matrix.toarray(), columns=vectorizer.get_feature_names_out())"
   ]
  },
  {
   "cell_type": "code",
   "execution_count": 19,
   "id": "21ea7b14-b077-40d9-8324-c23e2f21680c",
   "metadata": {},
   "outputs": [],
   "source": [
    "# tfidf_df.head()"
   ]
  },
  {
   "cell_type": "code",
   "execution_count": 20,
   "id": "cc8f084e-bc83-4336-8410-8e06d8417177",
   "metadata": {},
   "outputs": [],
   "source": [
    "# # Reduce dimensionality of TF-IDF features for easier fusion later.\n",
    "# svd = TruncatedSVD(n_components=200)\n",
    "# tfidf_reduced = svd.fit_transform(tfidf_matrix)"
   ]
  },
  {
   "cell_type": "code",
   "execution_count": 21,
   "id": "a177719c-9726-4d34-aaab-ac91e22b2b0d",
   "metadata": {},
   "outputs": [],
   "source": [
    "# feature_names = vectorizer.get_feature_names_out()\n",
    "# if 'pixar' not in feature_names:\n",
    "#     print(\"Tag 'pixar' not found in the vocabulary!\")\n",
    "# else:\n",
    "#     print(\"Tag 'pixar' found in the vocabulary!\")\n",
    "\n",
    "# # Function to recommend movies based on tag, using reduced TF-IDF matrix\n",
    "# def recommend_movies_by_tag(tag, tagged_df, tfidf_reduced, vectorizer, top_n=5):\n",
    "#     \"\"\"\n",
    "#     Recommends movies based on a given tag using TF-IDF similarity and prints related tags for each movie.\n",
    "    \n",
    "#     Parameters:\n",
    "#     - tag: The tag to search for (e.g., 'pixar').\n",
    "#     - tagged_df: The dataframe containing movieId and tags.\n",
    "#     - tfidf_reduced: The reduced TF-IDF matrix (from SVD).\n",
    "#     - vectorizer: The fitted TfidfVectorizer object.\n",
    "#     - top_n: Number of recommendations to return.\n",
    "\n",
    "#     Returns:\n",
    "#     - List of movieIds that are most similar to the searched tag along with their associated tags and similarity scores.\n",
    "#     \"\"\"\n",
    "#     # Check if the tag exists in our vocabulary\n",
    "#     feature_names = vectorizer.get_feature_names_out()\n",
    "#     if tag not in feature_names:\n",
    "#         print(f\"Tag '{tag}' not found in vectorizer vocabulary.\")\n",
    "#         return []  # Return an empty list instead of a string error\n",
    "\n",
    "#     # Get the index of the tag in the TF-IDF matrix\n",
    "#     tag_index = np.where(feature_names == tag)[0][0]\n",
    "#     print(f\"Tag '{tag}' found at index {tag_index} in the feature set.\")\n",
    "\n",
    "#     # Get similarity scores between this tag and all movies (using the reduced TF-IDF matrix)\n",
    "#     tag_vector = tfidf_reduced[:, tag_index].reshape(1, -1)\n",
    "#     sim_scores = cosine_similarity(tag_vector, tfidf_reduced).flatten()\n",
    "\n",
    "#     # Get top N most similar movies\n",
    "#     similar_movies = sim_scores.argsort()[::-1][:top_n]\n",
    "#     print(f\"Top {top_n} similar movie indices: {similar_movies}\")\n",
    "\n",
    "#     # Prepare results\n",
    "#     results = []\n",
    "    \n",
    "#     for movie_idx in similar_movies:\n",
    "#         movie_id = tagged_df.iloc[movie_idx]['movieId']\n",
    "        \n",
    "#         # Get the tags associated with the recommended movie\n",
    "#         movie_tags = tagged_df.iloc[movie_idx]['tag_cleaned']  # Assuming this column contains the tags\n",
    "        \n",
    "#         # Compute similarity of each tag for the recommended movie\n",
    "#         tag_similarities = []\n",
    "#         for movie_tag in movie_tags.split(','):  # Assuming tags are comma-separated\n",
    "#             if movie_tag in feature_names:\n",
    "#                 movie_tag_index = np.where(feature_names == movie_tag)[0][0]\n",
    "                \n",
    "#                 # Check if movie_tag_index is within bounds of the reduced matrix\n",
    "#                 if movie_tag_index < tfidf_reduced.shape[1]:\n",
    "#                     movie_tag_vector = tfidf_reduced[:, movie_tag_index].reshape(1, -1)\n",
    "#                     tag_similarity = cosine_similarity(tag_vector, movie_tag_vector).flatten()[0]\n",
    "#                     tag_similarities.append((movie_tag, tag_similarity))\n",
    "        \n",
    "#         # Sort tags by similarity\n",
    "#         tag_similarities = sorted(tag_similarities, key=lambda x: x[1], reverse=True)\n",
    "        \n",
    "#         # Append the movieId and tag similarities as a dictionary\n",
    "#         results.append({\n",
    "#             'movieId': movie_id,\n",
    "#             'tags': tag_similarities\n",
    "#         })\n",
    "    \n",
    "#     return results\n",
    "\n",
    "# # Example usage with reduced TF-IDF matrix\n",
    "# recommendations = recommend_movies_by_tag(\"pixar\", tagged_df, tfidf_reduced, vectorizer)\n",
    "\n",
    "# # Debug: Print the type and content of recommendations\n",
    "# print(f\"Recommendations type: {type(recommendations)}\")\n",
    "# print(f\"First recommendation (if available): {recommendations[0] if recommendations else 'No recommendations'}\")\n",
    "\n",
    "# # Print recommendations and associated similar tags\n",
    "# if isinstance(recommendations, list):\n",
    "#     for recommendation in recommendations:\n",
    "#         print(f\"Movie ID: {recommendation['movieId']}\")\n",
    "#         for tag, similarity in recommendation['tags']:\n",
    "#             print(f\"  - Tag: '{tag}', Similarity to '{tag}': {similarity:.4f}\")\n",
    "# else:\n",
    "#     print(\"Recommendations returned an unexpected type.\")"
   ]
  },
  {
   "cell_type": "markdown",
   "id": "2e0bd585-658f-4eed-83ca-7891bb9c61de",
   "metadata": {},
   "source": [
    "# Exploratory Data Analysis"
   ]
  },
  {
   "cell_type": "code",
   "execution_count": 22,
   "id": "a5994cf5-65ae-4ef1-af9c-8a7f0e3347a3",
   "metadata": {},
   "outputs": [],
   "source": [
    "# tagged_df.head()"
   ]
  },
  {
   "cell_type": "code",
   "execution_count": 23,
   "id": "c9400ae9-ee54-4090-8fc0-6e00da5c4b00",
   "metadata": {
    "scrolled": true
   },
   "outputs": [
    {
     "name": "stdout",
     "output_type": "stream",
     "text": [
      "<class 'pandas.core.frame.DataFrame'>\n",
      "RangeIndex: 100836 entries, 0 to 100835\n",
      "Data columns (total 7 columns):\n",
      " #   Column        Non-Null Count   Dtype         \n",
      "---  ------        --------------   -----         \n",
      " 0   userId        100836 non-null  int64         \n",
      " 1   movieId       100836 non-null  int64         \n",
      " 2   rating        100836 non-null  float64       \n",
      " 3   timestamp     100836 non-null  datetime64[ns]\n",
      " 4   day_of_week   100836 non-null  object        \n",
      " 5   time_of_day   100836 non-null  object        \n",
      " 6   day_and_time  100836 non-null  object        \n",
      "dtypes: datetime64[ns](1), float64(1), int64(2), object(3)\n",
      "memory usage: 5.4+ MB\n"
     ]
    }
   ],
   "source": [
    "ratings_df.info()"
   ]
  },
  {
   "cell_type": "code",
   "execution_count": 24,
   "id": "bd2f61b4-e528-4f6d-a24b-432e347b8031",
   "metadata": {
    "scrolled": true
   },
   "outputs": [
    {
     "data": {
      "text/html": [
       "<div>\n",
       "<style scoped>\n",
       "    .dataframe tbody tr th:only-of-type {\n",
       "        vertical-align: middle;\n",
       "    }\n",
       "\n",
       "    .dataframe tbody tr th {\n",
       "        vertical-align: top;\n",
       "    }\n",
       "\n",
       "    .dataframe thead th {\n",
       "        text-align: right;\n",
       "    }\n",
       "</style>\n",
       "<table border=\"1\" class=\"dataframe\">\n",
       "  <thead>\n",
       "    <tr style=\"text-align: right;\">\n",
       "      <th></th>\n",
       "      <th>userId</th>\n",
       "      <th>movieId</th>\n",
       "      <th>rating</th>\n",
       "      <th>timestamp</th>\n",
       "      <th>day_of_week</th>\n",
       "      <th>time_of_day</th>\n",
       "      <th>day_and_time</th>\n",
       "    </tr>\n",
       "  </thead>\n",
       "  <tbody>\n",
       "    <tr>\n",
       "      <th>0</th>\n",
       "      <td>1</td>\n",
       "      <td>1</td>\n",
       "      <td>4.0</td>\n",
       "      <td>2000-07-30 18:45:03</td>\n",
       "      <td>Sunday</td>\n",
       "      <td>18:45</td>\n",
       "      <td>Sunday 18:00</td>\n",
       "    </tr>\n",
       "    <tr>\n",
       "      <th>1</th>\n",
       "      <td>1</td>\n",
       "      <td>3</td>\n",
       "      <td>4.0</td>\n",
       "      <td>2000-07-30 18:20:47</td>\n",
       "      <td>Sunday</td>\n",
       "      <td>18:20</td>\n",
       "      <td>Sunday 18:00</td>\n",
       "    </tr>\n",
       "    <tr>\n",
       "      <th>2</th>\n",
       "      <td>1</td>\n",
       "      <td>6</td>\n",
       "      <td>4.0</td>\n",
       "      <td>2000-07-30 18:37:04</td>\n",
       "      <td>Sunday</td>\n",
       "      <td>18:37</td>\n",
       "      <td>Sunday 18:00</td>\n",
       "    </tr>\n",
       "    <tr>\n",
       "      <th>3</th>\n",
       "      <td>1</td>\n",
       "      <td>47</td>\n",
       "      <td>5.0</td>\n",
       "      <td>2000-07-30 19:03:35</td>\n",
       "      <td>Sunday</td>\n",
       "      <td>19:03</td>\n",
       "      <td>Sunday 19:00</td>\n",
       "    </tr>\n",
       "    <tr>\n",
       "      <th>4</th>\n",
       "      <td>1</td>\n",
       "      <td>50</td>\n",
       "      <td>5.0</td>\n",
       "      <td>2000-07-30 18:48:51</td>\n",
       "      <td>Sunday</td>\n",
       "      <td>18:48</td>\n",
       "      <td>Sunday 18:00</td>\n",
       "    </tr>\n",
       "  </tbody>\n",
       "</table>\n",
       "</div>"
      ],
      "text/plain": [
       "   userId  movieId  rating           timestamp day_of_week time_of_day  \\\n",
       "0       1        1     4.0 2000-07-30 18:45:03      Sunday       18:45   \n",
       "1       1        3     4.0 2000-07-30 18:20:47      Sunday       18:20   \n",
       "2       1        6     4.0 2000-07-30 18:37:04      Sunday       18:37   \n",
       "3       1       47     5.0 2000-07-30 19:03:35      Sunday       19:03   \n",
       "4       1       50     5.0 2000-07-30 18:48:51      Sunday       18:48   \n",
       "\n",
       "   day_and_time  \n",
       "0  Sunday 18:00  \n",
       "1  Sunday 18:00  \n",
       "2  Sunday 18:00  \n",
       "3  Sunday 19:00  \n",
       "4  Sunday 18:00  "
      ]
     },
     "execution_count": 24,
     "metadata": {},
     "output_type": "execute_result"
    }
   ],
   "source": [
    "ratings_df.head()"
   ]
  },
  {
   "cell_type": "code",
   "execution_count": 25,
   "id": "b2d4f3d2-e243-4e42-b5a4-4a991fd26f41",
   "metadata": {},
   "outputs": [
    {
     "data": {
      "text/plain": [
       "(100836, 7)"
      ]
     },
     "execution_count": 25,
     "metadata": {},
     "output_type": "execute_result"
    }
   ],
   "source": [
    "ratings_df.shape"
   ]
  },
  {
   "cell_type": "code",
   "execution_count": 26,
   "id": "ca252329-4b8d-498f-9f1e-881614a6d9fc",
   "metadata": {
    "scrolled": true
   },
   "outputs": [
    {
     "data": {
      "text/html": [
       "<div>\n",
       "<style scoped>\n",
       "    .dataframe tbody tr th:only-of-type {\n",
       "        vertical-align: middle;\n",
       "    }\n",
       "\n",
       "    .dataframe tbody tr th {\n",
       "        vertical-align: top;\n",
       "    }\n",
       "\n",
       "    .dataframe thead th {\n",
       "        text-align: right;\n",
       "    }\n",
       "</style>\n",
       "<table border=\"1\" class=\"dataframe\">\n",
       "  <thead>\n",
       "    <tr style=\"text-align: right;\">\n",
       "      <th></th>\n",
       "      <th>userId</th>\n",
       "      <th>movieId</th>\n",
       "      <th>rating</th>\n",
       "      <th>timestamp</th>\n",
       "    </tr>\n",
       "  </thead>\n",
       "  <tbody>\n",
       "    <tr>\n",
       "      <th>count</th>\n",
       "      <td>100836.000000</td>\n",
       "      <td>100836.000000</td>\n",
       "      <td>100836.000000</td>\n",
       "      <td>100836</td>\n",
       "    </tr>\n",
       "    <tr>\n",
       "      <th>mean</th>\n",
       "      <td>326.127564</td>\n",
       "      <td>19435.295718</td>\n",
       "      <td>3.501557</td>\n",
       "      <td>2008-03-19 17:01:27.368469248</td>\n",
       "    </tr>\n",
       "    <tr>\n",
       "      <th>min</th>\n",
       "      <td>1.000000</td>\n",
       "      <td>1.000000</td>\n",
       "      <td>0.500000</td>\n",
       "      <td>1996-03-29 18:36:55</td>\n",
       "    </tr>\n",
       "    <tr>\n",
       "      <th>25%</th>\n",
       "      <td>177.000000</td>\n",
       "      <td>1199.000000</td>\n",
       "      <td>3.000000</td>\n",
       "      <td>2002-04-18 09:57:46</td>\n",
       "    </tr>\n",
       "    <tr>\n",
       "      <th>50%</th>\n",
       "      <td>325.000000</td>\n",
       "      <td>2991.000000</td>\n",
       "      <td>3.500000</td>\n",
       "      <td>2007-08-02 20:31:02</td>\n",
       "    </tr>\n",
       "    <tr>\n",
       "      <th>75%</th>\n",
       "      <td>477.000000</td>\n",
       "      <td>8122.000000</td>\n",
       "      <td>4.000000</td>\n",
       "      <td>2015-07-04 07:15:44.500000</td>\n",
       "    </tr>\n",
       "    <tr>\n",
       "      <th>max</th>\n",
       "      <td>610.000000</td>\n",
       "      <td>193609.000000</td>\n",
       "      <td>5.000000</td>\n",
       "      <td>2018-09-24 14:27:30</td>\n",
       "    </tr>\n",
       "    <tr>\n",
       "      <th>std</th>\n",
       "      <td>182.618491</td>\n",
       "      <td>35530.987199</td>\n",
       "      <td>1.042529</td>\n",
       "      <td>NaN</td>\n",
       "    </tr>\n",
       "  </tbody>\n",
       "</table>\n",
       "</div>"
      ],
      "text/plain": [
       "              userId        movieId         rating  \\\n",
       "count  100836.000000  100836.000000  100836.000000   \n",
       "mean      326.127564   19435.295718       3.501557   \n",
       "min         1.000000       1.000000       0.500000   \n",
       "25%       177.000000    1199.000000       3.000000   \n",
       "50%       325.000000    2991.000000       3.500000   \n",
       "75%       477.000000    8122.000000       4.000000   \n",
       "max       610.000000  193609.000000       5.000000   \n",
       "std       182.618491   35530.987199       1.042529   \n",
       "\n",
       "                           timestamp  \n",
       "count                         100836  \n",
       "mean   2008-03-19 17:01:27.368469248  \n",
       "min              1996-03-29 18:36:55  \n",
       "25%              2002-04-18 09:57:46  \n",
       "50%              2007-08-02 20:31:02  \n",
       "75%       2015-07-04 07:15:44.500000  \n",
       "max              2018-09-24 14:27:30  \n",
       "std                              NaN  "
      ]
     },
     "execution_count": 26,
     "metadata": {},
     "output_type": "execute_result"
    }
   ],
   "source": [
    "ratings_df.describe()"
   ]
  },
  {
   "cell_type": "markdown",
   "id": "b4f1dc6a-033d-4178-b723-464adffdf7f9",
   "metadata": {},
   "source": [
    "From this, we can see that our ratings_df has no null values and contains 100,836 ratings. The mean rating is 3.5, with a standard deviation of 1.0, indicating that most ratings fall between 2.5 and 3.5. Specifically, 25% of the ratings are at or below 3.0, 50% are at or below 3.5, and 75% are at or below 4.0."
   ]
  },
  {
   "cell_type": "code",
   "execution_count": 27,
   "id": "f4d9c873-64f2-448f-94b5-528461845a1f",
   "metadata": {},
   "outputs": [
    {
     "name": "stdout",
     "output_type": "stream",
     "text": [
      "<class 'pandas.core.frame.DataFrame'>\n",
      "RangeIndex: 3683 entries, 0 to 3682\n",
      "Data columns (total 4 columns):\n",
      " #   Column     Non-Null Count  Dtype \n",
      "---  ------     --------------  ----- \n",
      " 0   userId     3683 non-null   int64 \n",
      " 1   movieId    3683 non-null   int64 \n",
      " 2   tag        3683 non-null   object\n",
      " 3   timestamp  3683 non-null   int64 \n",
      "dtypes: int64(3), object(1)\n",
      "memory usage: 115.2+ KB\n"
     ]
    }
   ],
   "source": [
    "tags_df.info()"
   ]
  },
  {
   "cell_type": "code",
   "execution_count": 28,
   "id": "d5b4eddd-bd71-45a3-9a42-f06d090163ba",
   "metadata": {},
   "outputs": [
    {
     "data": {
      "text/html": [
       "<div>\n",
       "<style scoped>\n",
       "    .dataframe tbody tr th:only-of-type {\n",
       "        vertical-align: middle;\n",
       "    }\n",
       "\n",
       "    .dataframe tbody tr th {\n",
       "        vertical-align: top;\n",
       "    }\n",
       "\n",
       "    .dataframe thead th {\n",
       "        text-align: right;\n",
       "    }\n",
       "</style>\n",
       "<table border=\"1\" class=\"dataframe\">\n",
       "  <thead>\n",
       "    <tr style=\"text-align: right;\">\n",
       "      <th></th>\n",
       "      <th>userId</th>\n",
       "      <th>movieId</th>\n",
       "      <th>tag</th>\n",
       "      <th>timestamp</th>\n",
       "    </tr>\n",
       "  </thead>\n",
       "  <tbody>\n",
       "    <tr>\n",
       "      <th>0</th>\n",
       "      <td>2</td>\n",
       "      <td>60756</td>\n",
       "      <td>funny</td>\n",
       "      <td>1445714994</td>\n",
       "    </tr>\n",
       "    <tr>\n",
       "      <th>1</th>\n",
       "      <td>2</td>\n",
       "      <td>60756</td>\n",
       "      <td>Highly quotable</td>\n",
       "      <td>1445714996</td>\n",
       "    </tr>\n",
       "    <tr>\n",
       "      <th>2</th>\n",
       "      <td>2</td>\n",
       "      <td>60756</td>\n",
       "      <td>will ferrell</td>\n",
       "      <td>1445714992</td>\n",
       "    </tr>\n",
       "    <tr>\n",
       "      <th>3</th>\n",
       "      <td>2</td>\n",
       "      <td>89774</td>\n",
       "      <td>Boxing story</td>\n",
       "      <td>1445715207</td>\n",
       "    </tr>\n",
       "    <tr>\n",
       "      <th>4</th>\n",
       "      <td>2</td>\n",
       "      <td>89774</td>\n",
       "      <td>MMA</td>\n",
       "      <td>1445715200</td>\n",
       "    </tr>\n",
       "  </tbody>\n",
       "</table>\n",
       "</div>"
      ],
      "text/plain": [
       "   userId  movieId              tag   timestamp\n",
       "0       2    60756            funny  1445714994\n",
       "1       2    60756  Highly quotable  1445714996\n",
       "2       2    60756     will ferrell  1445714992\n",
       "3       2    89774     Boxing story  1445715207\n",
       "4       2    89774              MMA  1445715200"
      ]
     },
     "execution_count": 28,
     "metadata": {},
     "output_type": "execute_result"
    }
   ],
   "source": [
    "tags_df.head()"
   ]
  },
  {
   "cell_type": "code",
   "execution_count": 29,
   "id": "9694364f-869d-43f2-a41b-e1f663899932",
   "metadata": {},
   "outputs": [
    {
     "data": {
      "text/plain": [
       "(3683, 4)"
      ]
     },
     "execution_count": 29,
     "metadata": {},
     "output_type": "execute_result"
    }
   ],
   "source": [
    "tags_df.shape"
   ]
  },
  {
   "cell_type": "code",
   "execution_count": 30,
   "id": "4f492d00-f403-4ea7-9521-f4386a07a9a9",
   "metadata": {},
   "outputs": [
    {
     "name": "stdout",
     "output_type": "stream",
     "text": [
      "<class 'pandas.core.frame.DataFrame'>\n",
      "RangeIndex: 9742 entries, 0 to 9741\n",
      "Data columns (total 4 columns):\n",
      " #   Column   Non-Null Count  Dtype \n",
      "---  ------   --------------  ----- \n",
      " 0   movieId  9742 non-null   int64 \n",
      " 1   title    9742 non-null   object\n",
      " 2   genres   9742 non-null   object\n",
      " 3   year     9729 non-null   object\n",
      "dtypes: int64(1), object(3)\n",
      "memory usage: 304.6+ KB\n"
     ]
    }
   ],
   "source": [
    "movies_df.info()"
   ]
  },
  {
   "cell_type": "code",
   "execution_count": 31,
   "id": "75ba43ba-392f-4b4c-81bf-19ac1899407f",
   "metadata": {},
   "outputs": [
    {
     "data": {
      "text/html": [
       "<div>\n",
       "<style scoped>\n",
       "    .dataframe tbody tr th:only-of-type {\n",
       "        vertical-align: middle;\n",
       "    }\n",
       "\n",
       "    .dataframe tbody tr th {\n",
       "        vertical-align: top;\n",
       "    }\n",
       "\n",
       "    .dataframe thead th {\n",
       "        text-align: right;\n",
       "    }\n",
       "</style>\n",
       "<table border=\"1\" class=\"dataframe\">\n",
       "  <thead>\n",
       "    <tr style=\"text-align: right;\">\n",
       "      <th></th>\n",
       "      <th>movieId</th>\n",
       "      <th>title</th>\n",
       "      <th>genres</th>\n",
       "      <th>year</th>\n",
       "    </tr>\n",
       "  </thead>\n",
       "  <tbody>\n",
       "    <tr>\n",
       "      <th>0</th>\n",
       "      <td>1</td>\n",
       "      <td>Toy Story</td>\n",
       "      <td>[Adventure, Animation, Children, Comedy, Fantasy]</td>\n",
       "      <td>1995</td>\n",
       "    </tr>\n",
       "    <tr>\n",
       "      <th>1</th>\n",
       "      <td>2</td>\n",
       "      <td>Jumanji</td>\n",
       "      <td>[Adventure, Children, Fantasy]</td>\n",
       "      <td>1995</td>\n",
       "    </tr>\n",
       "    <tr>\n",
       "      <th>2</th>\n",
       "      <td>3</td>\n",
       "      <td>Grumpier Old Men</td>\n",
       "      <td>[Comedy, Romance]</td>\n",
       "      <td>1995</td>\n",
       "    </tr>\n",
       "    <tr>\n",
       "      <th>3</th>\n",
       "      <td>4</td>\n",
       "      <td>Waiting to Exhale</td>\n",
       "      <td>[Comedy, Drama, Romance]</td>\n",
       "      <td>1995</td>\n",
       "    </tr>\n",
       "    <tr>\n",
       "      <th>4</th>\n",
       "      <td>5</td>\n",
       "      <td>Father of the Bride Part II</td>\n",
       "      <td>[Comedy]</td>\n",
       "      <td>1995</td>\n",
       "    </tr>\n",
       "  </tbody>\n",
       "</table>\n",
       "</div>"
      ],
      "text/plain": [
       "   movieId                        title  \\\n",
       "0        1                    Toy Story   \n",
       "1        2                      Jumanji   \n",
       "2        3             Grumpier Old Men   \n",
       "3        4            Waiting to Exhale   \n",
       "4        5  Father of the Bride Part II   \n",
       "\n",
       "                                              genres  year  \n",
       "0  [Adventure, Animation, Children, Comedy, Fantasy]  1995  \n",
       "1                     [Adventure, Children, Fantasy]  1995  \n",
       "2                                  [Comedy, Romance]  1995  \n",
       "3                           [Comedy, Drama, Romance]  1995  \n",
       "4                                           [Comedy]  1995  "
      ]
     },
     "execution_count": 31,
     "metadata": {},
     "output_type": "execute_result"
    }
   ],
   "source": [
    "movies_df.head()"
   ]
  },
  {
   "cell_type": "code",
   "execution_count": 32,
   "id": "440a9e75-b766-448b-8937-80948e54fe09",
   "metadata": {},
   "outputs": [
    {
     "data": {
      "text/plain": [
       "(9742, 4)"
      ]
     },
     "execution_count": 32,
     "metadata": {},
     "output_type": "execute_result"
    }
   ],
   "source": [
    "movies_df.shape"
   ]
  },
  {
   "cell_type": "code",
   "execution_count": 33,
   "id": "09c9a9b5-3d74-4a49-aabf-74332169f60e",
   "metadata": {
    "scrolled": true
   },
   "outputs": [
    {
     "name": "stdout",
     "output_type": "stream",
     "text": [
      "<class 'pandas.core.frame.DataFrame'>\n",
      "RangeIndex: 9742 entries, 0 to 9741\n",
      "Data columns (total 3 columns):\n",
      " #   Column   Non-Null Count  Dtype  \n",
      "---  ------   --------------  -----  \n",
      " 0   movieId  9742 non-null   int64  \n",
      " 1   imdbId   9742 non-null   int64  \n",
      " 2   tmdbId   9734 non-null   float64\n",
      "dtypes: float64(1), int64(2)\n",
      "memory usage: 228.5 KB\n"
     ]
    }
   ],
   "source": [
    "links_df.info()"
   ]
  },
  {
   "cell_type": "code",
   "execution_count": 34,
   "id": "caf4a089-6839-4091-bf5e-ce97b08766d4",
   "metadata": {},
   "outputs": [
    {
     "data": {
      "text/html": [
       "<div>\n",
       "<style scoped>\n",
       "    .dataframe tbody tr th:only-of-type {\n",
       "        vertical-align: middle;\n",
       "    }\n",
       "\n",
       "    .dataframe tbody tr th {\n",
       "        vertical-align: top;\n",
       "    }\n",
       "\n",
       "    .dataframe thead th {\n",
       "        text-align: right;\n",
       "    }\n",
       "</style>\n",
       "<table border=\"1\" class=\"dataframe\">\n",
       "  <thead>\n",
       "    <tr style=\"text-align: right;\">\n",
       "      <th></th>\n",
       "      <th>movieId</th>\n",
       "      <th>imdbId</th>\n",
       "      <th>tmdbId</th>\n",
       "    </tr>\n",
       "  </thead>\n",
       "  <tbody>\n",
       "    <tr>\n",
       "      <th>0</th>\n",
       "      <td>1</td>\n",
       "      <td>114709</td>\n",
       "      <td>862.0</td>\n",
       "    </tr>\n",
       "    <tr>\n",
       "      <th>1</th>\n",
       "      <td>2</td>\n",
       "      <td>113497</td>\n",
       "      <td>8844.0</td>\n",
       "    </tr>\n",
       "    <tr>\n",
       "      <th>2</th>\n",
       "      <td>3</td>\n",
       "      <td>113228</td>\n",
       "      <td>15602.0</td>\n",
       "    </tr>\n",
       "    <tr>\n",
       "      <th>3</th>\n",
       "      <td>4</td>\n",
       "      <td>114885</td>\n",
       "      <td>31357.0</td>\n",
       "    </tr>\n",
       "    <tr>\n",
       "      <th>4</th>\n",
       "      <td>5</td>\n",
       "      <td>113041</td>\n",
       "      <td>11862.0</td>\n",
       "    </tr>\n",
       "  </tbody>\n",
       "</table>\n",
       "</div>"
      ],
      "text/plain": [
       "   movieId  imdbId   tmdbId\n",
       "0        1  114709    862.0\n",
       "1        2  113497   8844.0\n",
       "2        3  113228  15602.0\n",
       "3        4  114885  31357.0\n",
       "4        5  113041  11862.0"
      ]
     },
     "execution_count": 34,
     "metadata": {},
     "output_type": "execute_result"
    }
   ],
   "source": [
    "links_df.head()"
   ]
  },
  {
   "cell_type": "code",
   "execution_count": 35,
   "id": "3e66d8fe-2136-4b38-a477-792e93e759ba",
   "metadata": {},
   "outputs": [
    {
     "data": {
      "text/plain": [
       "(9742, 3)"
      ]
     },
     "execution_count": 35,
     "metadata": {},
     "output_type": "execute_result"
    }
   ],
   "source": [
    "links_df.shape"
   ]
  },
  {
   "cell_type": "markdown",
   "id": "0908928a-3ef8-4924-ac4c-69d85d5c6266",
   "metadata": {},
   "source": [
    "From this, we can see that our ratings_df has no null values and contains 100,836 ratings. The mean rating is 3.5, with a standard deviation of 1.0, indicating that most ratings fall between 2.5 and 3.5. Specifically, 25% of the ratings are at or below 3.0, 50% are at or below 3.5, and 75% are at or below 4.0. The values in our dataset are a mix of numeric and categorical. No null values are included in our dataset. "
   ]
  },
  {
   "cell_type": "code",
   "execution_count": 36,
   "id": "73907d28-053c-4d3f-b75a-10bdb0aaa3f0",
   "metadata": {},
   "outputs": [],
   "source": [
    "# Inspecting the values for our 'rating' column.\n",
    "freq_user_rating_df = ratings_df['rating'].sort_values(ascending=True).reset_index()"
   ]
  },
  {
   "cell_type": "code",
   "execution_count": 37,
   "id": "dc730ce9-a914-4f26-8ba8-e7e7b7de4c2a",
   "metadata": {},
   "outputs": [
    {
     "data": {
      "text/html": [
       "<div>\n",
       "<style scoped>\n",
       "    .dataframe tbody tr th:only-of-type {\n",
       "        vertical-align: middle;\n",
       "    }\n",
       "\n",
       "    .dataframe tbody tr th {\n",
       "        vertical-align: top;\n",
       "    }\n",
       "\n",
       "    .dataframe thead th {\n",
       "        text-align: right;\n",
       "    }\n",
       "</style>\n",
       "<table border=\"1\" class=\"dataframe\">\n",
       "  <thead>\n",
       "    <tr style=\"text-align: right;\">\n",
       "      <th></th>\n",
       "      <th>index</th>\n",
       "      <th>rating</th>\n",
       "    </tr>\n",
       "  </thead>\n",
       "  <tbody>\n",
       "    <tr>\n",
       "      <th>0</th>\n",
       "      <td>3752</td>\n",
       "      <td>0.5</td>\n",
       "    </tr>\n",
       "    <tr>\n",
       "      <th>1</th>\n",
       "      <td>60861</td>\n",
       "      <td>0.5</td>\n",
       "    </tr>\n",
       "    <tr>\n",
       "      <th>2</th>\n",
       "      <td>47025</td>\n",
       "      <td>0.5</td>\n",
       "    </tr>\n",
       "    <tr>\n",
       "      <th>3</th>\n",
       "      <td>22446</td>\n",
       "      <td>0.5</td>\n",
       "    </tr>\n",
       "    <tr>\n",
       "      <th>4</th>\n",
       "      <td>60865</td>\n",
       "      <td>0.5</td>\n",
       "    </tr>\n",
       "  </tbody>\n",
       "</table>\n",
       "</div>"
      ],
      "text/plain": [
       "   index  rating\n",
       "0   3752     0.5\n",
       "1  60861     0.5\n",
       "2  47025     0.5\n",
       "3  22446     0.5\n",
       "4  60865     0.5"
      ]
     },
     "execution_count": 37,
     "metadata": {},
     "output_type": "execute_result"
    }
   ],
   "source": [
    "freq_user_rating_df.head()"
   ]
  },
  {
   "cell_type": "code",
   "execution_count": 39,
   "id": "b951d906-12dc-4c70-9e68-bbd1887ccb49",
   "metadata": {},
   "outputs": [
    {
     "data": {
      "image/png": "[encoded data removed]",
      "text/plain": [
       "<Figure size 1000x800 with 1 Axes>"
      ]
     },
     "metadata": {},
     "output_type": "display_data"
    }
   ],
   "source": [
    "# Building a plot of the frequency of each user rating.\n",
    "\n",
    "# The number of bins to ensure we can see all the columns. \n",
    "bins = np.arange(0.25, 5.51, 0.5)\n",
    "\n",
    "# Creating our figure. \n",
    "plt.figure(figsize=(10,8))\n",
    "\n",
    "# Creating our histogram.\n",
    "plt.hist(freq_user_rating_df['rating'].sort_values(ascending=False), bins=bins, edgecolor='black', alpha=0.8, align='mid')\n",
    "\n",
    "# Labeling our x and y axis\n",
    "plt.xlabel(\"Rating\")\n",
    "plt.ylabel(\"Frequency\")\n",
    "\n",
    "# Creating our xticks\n",
    "plt.xticks(np.arange(0.5, 5.5, 0.5))\n",
    "\n",
    "#Titling our plot\n",
    "plt.title(\"Distribution of Ratings\")\n",
    "\n",
    "# Saving our plot.\n",
    "plt.savefig('images/rating_freq.png', bbox_inches='tight', pad_inches= 0.2);"
   ]
  },
  {
   "cell_type": "markdown",
   "id": "5ef68dd4-5a47-46e8-bdbb-d77b345caa2f",
   "metadata": {},
   "source": [
    "Most user ratings are either 3 or 4. Users seem to use the '.5' (in-between) ratings less frequently than their whole number counterparts."
   ]
  },
  {
   "cell_type": "code",
   "execution_count": 58,
   "id": "78e1d927-7ea6-479e-b843-1dbf6f9257ab",
   "metadata": {},
   "outputs": [
    {
     "data": {
      "text/plain": [
       "userId\n",
       "414.0    6616\n",
       "599.0    6266\n",
       "474.0    4739\n",
       "448.0    4702\n",
       "380.0    3761\n",
       "Name: rating, dtype: int64"
      ]
     },
     "execution_count": 58,
     "metadata": {},
     "output_type": "execute_result"
    }
   ],
   "source": [
    "# Creating 'user_rating_frequency' using groupby to inspect user engagement, focusing on 'Power Users'\n",
    "user_rating_frequency = merged_df.groupby('userId')['rating'].count()\n",
    "\n",
    "# Inspecting the top 5 'Power Users' based on rating frequency\n",
    "user_rating_frequency.sort_values(ascending=False).head()"
   ]
  },
  {
   "cell_type": "code",
   "execution_count": 60,
   "id": "bbe7564d-c33e-4c1c-a54e-5beb2ab50739",
   "metadata": {},
   "outputs": [
    {
     "data": {
      "image/png": "[encoded data removed]",
      "text/plain": [
       "<Figure size 1000x600 with 1 Axes>"
      ]
     },
     "metadata": {},
     "output_type": "display_data"
    }
   ],
   "source": [
    "# Building a horizontal bar plot to show the frequency of ratings per user\n",
    "plt.figure(figsize=(10, 6))\n",
    "plt.barh(user_rating_frequency.index, user_rating_frequency.values, edgecolor='black', alpha=0.8)\n",
    "plt.xlabel(\"Rating Frequency\")\n",
    "plt.ylabel(\"User ID\")\n",
    "\n",
    "plt.title(\"Distribution of User Ratings\");"
   ]
  },
  {
   "cell_type": "markdown",
   "id": "7973d02d-464a-46de-9dab-d07e08ee0913",
   "metadata": {},
   "source": [
    "From this chart, we can see that several power users have created thousands of ratings.\n",
    "\n",
    "Future Implementation:\n",
    "We may consider analyzing the 'Power Users' further and exploring the possibility of weighting their ratings less than those of the average user."
   ]
  },
  {
   "cell_type": "code",
   "execution_count": 61,
   "id": "f2f51661-6919-45db-adbc-851a6279eba2",
   "metadata": {},
   "outputs": [
    {
     "data": {
      "image/png": "[encoded data removed]",
      "text/plain": [
       "<Figure size 1200x600 with 1 Axes>"
      ]
     },
     "metadata": {},
     "output_type": "display_data"
    }
   ],
   "source": [
    "# Count the frequency of each genre\n",
    "genre_counts = merged_df['genres'].value_counts()\n",
    "\n",
    "# Create the plot\n",
    "plt.figure(figsize=(12, 6))\n",
    "sns.barplot(x=genre_counts.index, y=genre_counts.values, palette=\"viridis\")\n",
    "\n",
    "# Customize the plot\n",
    "plt.xticks(rotation=90)\n",
    "plt.xlabel(\"Genres\")\n",
    "plt.ylabel(\"Movie Count\")\n",
    "plt.title(\"Distribution of Movie Genres\");"
   ]
  },
  {
   "cell_type": "code",
   "execution_count": 62,
   "id": "c745dbe2-ccbe-4ccf-9e38-5533b99e0b30",
   "metadata": {},
   "outputs": [
    {
     "data": {
      "text/plain": [
       "genres\n",
       "Drama        41928\n",
       "Comedy       39053\n",
       "Action       30635\n",
       "Thriller     26452\n",
       "Adventure    24161\n",
       "Name: rating, dtype: int64"
      ]
     },
     "execution_count": 62,
     "metadata": {},
     "output_type": "execute_result"
    }
   ],
   "source": [
    "## What types of movies (genres, ratings, release years) are most frequently rated?\n",
    "\n",
    "# Group by genres and count the number of ratings for each genre\n",
    "most_frequently_rated = merged_df.groupby('genres')['rating'].count().sort_values(ascending=False)\n",
    "\n",
    "# Display the top genres with the most ratings\n",
    "most_frequently_rated.head()\n"
   ]
  },
  {
   "cell_type": "code",
   "execution_count": 64,
   "id": "0efb7d98-3fa3-4347-a4dc-991cb9ff1cff",
   "metadata": {},
   "outputs": [
    {
     "data": {
      "image/png": "[encoded data removed]",
      "text/plain": [
       "<Figure size 1200x600 with 1 Axes>"
      ]
     },
     "metadata": {},
     "output_type": "display_data"
    }
   ],
   "source": [
    "# Plotting the count of ratings by genre.\n",
    "\n",
    "plt.figure(figsize=(12, 6))\n",
    "sns.barplot(x=most_frequently_rated.index, \n",
    "            y=most_frequently_rated.values, \n",
    "            palette=\"viridis\")\n",
    "\n",
    "# Customize the plot\n",
    "plt.xticks(rotation=90)  # Rotate genre labels for better readability\n",
    "plt.xlabel(\"Genre\")\n",
    "plt.ylabel(\"Number of Ratings\")\n",
    "plt.title(\"Distribution of Movie Ratings by Genre\")\n",
    "plt.show()\n"
   ]
  },
  {
   "cell_type": "markdown",
   "id": "0882a034-e29b-4fb5-90ab-2e93b83a4cc3",
   "metadata": {},
   "source": [
    "Drama movies clearly have the most ratings, followed in close second by comedy third by action. We can consider these genres to have the highest levels of user engagement. Unsurprisingly, Documentary, Film-Noir, and 'no genres listed' comprise the bottom of our dataset. "
   ]
  },
  {
   "cell_type": "code",
   "execution_count": 65,
   "id": "2eba160d-74c8-4f4b-b5df-e20b3e7a0fa6",
   "metadata": {},
   "outputs": [],
   "source": [
    "# Grouping by the size of ratings by day of week and by time of day to see when our most user activity is, on a weekly basis.\n",
    "ratings_count = ratings_df.groupby(['day_of_week', 'time_of_day']).size().reset_index(name='count')"
   ]
  },
  {
   "cell_type": "code",
   "execution_count": 40,
   "id": "36c38a2e-f341-418d-83ef-27a1eb3c5031",
   "metadata": {},
   "outputs": [],
   "source": [
    "#Creating a function to plot the activity of our users by their most active times. \n",
    "\n",
    "def plot_activity_all_days(df):\n",
    "    # Define the order of the days of the week\n",
    "    day_order = ['Monday', 'Tuesday', 'Wednesday', 'Thursday', 'Friday', 'Saturday', 'Sunday']\n",
    "    \n",
    "    # Create a color palette for the lines (7 distinct colors for each day)\n",
    "    colors = sns.color_palette(\"tab10\", n_colors=7)\n",
    "    \n",
    "    # Create a figure for the plot\n",
    "    plt.figure(figsize=(12, 6))\n",
    "    \n",
    "    # Loop through each day of the week and plot its data\n",
    "    for i, day in enumerate(day_order):\n",
    "        # Filter the data for the current day\n",
    "        day_data = df[df['day_of_week'] == day]\n",
    "        \n",
    "        # Ensure 'timestamp' is in datetime format\n",
    "        day_data['timestamp'] = pd.to_datetime(day_data['timestamp'], unit='s')\n",
    "        \n",
    "        # Extract hour of the day\n",
    "        day_data['hour_of_day'] = day_data['timestamp'].dt.hour\n",
    "        \n",
    "        # Aggregate counts per hour\n",
    "        day_count = day_data.groupby('hour_of_day').size().reset_index(name='count')\n",
    "        \n",
    "        # Plot the data for the current day with a unique color\n",
    "        sns.lineplot(x='hour_of_day', y='count', data=day_count, marker='o', color=colors[i], label=day)\n",
    "    \n",
    "    # Set labels and title\n",
    "    plt.xlabel(\"Hour of the Day\")\n",
    "    plt.ylabel(\"Number of Ratings\")\n",
    "    plt.title(\"User Activity by Hour for Each Day of the Week\")\n",
    "    \n",
    "    # Ensure x-axis ticks show all hours (0-23)\n",
    "    plt.xlim(0, 23)\n",
    "    plt.xticks(range(0, 24))\n",
    "    \n",
    "    # Show the legend to differentiate days\n",
    "    plt.legend(title='Day of the Week');"
   ]
  },
  {
   "cell_type": "code",
   "execution_count": 69,
   "id": "e269f9ba-7d08-4dff-82f6-303d1c1992ef",
   "metadata": {},
   "outputs": [
    {
     "data": {
      "image/png": "[encoded data removed]",
      "text/plain": [
       "<Figure size 1200x600 with 1 Axes>"
      ]
     },
     "metadata": {},
     "output_type": "display_data"
    }
   ],
   "source": [
    "plot_activity_all_days(ratings_df)"
   ]
  },
  {
   "cell_type": "markdown",
   "id": "b7fbc993-31e7-4e15-b6b4-73f653b1883a",
   "metadata": {},
   "source": [
    "Are there specific times or days when users are more active on the platform?\n",
    "While the plot may not be the most legible, we can observe the following trends in user activity:\n",
    "\n",
    "Evening Engagement: User activity tends to peak in the evenings, particularly on weekend nights, when users remain engaged much later than on weekdays.\n",
    "\n",
    "Low Engagement Hours: There is a noticeable dip in activity between 5 AM and 2 PM, indicating a period of lower user engagement.\n",
    "\n",
    "Friday and Sunday Nights: These are the most active times for users, with significant spikes in activity, especially on Friday nights.\n",
    "Wednesday and Thursday Mornings: These mornings appear to be the least active periods for user engagement."
   ]
  },
  {
   "cell_type": "markdown",
   "id": "1e09f830-93c9-4761-a7a8-e32555f6b304",
   "metadata": {},
   "source": [
    "## Actionable Insight:\n",
    "Friday nights are unsurprisingly our most active time for user engagement, so we should find a way to capitalize on this peak activity. One potential strategy could be a social media campaign centered around a \"Friday Night Watch Party.\"\n",
    "\n",
    "Users could be encouraged to tag us in their social media posts while rating and reviewing movies they've watched on our streaming service. Our social media team could then repost the best submissions, fostering community engagement and promoting the platform."
   ]
  },
  {
   "cell_type": "code",
   "execution_count": 41,
   "id": "fec7c964-5e54-4d8e-85b9-9d708f6c398d",
   "metadata": {},
   "outputs": [
    {
     "data": {
      "text/html": [
       "<div>\n",
       "<style scoped>\n",
       "    .dataframe tbody tr th:only-of-type {\n",
       "        vertical-align: middle;\n",
       "    }\n",
       "\n",
       "    .dataframe tbody tr th {\n",
       "        vertical-align: top;\n",
       "    }\n",
       "\n",
       "    .dataframe thead th {\n",
       "        text-align: right;\n",
       "    }\n",
       "</style>\n",
       "<table border=\"1\" class=\"dataframe\">\n",
       "  <thead>\n",
       "    <tr style=\"text-align: right;\">\n",
       "      <th></th>\n",
       "      <th>userId</th>\n",
       "      <th>movieId</th>\n",
       "      <th>rating_count</th>\n",
       "    </tr>\n",
       "  </thead>\n",
       "  <tbody>\n",
       "  </tbody>\n",
       "</table>\n",
       "</div>"
      ],
      "text/plain": [
       "Empty DataFrame\n",
       "Columns: [userId, movieId, rating_count]\n",
       "Index: []"
      ]
     },
     "execution_count": 41,
     "metadata": {},
     "output_type": "execute_result"
    }
   ],
   "source": [
    "# Checking if there are any users who have rated a movie more than once\n",
    "\n",
    "# Group by userId and movieId to count the number of ratings for each pair\n",
    "user_movie_ratings = ratings_df.groupby(['userId', 'movieId']).size().reset_index(name='rating_count')\n",
    "\n",
    "# Filter to find users who rated the same movie more than once\n",
    "multiple_ratings = user_movie_ratings[user_movie_ratings['rating_count'] > 1]\n",
    "\n",
    "# Display the first few rows of users who rated the same movie more than once\n",
    "multiple_ratings.head()\n"
   ]
  },
  {
   "cell_type": "markdown",
   "id": "896e7734-1d2b-4e8c-b959-ba3382966e06",
   "metadata": {},
   "source": [
    "Our dataset includes no movies that a user has rated twice. "
   ]
  },
  {
   "cell_type": "markdown",
   "id": "e656b797-e429-4626-b158-5b404e297d19",
   "metadata": {},
   "source": [
    "What types of movies (genres, ratings, release years) are most frequently watched?"
   ]
  },
  {
   "cell_type": "code",
   "execution_count": 42,
   "id": "6526068f-2cde-4ca0-8be1-7ab9f3d23939",
   "metadata": {
    "scrolled": true
   },
   "outputs": [],
   "source": [
    "# creating our movies per genre dataset\n",
    "movies_per_genre = merged_df['genres'].value_counts().sort_values(ascending=True)"
   ]
  },
  {
   "cell_type": "code",
   "execution_count": 43,
   "id": "129dc90b-107d-4fbe-a3d5-b463535ab041",
   "metadata": {},
   "outputs": [
    {
     "data": {
      "image/png": "[encoded data removed]",
      "text/plain": [
       "<Figure size 1000x800 with 1 Axes>"
      ]
     },
     "metadata": {},
     "output_type": "display_data"
    }
   ],
   "source": [
    "# Building a plot of the frequency of movies per genre.\n",
    "plt.figure(figsize=(10,8))\n",
    "plt.barh(movies_per_genre.index, movies_per_genre.values, edgecolor='black', alpha=0.8)\n",
    "plt.xlabel(\"Genre\")\n",
    "plt.ylabel(\"Frequency\")\n",
    "plt.title(\"Distribution of Movie Ratings Per Genre\")\n",
    "plt.savefig('images/genre_freq.png', bbox_inches='tight', pad_inches= 0.2);"
   ]
  },
  {
   "cell_type": "code",
   "execution_count": 75,
   "id": "72b5eadf-81a9-49da-975b-6cc1f55bd065",
   "metadata": {},
   "outputs": [
    {
     "data": {
      "image/png": "[encoded data removed]",
      "text/plain": [
       "<Figure size 1000x800 with 1 Axes>"
      ]
     },
     "metadata": {},
     "output_type": "display_data"
    }
   ],
   "source": [
    "# Building a plot of the frequency of ratings per genre.\n",
    "plt.figure(figsize=(10,8))\n",
    "plt.barh(most_frequently_rated.index, most_frequently_rated.values, edgecolor='black', alpha=0.8)\n",
    "plt.xlabel(\"Genre\")\n",
    "plt.ylabel(\"Frequency\")\n",
    "plt.title(\"Distribution of Ratings\");"
   ]
  },
  {
   "cell_type": "code",
   "execution_count": null,
   "id": "fb19564d-bc28-4e66-b93e-313e9e1cb315",
   "metadata": {},
   "outputs": [],
   "source": []
  },
  {
   "cell_type": "code",
   "execution_count": 76,
   "id": "c3453442-e12e-4bee-be59-ee8e7bb1a554",
   "metadata": {},
   "outputs": [],
   "source": [
    "highest_rated = merged_df.groupby('genres')['rating'].mean().sort_values(ascending=True)"
   ]
  },
  {
   "cell_type": "code",
   "execution_count": 77,
   "id": "b6ce6101-bd47-4f70-a76d-3c4e52d0d997",
   "metadata": {},
   "outputs": [
    {
     "data": {
      "image/png": "[encoded data removed]",
      "text/plain": [
       "<Figure size 1000x800 with 1 Axes>"
      ]
     },
     "metadata": {},
     "output_type": "display_data"
    }
   ],
   "source": [
    "# Building a plot of the mean ratings of the movies that are in the genres with the highest number of movies rated.\n",
    "plt.figure(figsize=(10,8))\n",
    "plt.barh(highest_rated.index, highest_rated.values, edgecolor='black', alpha=0.8)\n",
    "plt.xlabel(\"Mean Rating\")\n",
    "plt.ylabel(\"Genre\")\n",
    "plt.title(\"Mean Score of Ratings Per Genre\");"
   ]
  },
  {
   "cell_type": "markdown",
   "id": "0fe4ae9f-f527-47ea-96fe-cd3c0ae87917",
   "metadata": {},
   "source": [
    "It makes sense that the 'no genres' category has the highest mean rating, as it has the fewest number of ratings (the same applies to the documentary category).\n",
    "\n",
    "Beyond this, we can observe that the drama and comedy categories have the highest mean ratings, indicating strong user preference in these genres."
   ]
  },
  {
   "cell_type": "code",
   "execution_count": 78,
   "id": "02e69ce0-b427-4011-ae8f-e6955d2d02e1",
   "metadata": {},
   "outputs": [],
   "source": [
    "# What are the mean highest-rated movies by the number of reviews?"
   ]
  },
  {
   "cell_type": "code",
   "execution_count": 44,
   "id": "804dff55-d660-4cb2-95b3-2a888e99747e",
   "metadata": {},
   "outputs": [],
   "source": [
    "movie_rating_counts = merged_df.groupby('movieId')['rating'].size()"
   ]
  },
  {
   "cell_type": "code",
   "execution_count": 45,
   "id": "ae91a53b-c59d-4d5b-a3f3-36c5d63d90f2",
   "metadata": {},
   "outputs": [
    {
     "data": {
      "text/plain": [
       "movieId\n",
       "1    1075\n",
       "2     330\n",
       "3     104\n",
       "4      21\n",
       "5      49\n",
       "Name: rating, dtype: int64"
      ]
     },
     "execution_count": 45,
     "metadata": {},
     "output_type": "execute_result"
    }
   ],
   "source": [
    "movie_rating_counts.head()"
   ]
  },
  {
   "cell_type": "code",
   "execution_count": 46,
   "id": "dea81851-454c-46b8-ad7c-da72fd14b44a",
   "metadata": {},
   "outputs": [],
   "source": [
    "avg_number_reviews = np.mean(movie_rating_counts)"
   ]
  },
  {
   "cell_type": "code",
   "execution_count": 47,
   "id": "2b460b64-b220-40ed-9eb5-6a51ca629ab7",
   "metadata": {},
   "outputs": [
    {
     "data": {
      "text/plain": [
       "28.17881338534182"
      ]
     },
     "execution_count": 47,
     "metadata": {},
     "output_type": "execute_result"
    }
   ],
   "source": [
    "avg_number_reviews"
   ]
  },
  {
   "cell_type": "code",
   "execution_count": 48,
   "id": "6f5c907d-a2fd-448c-95d5-b2ff2e2a2bf6",
   "metadata": {},
   "outputs": [],
   "source": [
    "#Any movie with less than this amount we will cut for our 'top_rated_movies' dataset."
   ]
  },
  {
   "cell_type": "code",
   "execution_count": 49,
   "id": "93922f20-0d15-4d4e-969d-05a6529fffd8",
   "metadata": {},
   "outputs": [],
   "source": [
    "count_df = movie_rating_counts[movie_rating_counts > avg_number_reviews]"
   ]
  },
  {
   "cell_type": "code",
   "execution_count": 50,
   "id": "30c2e4e7-3e76-4477-a69a-fe29cbc768f7",
   "metadata": {},
   "outputs": [
    {
     "data": {
      "text/plain": [
       "movieId\n",
       "1    1075\n",
       "2     330\n",
       "3     104\n",
       "5      49\n",
       "6     306\n",
       "Name: rating, dtype: int64"
      ]
     },
     "execution_count": 50,
     "metadata": {},
     "output_type": "execute_result"
    }
   ],
   "source": [
    "count_df.head()"
   ]
  },
  {
   "cell_type": "code",
   "execution_count": 51,
   "id": "d5f57043-f50b-4560-9429-31ce6c9f71ce",
   "metadata": {},
   "outputs": [
    {
     "data": {
      "text/html": [
       "<div>\n",
       "<style scoped>\n",
       "    .dataframe tbody tr th:only-of-type {\n",
       "        vertical-align: middle;\n",
       "    }\n",
       "\n",
       "    .dataframe tbody tr th {\n",
       "        vertical-align: top;\n",
       "    }\n",
       "\n",
       "    .dataframe thead th {\n",
       "        text-align: right;\n",
       "    }\n",
       "</style>\n",
       "<table border=\"1\" class=\"dataframe\">\n",
       "  <thead>\n",
       "    <tr style=\"text-align: right;\">\n",
       "      <th></th>\n",
       "      <th>movieId</th>\n",
       "      <th>title</th>\n",
       "      <th>genres</th>\n",
       "      <th>year</th>\n",
       "    </tr>\n",
       "  </thead>\n",
       "  <tbody>\n",
       "    <tr>\n",
       "      <th>0</th>\n",
       "      <td>1</td>\n",
       "      <td>Toy Story</td>\n",
       "      <td>[Adventure, Animation, Children, Comedy, Fantasy]</td>\n",
       "      <td>1995</td>\n",
       "    </tr>\n",
       "    <tr>\n",
       "      <th>1</th>\n",
       "      <td>2</td>\n",
       "      <td>Jumanji</td>\n",
       "      <td>[Adventure, Children, Fantasy]</td>\n",
       "      <td>1995</td>\n",
       "    </tr>\n",
       "    <tr>\n",
       "      <th>2</th>\n",
       "      <td>3</td>\n",
       "      <td>Grumpier Old Men</td>\n",
       "      <td>[Comedy, Romance]</td>\n",
       "      <td>1995</td>\n",
       "    </tr>\n",
       "    <tr>\n",
       "      <th>3</th>\n",
       "      <td>4</td>\n",
       "      <td>Waiting to Exhale</td>\n",
       "      <td>[Comedy, Drama, Romance]</td>\n",
       "      <td>1995</td>\n",
       "    </tr>\n",
       "    <tr>\n",
       "      <th>4</th>\n",
       "      <td>5</td>\n",
       "      <td>Father of the Bride Part II</td>\n",
       "      <td>[Comedy]</td>\n",
       "      <td>1995</td>\n",
       "    </tr>\n",
       "  </tbody>\n",
       "</table>\n",
       "</div>"
      ],
      "text/plain": [
       "   movieId                        title  \\\n",
       "0        1                    Toy Story   \n",
       "1        2                      Jumanji   \n",
       "2        3             Grumpier Old Men   \n",
       "3        4            Waiting to Exhale   \n",
       "4        5  Father of the Bride Part II   \n",
       "\n",
       "                                              genres  year  \n",
       "0  [Adventure, Animation, Children, Comedy, Fantasy]  1995  \n",
       "1                     [Adventure, Children, Fantasy]  1995  \n",
       "2                                  [Comedy, Romance]  1995  \n",
       "3                           [Comedy, Drama, Romance]  1995  \n",
       "4                                           [Comedy]  1995  "
      ]
     },
     "execution_count": 51,
     "metadata": {},
     "output_type": "execute_result"
    }
   ],
   "source": [
    "movies_df.head()"
   ]
  },
  {
   "cell_type": "code",
   "execution_count": 52,
   "id": "f97ff2d9-4414-46fc-a42a-327a5d805392",
   "metadata": {},
   "outputs": [],
   "source": [
    "#join count_df with movies_df, join with ratings_df. "
   ]
  },
  {
   "cell_type": "code",
   "execution_count": 53,
   "id": "96d86f69-f752-401b-926b-bf3e56730f4e",
   "metadata": {},
   "outputs": [],
   "source": [
    "grouped_ratings_df = ratings_df.groupby('movieId')['rating'].mean().reset_index()"
   ]
  },
  {
   "cell_type": "code",
   "execution_count": 54,
   "id": "186942eb-0cc6-4983-bda6-0b72d14cf0a4",
   "metadata": {},
   "outputs": [
    {
     "data": {
      "text/html": [
       "<div>\n",
       "<style scoped>\n",
       "    .dataframe tbody tr th:only-of-type {\n",
       "        vertical-align: middle;\n",
       "    }\n",
       "\n",
       "    .dataframe tbody tr th {\n",
       "        vertical-align: top;\n",
       "    }\n",
       "\n",
       "    .dataframe thead th {\n",
       "        text-align: right;\n",
       "    }\n",
       "</style>\n",
       "<table border=\"1\" class=\"dataframe\">\n",
       "  <thead>\n",
       "    <tr style=\"text-align: right;\">\n",
       "      <th></th>\n",
       "      <th>movieId</th>\n",
       "      <th>rating</th>\n",
       "    </tr>\n",
       "  </thead>\n",
       "  <tbody>\n",
       "    <tr>\n",
       "      <th>0</th>\n",
       "      <td>1</td>\n",
       "      <td>3.920930</td>\n",
       "    </tr>\n",
       "    <tr>\n",
       "      <th>1</th>\n",
       "      <td>2</td>\n",
       "      <td>3.431818</td>\n",
       "    </tr>\n",
       "    <tr>\n",
       "      <th>2</th>\n",
       "      <td>3</td>\n",
       "      <td>3.259615</td>\n",
       "    </tr>\n",
       "    <tr>\n",
       "      <th>3</th>\n",
       "      <td>4</td>\n",
       "      <td>2.357143</td>\n",
       "    </tr>\n",
       "    <tr>\n",
       "      <th>4</th>\n",
       "      <td>5</td>\n",
       "      <td>3.071429</td>\n",
       "    </tr>\n",
       "  </tbody>\n",
       "</table>\n",
       "</div>"
      ],
      "text/plain": [
       "   movieId    rating\n",
       "0        1  3.920930\n",
       "1        2  3.431818\n",
       "2        3  3.259615\n",
       "3        4  2.357143\n",
       "4        5  3.071429"
      ]
     },
     "execution_count": 54,
     "metadata": {},
     "output_type": "execute_result"
    }
   ],
   "source": [
    "grouped_ratings_df.head()"
   ]
  },
  {
   "cell_type": "code",
   "execution_count": 55,
   "id": "9f315b47-fc39-4a28-87af-f6bb75416ad7",
   "metadata": {},
   "outputs": [],
   "source": [
    "grouped_counted_df = grouped_ratings_df.merge(movies_df, left_on='movieId', right_on='movieId')"
   ]
  },
  {
   "cell_type": "code",
   "execution_count": 56,
   "id": "b1a4bdd3-2d50-4f4d-9cb8-a34c19068bd1",
   "metadata": {},
   "outputs": [
    {
     "data": {
      "text/html": [
       "<div>\n",
       "<style scoped>\n",
       "    .dataframe tbody tr th:only-of-type {\n",
       "        vertical-align: middle;\n",
       "    }\n",
       "\n",
       "    .dataframe tbody tr th {\n",
       "        vertical-align: top;\n",
       "    }\n",
       "\n",
       "    .dataframe thead th {\n",
       "        text-align: right;\n",
       "    }\n",
       "</style>\n",
       "<table border=\"1\" class=\"dataframe\">\n",
       "  <thead>\n",
       "    <tr style=\"text-align: right;\">\n",
       "      <th></th>\n",
       "      <th>movieId</th>\n",
       "      <th>rating</th>\n",
       "      <th>title</th>\n",
       "      <th>genres</th>\n",
       "      <th>year</th>\n",
       "    </tr>\n",
       "  </thead>\n",
       "  <tbody>\n",
       "    <tr>\n",
       "      <th>0</th>\n",
       "      <td>1</td>\n",
       "      <td>3.920930</td>\n",
       "      <td>Toy Story</td>\n",
       "      <td>[Adventure, Animation, Children, Comedy, Fantasy]</td>\n",
       "      <td>1995</td>\n",
       "    </tr>\n",
       "    <tr>\n",
       "      <th>1</th>\n",
       "      <td>2</td>\n",
       "      <td>3.431818</td>\n",
       "      <td>Jumanji</td>\n",
       "      <td>[Adventure, Children, Fantasy]</td>\n",
       "      <td>1995</td>\n",
       "    </tr>\n",
       "    <tr>\n",
       "      <th>2</th>\n",
       "      <td>3</td>\n",
       "      <td>3.259615</td>\n",
       "      <td>Grumpier Old Men</td>\n",
       "      <td>[Comedy, Romance]</td>\n",
       "      <td>1995</td>\n",
       "    </tr>\n",
       "    <tr>\n",
       "      <th>3</th>\n",
       "      <td>4</td>\n",
       "      <td>2.357143</td>\n",
       "      <td>Waiting to Exhale</td>\n",
       "      <td>[Comedy, Drama, Romance]</td>\n",
       "      <td>1995</td>\n",
       "    </tr>\n",
       "    <tr>\n",
       "      <th>4</th>\n",
       "      <td>5</td>\n",
       "      <td>3.071429</td>\n",
       "      <td>Father of the Bride Part II</td>\n",
       "      <td>[Comedy]</td>\n",
       "      <td>1995</td>\n",
       "    </tr>\n",
       "  </tbody>\n",
       "</table>\n",
       "</div>"
      ],
      "text/plain": [
       "   movieId    rating                        title  \\\n",
       "0        1  3.920930                    Toy Story   \n",
       "1        2  3.431818                      Jumanji   \n",
       "2        3  3.259615             Grumpier Old Men   \n",
       "3        4  2.357143            Waiting to Exhale   \n",
       "4        5  3.071429  Father of the Bride Part II   \n",
       "\n",
       "                                              genres  year  \n",
       "0  [Adventure, Animation, Children, Comedy, Fantasy]  1995  \n",
       "1                     [Adventure, Children, Fantasy]  1995  \n",
       "2                                  [Comedy, Romance]  1995  \n",
       "3                           [Comedy, Drama, Romance]  1995  \n",
       "4                                           [Comedy]  1995  "
      ]
     },
     "execution_count": 56,
     "metadata": {},
     "output_type": "execute_result"
    }
   ],
   "source": [
    "grouped_counted_df.head()"
   ]
  },
  {
   "cell_type": "code",
   "execution_count": 57,
   "id": "3cca5a14-9343-408b-a79d-a088d2ee2ff7",
   "metadata": {},
   "outputs": [],
   "source": [
    "filtered_grouped_ratings_df = grouped_counted_df[grouped_counted_df['movieId'].isin(count_df.index)]"
   ]
  },
  {
   "cell_type": "code",
   "execution_count": 58,
   "id": "559ee910-68a2-49c6-9dce-d1c0143591d9",
   "metadata": {},
   "outputs": [],
   "source": [
    "top_rated_movies = filtered_grouped_ratings_df[filtered_grouped_ratings_df['rating'] > 3.5]"
   ]
  },
  {
   "cell_type": "code",
   "execution_count": 59,
   "id": "16794e26-7219-4b0c-8870-5ff52defe135",
   "metadata": {
    "scrolled": true
   },
   "outputs": [
    {
     "data": {
      "text/html": [
       "<div>\n",
       "<style scoped>\n",
       "    .dataframe tbody tr th:only-of-type {\n",
       "        vertical-align: middle;\n",
       "    }\n",
       "\n",
       "    .dataframe tbody tr th {\n",
       "        vertical-align: top;\n",
       "    }\n",
       "\n",
       "    .dataframe thead th {\n",
       "        text-align: right;\n",
       "    }\n",
       "</style>\n",
       "<table border=\"1\" class=\"dataframe\">\n",
       "  <thead>\n",
       "    <tr style=\"text-align: right;\">\n",
       "      <th></th>\n",
       "      <th>movieId</th>\n",
       "      <th>rating</th>\n",
       "      <th>title</th>\n",
       "      <th>genres</th>\n",
       "      <th>year</th>\n",
       "    </tr>\n",
       "  </thead>\n",
       "  <tbody>\n",
       "    <tr>\n",
       "      <th>917</th>\n",
       "      <td>1217</td>\n",
       "      <td>4.433333</td>\n",
       "      <td>Ran</td>\n",
       "      <td>[Drama, War]</td>\n",
       "      <td>1985</td>\n",
       "    </tr>\n",
       "    <tr>\n",
       "      <th>277</th>\n",
       "      <td>318</td>\n",
       "      <td>4.429022</td>\n",
       "      <td>Shawshank Redemption, The</td>\n",
       "      <td>[Crime, Drama]</td>\n",
       "      <td>1994</td>\n",
       "    </tr>\n",
       "    <tr>\n",
       "      <th>1406</th>\n",
       "      <td>1927</td>\n",
       "      <td>4.350000</td>\n",
       "      <td>All Quiet on the Western Front</td>\n",
       "      <td>[Action, Drama, War]</td>\n",
       "      <td>1930</td>\n",
       "    </tr>\n",
       "    <tr>\n",
       "      <th>704</th>\n",
       "      <td>922</td>\n",
       "      <td>4.333333</td>\n",
       "      <td>Sunset Blvd. (a.k.a. Sunset Boulevard)</td>\n",
       "      <td>[Drama, Film-Noir, Romance]</td>\n",
       "      <td>1950</td>\n",
       "    </tr>\n",
       "    <tr>\n",
       "      <th>2565</th>\n",
       "      <td>3435</td>\n",
       "      <td>4.323529</td>\n",
       "      <td>Double Indemnity</td>\n",
       "      <td>[Crime, Drama, Film-Noir]</td>\n",
       "      <td>1944</td>\n",
       "    </tr>\n",
       "    <tr>\n",
       "      <th>680</th>\n",
       "      <td>898</td>\n",
       "      <td>4.310345</td>\n",
       "      <td>Philadelphia Story, The</td>\n",
       "      <td>[Comedy, Drama, Romance]</td>\n",
       "      <td>1940</td>\n",
       "    </tr>\n",
       "    <tr>\n",
       "      <th>909</th>\n",
       "      <td>1209</td>\n",
       "      <td>4.305556</td>\n",
       "      <td>Once Upon a Time in the West (C'era una volta ...</td>\n",
       "      <td>[Action, Drama, Western]</td>\n",
       "      <td>1968</td>\n",
       "    </tr>\n",
       "    <tr>\n",
       "      <th>6590</th>\n",
       "      <td>55721</td>\n",
       "      <td>4.300000</td>\n",
       "      <td>Elite Squad (Tropa de Elite)</td>\n",
       "      <td>[Action, Crime, Drama, Thriller]</td>\n",
       "      <td>2007</td>\n",
       "    </tr>\n",
       "    <tr>\n",
       "      <th>905</th>\n",
       "      <td>1204</td>\n",
       "      <td>4.300000</td>\n",
       "      <td>Lawrence of Arabia</td>\n",
       "      <td>[Adventure, Drama, War]</td>\n",
       "      <td>1962</td>\n",
       "    </tr>\n",
       "    <tr>\n",
       "      <th>210</th>\n",
       "      <td>246</td>\n",
       "      <td>4.293103</td>\n",
       "      <td>Hoop Dreams</td>\n",
       "      <td>[Documentary]</td>\n",
       "      <td>1994</td>\n",
       "    </tr>\n",
       "    <tr>\n",
       "      <th>659</th>\n",
       "      <td>858</td>\n",
       "      <td>4.289062</td>\n",
       "      <td>Godfather, The</td>\n",
       "      <td>[Crime, Drama]</td>\n",
       "      <td>1972</td>\n",
       "    </tr>\n",
       "    <tr>\n",
       "      <th>934</th>\n",
       "      <td>1235</td>\n",
       "      <td>4.288462</td>\n",
       "      <td>Harold and Maude</td>\n",
       "      <td>[Comedy, Drama, Romance]</td>\n",
       "      <td>1971</td>\n",
       "    </tr>\n",
       "    <tr>\n",
       "      <th>9445</th>\n",
       "      <td>168252</td>\n",
       "      <td>4.280000</td>\n",
       "      <td>Logan</td>\n",
       "      <td>[Action, Sci-Fi]</td>\n",
       "      <td>2017</td>\n",
       "    </tr>\n",
       "    <tr>\n",
       "      <th>6842</th>\n",
       "      <td>62336</td>\n",
       "      <td>4.277778</td>\n",
       "      <td>FLCL</td>\n",
       "      <td>[Animation, Comedy, Fantasy, Sci-Fi]</td>\n",
       "      <td>2000</td>\n",
       "    </tr>\n",
       "    <tr>\n",
       "      <th>2224</th>\n",
       "      <td>2959</td>\n",
       "      <td>4.272936</td>\n",
       "      <td>Fight Club</td>\n",
       "      <td>[Action, Crime, Drama, Thriller]</td>\n",
       "      <td>1999</td>\n",
       "    </tr>\n",
       "    <tr>\n",
       "      <th>974</th>\n",
       "      <td>1276</td>\n",
       "      <td>4.271930</td>\n",
       "      <td>Cool Hand Luke</td>\n",
       "      <td>[Drama]</td>\n",
       "      <td>1967</td>\n",
       "    </tr>\n",
       "    <tr>\n",
       "      <th>602</th>\n",
       "      <td>750</td>\n",
       "      <td>4.268041</td>\n",
       "      <td>Dr. Strangelove or: How I Learned to Stop Worr...</td>\n",
       "      <td>[Comedy, War]</td>\n",
       "      <td>1964</td>\n",
       "    </tr>\n",
       "    <tr>\n",
       "      <th>946</th>\n",
       "      <td>1248</td>\n",
       "      <td>4.264706</td>\n",
       "      <td>Touch of Evil</td>\n",
       "      <td>[Crime, Film-Noir, Thriller]</td>\n",
       "      <td>1958</td>\n",
       "    </tr>\n",
       "    <tr>\n",
       "      <th>686</th>\n",
       "      <td>904</td>\n",
       "      <td>4.261905</td>\n",
       "      <td>Rear Window</td>\n",
       "      <td>[Mystery, Thriller]</td>\n",
       "      <td>1954</td>\n",
       "    </tr>\n",
       "    <tr>\n",
       "      <th>921</th>\n",
       "      <td>1221</td>\n",
       "      <td>4.259690</td>\n",
       "      <td>Godfather: Part II, The</td>\n",
       "      <td>[Crime, Drama]</td>\n",
       "      <td>1974</td>\n",
       "    </tr>\n",
       "  </tbody>\n",
       "</table>\n",
       "</div>"
      ],
      "text/plain": [
       "      movieId    rating                                              title  \\\n",
       "917      1217  4.433333                                                Ran   \n",
       "277       318  4.429022                          Shawshank Redemption, The   \n",
       "1406     1927  4.350000                     All Quiet on the Western Front   \n",
       "704       922  4.333333             Sunset Blvd. (a.k.a. Sunset Boulevard)   \n",
       "2565     3435  4.323529                                   Double Indemnity   \n",
       "680       898  4.310345                            Philadelphia Story, The   \n",
       "909      1209  4.305556  Once Upon a Time in the West (C'era una volta ...   \n",
       "6590    55721  4.300000                       Elite Squad (Tropa de Elite)   \n",
       "905      1204  4.300000                                 Lawrence of Arabia   \n",
       "210       246  4.293103                                        Hoop Dreams   \n",
       "659       858  4.289062                                     Godfather, The   \n",
       "934      1235  4.288462                                   Harold and Maude   \n",
       "9445   168252  4.280000                                              Logan   \n",
       "6842    62336  4.277778                                               FLCL   \n",
       "2224     2959  4.272936                                         Fight Club   \n",
       "974      1276  4.271930                                     Cool Hand Luke   \n",
       "602       750  4.268041  Dr. Strangelove or: How I Learned to Stop Worr...   \n",
       "946      1248  4.264706                                      Touch of Evil   \n",
       "686       904  4.261905                                        Rear Window   \n",
       "921      1221  4.259690                            Godfather: Part II, The   \n",
       "\n",
       "                                    genres  year  \n",
       "917                           [Drama, War]  1985  \n",
       "277                         [Crime, Drama]  1994  \n",
       "1406                  [Action, Drama, War]  1930  \n",
       "704            [Drama, Film-Noir, Romance]  1950  \n",
       "2565             [Crime, Drama, Film-Noir]  1944  \n",
       "680               [Comedy, Drama, Romance]  1940  \n",
       "909               [Action, Drama, Western]  1968  \n",
       "6590      [Action, Crime, Drama, Thriller]  2007  \n",
       "905                [Adventure, Drama, War]  1962  \n",
       "210                          [Documentary]  1994  \n",
       "659                         [Crime, Drama]  1972  \n",
       "934               [Comedy, Drama, Romance]  1971  \n",
       "9445                      [Action, Sci-Fi]  2017  \n",
       "6842  [Animation, Comedy, Fantasy, Sci-Fi]  2000  \n",
       "2224      [Action, Crime, Drama, Thriller]  1999  \n",
       "974                                [Drama]  1967  \n",
       "602                          [Comedy, War]  1964  \n",
       "946           [Crime, Film-Noir, Thriller]  1958  \n",
       "686                    [Mystery, Thriller]  1954  \n",
       "921                         [Crime, Drama]  1974  "
      ]
     },
     "execution_count": 59,
     "metadata": {},
     "output_type": "execute_result"
    }
   ],
   "source": [
    "top_rated_movies.sort_values(by='rating', ascending=False).head(20)"
   ]
  },
  {
   "cell_type": "code",
   "execution_count": 60,
   "id": "8bc3de94-41d3-4af4-b381-b3f97a69590a",
   "metadata": {
    "scrolled": true
   },
   "outputs": [
    {
     "data": {
      "text/html": [
       "<div>\n",
       "<style scoped>\n",
       "    .dataframe tbody tr th:only-of-type {\n",
       "        vertical-align: middle;\n",
       "    }\n",
       "\n",
       "    .dataframe tbody tr th {\n",
       "        vertical-align: top;\n",
       "    }\n",
       "\n",
       "    .dataframe thead th {\n",
       "        text-align: right;\n",
       "    }\n",
       "</style>\n",
       "<table border=\"1\" class=\"dataframe\">\n",
       "  <thead>\n",
       "    <tr style=\"text-align: right;\">\n",
       "      <th></th>\n",
       "      <th>movieId</th>\n",
       "      <th>rating</th>\n",
       "      <th>title</th>\n",
       "      <th>genres</th>\n",
       "      <th>year</th>\n",
       "    </tr>\n",
       "  </thead>\n",
       "  <tbody>\n",
       "    <tr>\n",
       "      <th>7638</th>\n",
       "      <td>88448</td>\n",
       "      <td>5.0</td>\n",
       "      <td>Paper Birds (Pájaros de papel)</td>\n",
       "      <td>[Comedy, Drama]</td>\n",
       "      <td>2010</td>\n",
       "    </tr>\n",
       "    <tr>\n",
       "      <th>8089</th>\n",
       "      <td>100556</td>\n",
       "      <td>5.0</td>\n",
       "      <td>Act of Killing, The</td>\n",
       "      <td>[Documentary]</td>\n",
       "      <td>2012</td>\n",
       "    </tr>\n",
       "    <tr>\n",
       "      <th>9065</th>\n",
       "      <td>143031</td>\n",
       "      <td>5.0</td>\n",
       "      <td>Jump In!</td>\n",
       "      <td>[Comedy, Drama, Romance]</td>\n",
       "      <td>2007</td>\n",
       "    </tr>\n",
       "    <tr>\n",
       "      <th>9076</th>\n",
       "      <td>143511</td>\n",
       "      <td>5.0</td>\n",
       "      <td>Human</td>\n",
       "      <td>[Documentary]</td>\n",
       "      <td>2015</td>\n",
       "    </tr>\n",
       "    <tr>\n",
       "      <th>9078</th>\n",
       "      <td>143559</td>\n",
       "      <td>5.0</td>\n",
       "      <td>L.A. Slasher</td>\n",
       "      <td>[Comedy, Crime, Fantasy]</td>\n",
       "      <td>2015</td>\n",
       "    </tr>\n",
       "    <tr>\n",
       "      <th>4245</th>\n",
       "      <td>6201</td>\n",
       "      <td>5.0</td>\n",
       "      <td>Lady Jane</td>\n",
       "      <td>[Drama, Romance]</td>\n",
       "      <td>1986</td>\n",
       "    </tr>\n",
       "    <tr>\n",
       "      <th>8136</th>\n",
       "      <td>102217</td>\n",
       "      <td>5.0</td>\n",
       "      <td>Bill Hicks: Revelations</td>\n",
       "      <td>[Comedy]</td>\n",
       "      <td>1993</td>\n",
       "    </tr>\n",
       "    <tr>\n",
       "      <th>8130</th>\n",
       "      <td>102084</td>\n",
       "      <td>5.0</td>\n",
       "      <td>Justice League: Doom</td>\n",
       "      <td>[Action, Animation, Fantasy]</td>\n",
       "      <td>2012</td>\n",
       "    </tr>\n",
       "    <tr>\n",
       "      <th>4240</th>\n",
       "      <td>6192</td>\n",
       "      <td>5.0</td>\n",
       "      <td>Open Hearts (Elsker dig for evigt)</td>\n",
       "      <td>[Romance]</td>\n",
       "      <td>2002</td>\n",
       "    </tr>\n",
       "    <tr>\n",
       "      <th>9104</th>\n",
       "      <td>145994</td>\n",
       "      <td>5.0</td>\n",
       "      <td>Formula of Love</td>\n",
       "      <td>[Comedy]</td>\n",
       "      <td>1984</td>\n",
       "    </tr>\n",
       "    <tr>\n",
       "      <th>8097</th>\n",
       "      <td>100906</td>\n",
       "      <td>5.0</td>\n",
       "      <td>Maniac Cop 2</td>\n",
       "      <td>[Action, Horror, Thriller]</td>\n",
       "      <td>1990</td>\n",
       "    </tr>\n",
       "    <tr>\n",
       "      <th>9111</th>\n",
       "      <td>146662</td>\n",
       "      <td>5.0</td>\n",
       "      <td>Dragons: Gift of the Night Fury</td>\n",
       "      <td>[Adventure, Animation, Comedy]</td>\n",
       "      <td>2011</td>\n",
       "    </tr>\n",
       "    <tr>\n",
       "      <th>8056</th>\n",
       "      <td>99636</td>\n",
       "      <td>5.0</td>\n",
       "      <td>English Vinglish</td>\n",
       "      <td>[Comedy, Drama]</td>\n",
       "      <td>2012</td>\n",
       "    </tr>\n",
       "    <tr>\n",
       "      <th>5771</th>\n",
       "      <td>31522</td>\n",
       "      <td>5.0</td>\n",
       "      <td>Marriage of Maria Braun, The (Ehe der Maria Br...</td>\n",
       "      <td>[Drama]</td>\n",
       "      <td>1979</td>\n",
       "    </tr>\n",
       "    <tr>\n",
       "      <th>9113</th>\n",
       "      <td>146684</td>\n",
       "      <td>5.0</td>\n",
       "      <td>Cosmic Scrat-tastrophe</td>\n",
       "      <td>[Animation, Children, Comedy]</td>\n",
       "      <td>2015</td>\n",
       "    </tr>\n",
       "    <tr>\n",
       "      <th>9119</th>\n",
       "      <td>147196</td>\n",
       "      <td>5.0</td>\n",
       "      <td>The Girls</td>\n",
       "      <td>[Comedy, Romance]</td>\n",
       "      <td>1961</td>\n",
       "    </tr>\n",
       "    <tr>\n",
       "      <th>9120</th>\n",
       "      <td>147250</td>\n",
       "      <td>5.0</td>\n",
       "      <td>The Adventures of Sherlock Holmes and Doctor W...</td>\n",
       "      <td>[(no genres listed)]</td>\n",
       "      <td>NaN</td>\n",
       "    </tr>\n",
       "    <tr>\n",
       "      <th>9122</th>\n",
       "      <td>147286</td>\n",
       "      <td>5.0</td>\n",
       "      <td>The Adventures of Sherlock Holmes and Doctor W...</td>\n",
       "      <td>[Crime, Mystery]</td>\n",
       "      <td>1983</td>\n",
       "    </tr>\n",
       "    <tr>\n",
       "      <th>9123</th>\n",
       "      <td>147300</td>\n",
       "      <td>5.0</td>\n",
       "      <td>Adventures Of Sherlock Holmes And Dr. Watson: ...</td>\n",
       "      <td>[Crime, Mystery]</td>\n",
       "      <td>1986</td>\n",
       "    </tr>\n",
       "    <tr>\n",
       "      <th>9124</th>\n",
       "      <td>147326</td>\n",
       "      <td>5.0</td>\n",
       "      <td>The Adventures of Sherlock Holmes and Doctor W...</td>\n",
       "      <td>[Crime, Mystery]</td>\n",
       "      <td>1980</td>\n",
       "    </tr>\n",
       "  </tbody>\n",
       "</table>\n",
       "</div>"
      ],
      "text/plain": [
       "      movieId  rating                                              title  \\\n",
       "7638    88448     5.0                     Paper Birds (Pájaros de papel)   \n",
       "8089   100556     5.0                                Act of Killing, The   \n",
       "9065   143031     5.0                                           Jump In!   \n",
       "9076   143511     5.0                                              Human   \n",
       "9078   143559     5.0                                       L.A. Slasher   \n",
       "4245     6201     5.0                                          Lady Jane   \n",
       "8136   102217     5.0                            Bill Hicks: Revelations   \n",
       "8130   102084     5.0                              Justice League: Doom    \n",
       "4240     6192     5.0                 Open Hearts (Elsker dig for evigt)   \n",
       "9104   145994     5.0                                    Formula of Love   \n",
       "8097   100906     5.0                                       Maniac Cop 2   \n",
       "9111   146662     5.0                    Dragons: Gift of the Night Fury   \n",
       "8056    99636     5.0                                   English Vinglish   \n",
       "5771    31522     5.0  Marriage of Maria Braun, The (Ehe der Maria Br...   \n",
       "9113   146684     5.0                             Cosmic Scrat-tastrophe   \n",
       "9119   147196     5.0                                          The Girls   \n",
       "9120   147250     5.0  The Adventures of Sherlock Holmes and Doctor W...   \n",
       "9122   147286     5.0  The Adventures of Sherlock Holmes and Doctor W...   \n",
       "9123   147300     5.0  Adventures Of Sherlock Holmes And Dr. Watson: ...   \n",
       "9124   147326     5.0  The Adventures of Sherlock Holmes and Doctor W...   \n",
       "\n",
       "                              genres  year  \n",
       "7638                 [Comedy, Drama]  2010  \n",
       "8089                   [Documentary]  2012  \n",
       "9065        [Comedy, Drama, Romance]  2007  \n",
       "9076                   [Documentary]  2015  \n",
       "9078        [Comedy, Crime, Fantasy]  2015  \n",
       "4245                [Drama, Romance]  1986  \n",
       "8136                        [Comedy]  1993  \n",
       "8130    [Action, Animation, Fantasy]  2012  \n",
       "4240                       [Romance]  2002  \n",
       "9104                        [Comedy]  1984  \n",
       "8097      [Action, Horror, Thriller]  1990  \n",
       "9111  [Adventure, Animation, Comedy]  2011  \n",
       "8056                 [Comedy, Drama]  2012  \n",
       "5771                         [Drama]  1979  \n",
       "9113   [Animation, Children, Comedy]  2015  \n",
       "9119               [Comedy, Romance]  1961  \n",
       "9120            [(no genres listed)]   NaN  \n",
       "9122                [Crime, Mystery]  1983  \n",
       "9123                [Crime, Mystery]  1986  \n",
       "9124                [Crime, Mystery]  1980  "
      ]
     },
     "execution_count": 60,
     "metadata": {},
     "output_type": "execute_result"
    }
   ],
   "source": [
    "# Let us compare this to the top 20 list of movies without eliminating any movies with less than the average number of ratings. \n",
    "grouped_counted_df.sort_values(by='rating', ascending=False).head(20)"
   ]
  },
  {
   "cell_type": "code",
   "execution_count": 61,
   "id": "f91d0ecb-d243-47c3-9caa-f73e6c0e6cc9",
   "metadata": {
    "scrolled": true
   },
   "outputs": [
    {
     "data": {
      "text/plain": [
       "movieId\n",
       "296     181\n",
       "2959     54\n",
       "924      41\n",
       "293      35\n",
       "7361     34\n",
       "       ... \n",
       "3307      1\n",
       "3310      1\n",
       "3317      1\n",
       "830       1\n",
       "2719      1\n",
       "Name: count, Length: 1572, dtype: int64"
      ]
     },
     "execution_count": 61,
     "metadata": {},
     "output_type": "execute_result"
    }
   ],
   "source": [
    "tags_df['movieId'].value_counts()"
   ]
  },
  {
   "cell_type": "markdown",
   "id": "da545221-7aa2-465e-bb0c-d794820ab6c0",
   "metadata": {},
   "source": [
    "## Matrix Sparsity Analysis"
   ]
  },
  {
   "cell_type": "markdown",
   "id": "52a9056e-aeaf-4d0d-bc6c-5155d8bc5354",
   "metadata": {},
   "source": [
    "Before we can build our hybrid recommender system, we must analyze the matrix sparsity to ensure that the majority of our users have rated more than very few items. While we will build a hybrid recommender system that factors for cold-start issues, we must also contend with a model that will not be able to generalize predictions if there is too much sparsity. Too little, and we may have bias in our dataset. \n",
    "\n",
    "Sparsity is calculated as: sparsity = 1 - no# of non-zero interactions / total possible interactions"
   ]
  },
  {
   "cell_type": "code",
   "execution_count": 62,
   "id": "bdd29a3e-da89-4aec-9b4e-843b6d74e892",
   "metadata": {},
   "outputs": [],
   "source": [
    "user_encoder = LabelEncoder()\n",
    "item_encoder = LabelEncoder()"
   ]
  },
  {
   "cell_type": "code",
   "execution_count": 63,
   "id": "a4d3f8f3-b6f8-43df-821f-cd8d17f68f5b",
   "metadata": {},
   "outputs": [],
   "source": [
    "ratings_df['userId_x'] = user_encoder.fit_transform(ratings_df['userId'])\n",
    "ratings_df['movieId_x'] = item_encoder.fit_transform(ratings_df['movieId'])"
   ]
  },
  {
   "cell_type": "code",
   "execution_count": 64,
   "id": "e95039bb-062b-46ea-994d-f6ba64e5c8d2",
   "metadata": {},
   "outputs": [],
   "source": [
    "num_users = ratings_df['userId_x'].nunique()\n",
    "num_movies = ratings_df['movieId_x'].nunique()"
   ]
  },
  {
   "cell_type": "code",
   "execution_count": 65,
   "id": "02b5840d-cd82-4125-944e-9efa37a009cc",
   "metadata": {},
   "outputs": [],
   "source": [
    "interaction_matrix = csr_matrix(\n",
    "    (ratings_df['rating'], (ratings_df['userId_x'], ratings_df['movieId_x'])),\n",
    "    shape=(num_users, num_movies)\n",
    ")"
   ]
  },
  {
   "cell_type": "code",
   "execution_count": 66,
   "id": "e495b824-43d8-4ffd-95f8-eaa0a865392c",
   "metadata": {},
   "outputs": [
    {
     "name": "stdout",
     "output_type": "stream",
     "text": [
      "Created sparse matrix with shape: (610, 9724)\n"
     ]
    }
   ],
   "source": [
    "print(f'Created sparse matrix with shape: {interaction_matrix.shape}')"
   ]
  },
  {
   "cell_type": "code",
   "execution_count": 67,
   "id": "31fe38db-88b6-4a99-bd3f-053caa40b583",
   "metadata": {},
   "outputs": [],
   "source": [
    "num_interactions = interaction_matrix.nnz\n",
    "sparsity = 1 - (num_interactions / (num_users * num_movies))"
   ]
  },
  {
   "cell_type": "code",
   "execution_count": 68,
   "id": "4b3274b7-b620-46dc-bbfc-51f16b722d25",
   "metadata": {},
   "outputs": [
    {
     "name": "stdout",
     "output_type": "stream",
     "text": [
      "Sparsity of the interaction matrix: 98.30%\n"
     ]
    }
   ],
   "source": [
    "print(f'Sparsity of the interaction matrix: {sparsity:.2%}')"
   ]
  },
  {
   "cell_type": "markdown",
   "id": "8c16c643-311d-47ee-886a-1f345efd60f2",
   "metadata": {},
   "source": [
    "The results of our matrix sparsity analysis indicates that are dataset is a highly sparse dataset with shape: (610, 9724) and the sparsity of the interaction matrix is 98.30%. Because of the highly sparse nature of our dataset, and because we have explicit ratings, we will explore the LightFM model."
   ]
  },
  {
   "cell_type": "code",
   "execution_count": 69,
   "id": "8cd68b70-ee2c-41d8-b15e-8a27690649b2",
   "metadata": {},
   "outputs": [],
   "source": [
    "user_interactions = np.array(interaction_matrix.sum(axis=1)).flatten()"
   ]
  },
  {
   "cell_type": "code",
   "execution_count": 70,
   "id": "e23af9ad-c9a9-4c07-b3e2-1641580b6ac2",
   "metadata": {},
   "outputs": [
    {
     "data": {
      "image/png": "[encoded data removed]",
      "text/plain": [
       "<Figure size 640x480 with 1 Axes>"
      ]
     },
     "metadata": {},
     "output_type": "display_data"
    }
   ],
   "source": [
    "plt.hist(user_interactions, bins=20, log=True, color='blue', alpha=0.7)\n",
    "plt.xlabel('Number of Interactions per User')\n",
    "plt.ylabel('Frequency (log scale)')\n",
    "plt.title('User Interaction Distribution')\n",
    "plt.savefig('images/user_interaction_distro.png', bbox_inches='tight', pad_inches= 0.2);"
   ]
  },
  {
   "cell_type": "code",
   "execution_count": 72,
   "id": "605957d5-dcd8-4e2c-bf7e-aa6be5afe35c",
   "metadata": {},
   "outputs": [],
   "source": [
    "item_interactions = np.array(interaction_matrix.sum(axis=0)).flatten()"
   ]
  },
  {
   "cell_type": "code",
   "execution_count": 73,
   "id": "fe7136fc-7fc7-4ca5-b2e7-5c1221617cae",
   "metadata": {},
   "outputs": [
    {
     "data": {
      "image/png": "[encoded data removed]",
      "text/plain": [
       "<Figure size 640x480 with 1 Axes>"
      ]
     },
     "metadata": {},
     "output_type": "display_data"
    }
   ],
   "source": [
    "plt.hist(item_interactions, bins=50, log=True, color='blue', alpha=0.7)\n",
    "plt.xlabel('Number of Interactions per Item')\n",
    "plt.ylabel('Frequency (log scale)')\n",
    "plt.title('Item Interaction Distribution')\n",
    "plt.savefig('images/item_interaction_distro.png', bbox_inches='tight', pad_inches= 0.2);"
   ]
  },
  {
   "cell_type": "markdown",
   "id": "05b6fa74-3b91-4fb4-a91c-f258c1e26bf7",
   "metadata": {},
   "source": [
    "This 'long-tail' distribution shows us that the majority of our movies have fewer or no ratings/interactions, while a small amount of popular have a large number of interactions. This can lead to cold-start problems, when the system fails to recommend an item because it has too little information to go on. We will use a hybrid recommendation system to account for this."
   ]
  },
  {
   "cell_type": "code",
   "execution_count": 75,
   "id": "f03a6466-54fd-4a04-a9b9-e85ceaa1fb72",
   "metadata": {},
   "outputs": [],
   "source": [
    "sample_users = 200\n",
    "sample_items = 200"
   ]
  },
  {
   "cell_type": "code",
   "execution_count": 76,
   "id": "37fa8594-fe31-444c-883a-b077b225646f",
   "metadata": {},
   "outputs": [
    {
     "data": {
      "image/png": "[encoded data removed]",
      "text/plain": [
       "<Figure size 640x480 with 1 Axes>"
      ]
     },
     "metadata": {},
     "output_type": "display_data"
    }
   ],
   "source": [
    "sns.heatmap(interaction_matrix[:sample_users, :sample_items].toarray(), cmap='YlGnBu', cbar=False)\n",
    "plt.xlabel('Items')\n",
    "plt.ylabel('Users')\n",
    "plt.title('Interaction Matrix Heatmap (Subset)')\n",
    "plt.savefig('images/interaction_heatmap.png', bbox_inches='tight', pad_inches= 0.2);"
   ]
  },
  {
   "cell_type": "markdown",
   "id": "75856246-4de7-414d-be77-b72e0cd5f578",
   "metadata": {},
   "source": [
    "Since the majority of our heatmap shows off-white, this represents 0 or near-zero values in our dataset, while the darker zones represent larger values. This indicates a highly sparse dataset. "
   ]
  },
  {
   "cell_type": "code",
   "execution_count": 121,
   "id": "88fd34d9-ec58-4cbf-b9b8-b3b62fca3ae8",
   "metadata": {},
   "outputs": [],
   "source": [
    "cold_users = np.sum(interaction_matrix, axis=1) == 0\n",
    "cold_items = np.sum(interaction_matrix, axis=0) == 0"
   ]
  },
  {
   "cell_type": "code",
   "execution_count": 122,
   "id": "e03f86a7-7f46-4ece-979e-f074b8dfee2a",
   "metadata": {},
   "outputs": [
    {
     "name": "stdout",
     "output_type": "stream",
     "text": [
      "Cold-start users: 0 / 610\n",
      "Cold-start items: 0 / 9724\n"
     ]
    }
   ],
   "source": [
    "print(f'Cold-start users: {np.sum(cold_users)} / {interaction_matrix.shape[0]}')\n",
    "print(f'Cold-start items: {np.sum(cold_items)} / {interaction_matrix.shape[1]}')"
   ]
  },
  {
   "cell_type": "markdown",
   "id": "6385a193-a5dd-44f2-86e6-ad93b72cbb44",
   "metadata": {},
   "source": [
    "This shows us that, currently, we have no cold-start issues with our dataset, every user has interacted with at least one item, and every item has been interacted with by at least one user. However, just because we currently do not have a problem with cold-start, does not mean that when a new movie enters our dataset, or when a new user joins our service, that we will not have any cold-start issues. "
   ]
  },
  {
   "cell_type": "markdown",
   "id": "e516cf1f-b4cd-469e-8fd4-c7c30810843f",
   "metadata": {},
   "source": [
    "# Creating our model"
   ]
  },
  {
   "cell_type": "code",
   "execution_count": 123,
   "id": "6b05f18f-f511-494e-9460-777b7a584ade",
   "metadata": {},
   "outputs": [],
   "source": [
    "# # Splitting our dataset\n",
    "# train_interactions, test_interactions = train_test_split(interaction_matrix, test_size=0.2, random_state=random_seed)\n",
    "\n",
    "# # Further split the training data to create a validation set \n",
    "# train_interactions, val_interactions = train_test_split(train_interactions, test_size=0.2, random_state=random_seed)"
   ]
  },
  {
   "cell_type": "code",
   "execution_count": 124,
   "id": "f6f526ec-2e3a-4914-9c9d-ddb6835cf9c8",
   "metadata": {},
   "outputs": [],
   "source": [
    "# shape = interaction_matrix.shape"
   ]
  },
  {
   "cell_type": "code",
   "execution_count": null,
   "id": "78c0a949-da11-40be-b6ab-987ddf0ee908",
   "metadata": {},
   "outputs": [],
   "source": [
    "# #creating matrices from our training, validation and hold out test sets.\n",
    "# train_matrix = csr_matrix((np.ones(len(train_interactions)), (train_interactions[:, 0], train_interactions[:, 1])), shape=interaction_matrix.shape)\n",
    "\n",
    "# test_matrix = csr_matrix((np.ones(len(test_interactions)), (test_interactions[:, 0], test_interactions[:, 1])), shape=interaction_matrix.shape)\n",
    "\n",
    "# val_matrix = csr_matrix((np.ones(len(val_interactions)), (val_interactions[:, 0], val_interactions[:, 1])), shape=interaction_matrix.shape)"
   ]
  },
  {
   "cell_type": "code",
   "execution_count": null,
   "id": "34d5941c-0ee8-49f4-9a4e-42a52dcc737a",
   "metadata": {},
   "outputs": [],
   "source": [
    "# # Creating our user-item rating matrix\n",
    "# ratings_matrix = ratings_df.pivot(index='userId', columns='movieId', values='rating')"
   ]
  },
  {
   "cell_type": "code",
   "execution_count": null,
   "id": "53f304d5-1e2e-42c0-9495-c4656fa80e24",
   "metadata": {},
   "outputs": [],
   "source": [
    "# # Fill NaN values with 0\n",
    "# ratings_matrix = ratings_matrix.fillna(0)"
   ]
  },
  {
   "cell_type": "code",
   "execution_count": null,
   "id": "488f2fac-001a-40dc-b9a6-bfef7eb71214",
   "metadata": {},
   "outputs": [],
   "source": [
    "# # Converting to a sparse matrix using scipy.sparse csr_matrix\n",
    "# ratings_sparse_matrix = csr_matrix(ratings_matrix.values)"
   ]
  },
  {
   "cell_type": "code",
   "execution_count": null,
   "id": "5e26f932-d643-4c6f-85a3-b8735ddabbeb",
   "metadata": {},
   "outputs": [],
   "source": [
    "# # Extracting our non-zero user (user, item) interactions from the sparse matrix.\n",
    "# non_zero_indices = ratings_sparse_matrix.nonzero()\n",
    "# user_item_pairs = list(zip(non_zero_indices[0], non_zero_indices[1]))"
   ]
  },
  {
   "cell_type": "code",
   "execution_count": null,
   "id": "dd78c3f3-404a-4385-8a12-62db2acd82a3",
   "metadata": {},
   "outputs": [],
   "source": [
    "# # Split the user-item pairs into train, validation, and test sets\n",
    "# train_pairs, temp_pairs = train_test_split(user_item_pairs, test_size=0.2, random_state=random_seed)\n",
    "# val_pairs, test_pairs = train_test_split(temp_pairs, test_size=0.5, random_state=random_seed)\n",
    "\n",
    "# # Convert them into numpy arrays or lists if needed (for later matrix creation)\n",
    "# train_pairs = np.array(train_pairs)\n",
    "# val_pairs = np.array(val_pairs)\n",
    "# test_pairs = np.array(test_pairs)"
   ]
  },
  {
   "cell_type": "code",
   "execution_count": null,
   "id": "7ccf2809-a3a4-44e2-934e-e18ee7e66a3d",
   "metadata": {},
   "outputs": [],
   "source": [
    "# def create_sparse_matrix(user_item_pairs, shape):\n",
    "#     # Create a sparse matrix from the (user, item) pairs with ratings of 1 (implicit feedback scenario)\n",
    "#     return csr_matrix((np.ones(len(user_item_pairs)), \n",
    "#                         (user_item_pairs[:, 0], user_item_pairs[:, 1])), \n",
    "#                         shape=shape)"
   ]
  },
  {
   "cell_type": "code",
   "execution_count": null,
   "id": "d72ca37f-0b94-4447-a798-8cbc492f6fb2",
   "metadata": {},
   "outputs": [],
   "source": [
    "# # Create sparse matrices for training, validation, and test sets\n",
    "# train_matrix = create_sparse_matrix(train_pairs, ratings_matrix.shape)\n",
    "# val_matrix = create_sparse_matrix(val_pairs, ratings_matrix.shape)\n",
    "# test_matrix = create_sparse_matrix(test_pairs, ratings_matrix.shape)"
   ]
  },
  {
   "cell_type": "code",
   "execution_count": null,
   "id": "10750824-74f9-4901-988d-22980354918f",
   "metadata": {},
   "outputs": [],
   "source": [
    "# # Convert data to a compressed format for ALS\n",
    "# first_als_model = AlternatingLeastSquares(factors=50, regularization=0.1, iterations=20)\n",
    "\n",
    "# first_als_model.fit(train_matrix.T)"
   ]
  },
  {
   "cell_type": "markdown",
   "id": "0a8da70f-e3d4-46fd-a8c8-2061b7aa09f4",
   "metadata": {},
   "source": [
    "## Evaluating Our Model"
   ]
  },
  {
   "cell_type": "code",
   "execution_count": null,
   "id": "a9b1734e-369f-4ac3-ba42-c89947d47c76",
   "metadata": {},
   "outputs": [],
   "source": [
    "# # Creating a function to calculate our RMSE (root mean squared error)\n",
    "# def calculate_rmse(actual_values, predicted_values):\n",
    "#     \"\"\"\n",
    "#     Calculates the Root Mean Squared Error (RMSE).\n",
    "\n",
    "#     Args:\n",
    "#     actual_values: A list or numpy array of actual values.\n",
    "#     predicted_values: A list or numpy array of predicted values.\n",
    "\n",
    "#   Returns:\n",
    "#     The RMSE value.\n",
    "#   \"\"\"\n",
    "#     mse = mean_squared_error(actual_values, predicted_values)\n",
    "#     rmse = np.sqrt(mse)\n",
    "#     return rmse\n",
    "\n"
   ]
  },
  {
   "cell_type": "code",
   "execution_count": null,
   "id": "505eb1c7-c757-4eb5-9b59-60f830449d26",
   "metadata": {},
   "outputs": [],
   "source": [
    "# def als_rmse(factors, regularization, iterations):\n",
    "#     # Initialize the ALS model with the given parameters\n",
    "#     model = AlternatingLeastSquares(factors=int(factors),\n",
    "#                                     regularization=regularization,\n",
    "#                                     iterations=int(iterations))\n",
    "    \n",
    "#     # Fit the model on the training data\n",
    "#     model.fit(train_matrix)\n",
    "    \n",
    "#     # Make predictions for the validation set\n",
    "#     predicted_values = model.predict(val_matrix)  # Assuming model.predict returns predicted values\n",
    "#     actual_values = val_matrix.data  # Assuming val_matrix.data contains actual interaction values\n",
    "\n",
    "#     # Calculate RMSE on the validation set\n",
    "#     rmse = calculate_rmse(actual_values, predicted_values)\n",
    "#     return -rmse  # Return negative RMSE for maximization\n"
   ]
  },
  {
   "cell_type": "code",
   "execution_count": null,
   "id": "7af927d2-07ea-4224-b848-b3d15ea71f9c",
   "metadata": {},
   "outputs": [],
   "source": [
    "# #Compute the RMSE\n",
    "\n",
    "# def compute_rmse(model, data_matrix):\n",
    "#     squared_error = 0\n",
    "#     count = 0\n",
    "\n",
    "#     for user_id in range(data_matrix.shape[0]):\n",
    "#         if user_id >= model.user_factors.shape[0]:\n",
    "#             continue  # Skip users not in the model\n",
    "\n",
    "#         true_items = data_matrix[user_id].indices\n",
    "#         true_interactions = data_matrix[user_id].data\n",
    "\n",
    "#         if len(true_items) == 0:\n",
    "#             continue\n",
    "\n",
    "#         valid_items = [item for item in true_items if item < model.item_factors.shape[0]]\n",
    "#         if not valid_items:\n",
    "#             continue\n",
    "\n",
    "#         predicted_interactions = model.user_factors[user_id, :].dot(model.item_factors[valid_items].T)\n",
    "#         squared_error += np.sum((true_interactions[:len(valid_items)] - predicted_interactions) ** 2)\n",
    "#         count += len(valid_items)\n",
    "\n",
    "#     rmse = np.sqrt(squared_error / count) if count > 0 else float('nan')\n",
    "#     return rmse"
   ]
  },
  {
   "cell_type": "code",
   "execution_count": null,
   "id": "7605296d-dc4c-4970-aa92-ce44b86f7112",
   "metadata": {},
   "outputs": [],
   "source": [
    "# # Assuming val_matrix is your validation data in CSR format\n",
    "# val_rmse = compute_rmse(first_als_model, val_matrix)\n",
    "# print(f'Validation RMSE: {val_rmse:.4f}')"
   ]
  },
  {
   "cell_type": "code",
   "execution_count": null,
   "id": "d8454a80-9c8c-4914-857f-16ac2ff5ec07",
   "metadata": {},
   "outputs": [],
   "source": [
    "# # Define the parameter bounds for Bayesian Optimization\n",
    "# pbounds = {\n",
    "#     'factors': (10, 50),\n",
    "#     'regularization': (0.01, 0.1),\n",
    "#     'iterations': (10, 20)\n",
    "# }\n",
    "\n",
    "# # Initialize the Bayesian Optimization\n",
    "# optimizer = BayesianOptimization(\n",
    "#     f=als_rmse,\n",
    "#     pbounds=pbounds,\n",
    "#     random_state=random_seed\n",
    "# )\n",
    "\n",
    "# # Maximize the objective function\n",
    "# optimizer.maximize(init_points=5, n_iter=15)"
   ]
  },
  {
   "cell_type": "code",
   "execution_count": null,
   "id": "348818f4-0688-46fb-927a-5e22f3f900ab",
   "metadata": {},
   "outputs": [],
   "source": [
    "# print(optimizer.max)"
   ]
  },
  {
   "cell_type": "markdown",
   "id": "bdf1c4a9-f35c-41ee-b6b7-fad18dae055b",
   "metadata": {},
   "source": [
    "From this we can see our best results were with 22.331369534696435 factors, 18.610837829384902 iterations, with 'regularization' set to 0.018445602402771707. Our target, RMSE, was -2.883. Not acceptable. "
   ]
  },
  {
   "cell_type": "code",
   "execution_count": null,
   "id": "3427cf1d-c267-43bc-b0b9-288ecc8217e7",
   "metadata": {},
   "outputs": [],
   "source": [
    "# # The next iteration of our model\n",
    "# als_model_two = AlternatingLeastSquares(factors=22, regularization=0.0184, iterations=18)\n",
    "\n",
    "# als_model_two.fit(train_matrix.T)"
   ]
  },
  {
   "cell_type": "code",
   "execution_count": null,
   "id": "2b688476-c4ce-48a6-bec7-bae09915926b",
   "metadata": {},
   "outputs": [],
   "source": [
    "# # Assuming val_matrix is your validation data in CSR format\n",
    "# val_rmse = compute_rmse(als_model_two, val_matrix)\n",
    "# print(f'Validation RMSE: {val_rmse:.4f}')"
   ]
  },
  {
   "cell_type": "code",
   "execution_count": null,
   "id": "ce302d43-2d5e-4390-ba2d-c08b364dbfd9",
   "metadata": {},
   "outputs": [],
   "source": [
    "#The RMSE went down by roughly 0.01 point, which is good but not enough. "
   ]
  },
  {
   "cell_type": "code",
   "execution_count": null,
   "id": "5f07e771-fec8-4eb1-9aac-129479f9265d",
   "metadata": {},
   "outputs": [],
   "source": [
    "# # Assuming val_matrix is your validation data in CSR format\n",
    "# val_rmse = compute_rmse(als_model_two, val_matrix)\n",
    "# print(f'Validation RMSE: {val_rmse:.4f}')"
   ]
  },
  {
   "cell_type": "code",
   "execution_count": null,
   "id": "a4e6aeb9-1fae-4011-800f-0d5cc93e28d0",
   "metadata": {},
   "outputs": [],
   "source": [
    "# # Define the parameter bounds for Bayesian Optimization\n",
    "# pbounds = {\n",
    "#     'factors': (20, 25),\n",
    "#     'regularization': (0.01, 0.02),\n",
    "#     'iterations': (10, 20)\n",
    "# }\n",
    "\n",
    "# # Initialize the Bayesian Optimization\n",
    "# optimizer = BayesianOptimization(\n",
    "#     f=als_rmse,\n",
    "#     pbounds=pbounds,\n",
    "#     random_state=random_seed\n",
    "# )\n",
    "\n",
    "# # Maximize the objective function\n",
    "# optimizer.maximize(init_points=5, n_iter=15) "
   ]
  },
  {
   "cell_type": "code",
   "execution_count": null,
   "id": "964583cb-b5de-4f55-b1e2-97516bc2ffd9",
   "metadata": {},
   "outputs": [],
   "source": [
    "# print(optimizer.max)"
   ]
  },
  {
   "cell_type": "code",
   "execution_count": null,
   "id": "0a44be1a-54b1-4fe3-b01a-af8fdd8f669a",
   "metadata": {},
   "outputs": [],
   "source": [
    "# # The next iteration of our model\n",
    "# als_model_three = AlternatingLeastSquares(factors=21, regularization=0.015, iterations=20)\n",
    "\n",
    "# als_model_three.fit(train_matrix.T)"
   ]
  },
  {
   "cell_type": "code",
   "execution_count": null,
   "id": "b895d754-e175-4e28-8e08-d3c49abba47a",
   "metadata": {},
   "outputs": [],
   "source": [
    "# # Assuming val_matrix is your validation data in CSR format\n",
    "# val_rmse = compute_rmse(als_model_three, val_matrix)\n",
    "# print(f'Validation RMSE: {val_rmse:.4f}')"
   ]
  },
  {
   "cell_type": "code",
   "execution_count": null,
   "id": "ef991085-11a4-4a43-9607-a4f70b18e910",
   "metadata": {},
   "outputs": [],
   "source": [
    "# # Define the parameter bounds for Bayesian Optimization\n",
    "# pbounds = {\n",
    "#     'factors': (20, 22),\n",
    "#     'regularization': (0.005, 0.02),\n",
    "#     'iterations': (18, 20)\n",
    "# }\n",
    "\n",
    "# # Initialize the Bayesian Optimization\n",
    "# optimizer = BayesianOptimization(\n",
    "#     f=als_rmse,\n",
    "#     pbounds=pbounds,\n",
    "#     random_state=random_seed\n",
    "# )\n",
    "\n",
    "# # Maximize the objective function\n",
    "# optimizer.maximize(init_points=10, n_iter=20)"
   ]
  },
  {
   "cell_type": "code",
   "execution_count": null,
   "id": "fcfdf4bb-38c0-46e1-bd43-39ca8ef37b43",
   "metadata": {},
   "outputs": [],
   "source": [
    "# print(optimizer.max)"
   ]
  },
  {
   "cell_type": "code",
   "execution_count": null,
   "id": "95367d0e-6608-444d-9bb8-894b1a57b132",
   "metadata": {},
   "outputs": [],
   "source": [
    "# item_factors = als_model_three.item_factors  # Shape: (num_items, factors)"
   ]
  },
  {
   "cell_type": "code",
   "execution_count": null,
   "id": "ae04afae-0b03-4c46-a236-923dc4dcc9be",
   "metadata": {},
   "outputs": [],
   "source": [
    "# tags_df[\"tag\"] = tags_df[\"tag\"].apply(lambda x: \" \".join(x) if isinstance(x, list) else str(x))\n",
    "\n",
    "# # Convert tags into TF-IDF features\n",
    "# vectorizer = TfidfVectorizer(stop_words=\"english\", max_features=5000)\n",
    "# tfidf_matrix = vectorizer.fit_transform(tags_df[\"tag\"])  # Sparse matrix\n",
    "\n",
    "# # Reduce dimensions for compatibility with ALS embeddings\n",
    "# svd = TruncatedSVD(n_components=50)  # Match ALS latent factor size\n",
    "# tfidf_reduced = svd.fit_transform(tfidf_matrix)"
   ]
  },
  {
   "cell_type": "code",
   "execution_count": null,
   "id": "1215db0b-513e-4b23-8fdf-3e87589703c3",
   "metadata": {},
   "outputs": [],
   "source": [
    "# # Assuming val_matrix is your validation data in CSR format\n",
    "# val_rmse = compute_rmse(als_model_three, test_matrix)\n",
    "# print(f'Validation RMSE: {val_rmse:.4f}')"
   ]
  },
  {
   "cell_type": "code",
   "execution_count": null,
   "id": "fba62e24-fc18-49d3-8c26-da45c2fec502",
   "metadata": {},
   "outputs": [],
   "source": [
    "# # Get movie IDs from the ALS model\n",
    "# movie_ids = list(ratings_df[\"movieId\"].unique())  # Ordered list of unique movieIds\n",
    "# als_movie_map = {i: movie_ids[i] for i in range(len(movie_ids))}  # ALS index → movieId"
   ]
  },
  {
   "cell_type": "code",
   "execution_count": null,
   "id": "5f9f1ca3-aca5-4d27-9fd4-0c7c4d1fdfc0",
   "metadata": {},
   "outputs": [],
   "source": []
  },
  {
   "cell_type": "code",
   "execution_count": null,
   "id": "4c42b570-b790-4056-8d24-51b107427ffb",
   "metadata": {},
   "outputs": [],
   "source": [
    "# train_movie_ids = np.unique(train_interactions[:, 1])  # Get unique movie IDs in training data\n",
    "# train_movie_ids = np.array(train_movie_ids).astype(int)  # Ensure it's an integer array\n",
    "\n",
    "# # Ensure als_df only contains movies from the training set\n",
    "# als_df = als_df.loc[train_movie_ids]\n",
    "# # Filter tfidf_df to match movies in train_interactions\n",
    "# tfidf_df = tfidf_df.loc[train_movie_ids]\n",
    "\n",
    "# # Merge ALS and TF-IDF embeddings\n",
    "# hybrid_features = pd.concat([als_df, tfidf_df], axis=1, join=\"inner\")"
   ]
  },
  {
   "cell_type": "code",
   "execution_count": null,
   "id": "4408b072-6fa4-4380-8f66-b84689d48dfc",
   "metadata": {},
   "outputs": [],
   "source": [
    "# # Convert ALS item_factors to DataFrame\n",
    "# als_df = pd.DataFrame(item_factors)  # No index yet\n",
    "# als_df.index = als_movie_map.values()  # Assign movieId as index"
   ]
  },
  {
   "cell_type": "code",
   "execution_count": null,
   "id": "1c67008e-0c25-4048-b01e-ee654138da85",
   "metadata": {
    "scrolled": true
   },
   "outputs": [],
   "source": [
    "# # Convert to Pandas DataFrame\n",
    "# als_df = pd.DataFrame(item_factors, index=ratings_df[\"movieId\"].unique())\n",
    "# tfidf_df = pd.DataFrame(tfidf_reduced, index=tags_df[\"movieId\"].unique())\n",
    "\n",
    "# # Merge embeddings (either concatenation or weighted sum)\n",
    "# hybrid_features = pd.concat([als_df, tfidf_df], axis=1)  # Simple concatenation"
   ]
  },
  {
   "cell_type": "code",
   "execution_count": null,
   "id": "1c2d3488-258e-4ac5-adc8-9102c3214c1b",
   "metadata": {},
   "outputs": [],
   "source": [
    "# def compute_dcg(df, relevance_col='rating'):\n",
    "#     return df.withColum('dcg', col(relevance_col) / log2(col('rank') + 1))"
   ]
  },
  {
   "cell_type": "code",
   "execution_count": null,
   "id": "1d4567bc-aa01-43bf-b714-ebd99929765a",
   "metadata": {},
   "outputs": [],
   "source": []
  },
  {
   "cell_type": "markdown",
   "id": "c1a29888-3373-4bf9-a112-b5bfa9209ced",
   "metadata": {},
   "source": [
    "# Creating our Spark Model"
   ]
  },
  {
   "cell_type": "code",
   "execution_count": 125,
   "id": "e70c28f9-a4f8-4c0b-b4a3-78d3cce73130",
   "metadata": {},
   "outputs": [
    {
     "name": "stderr",
     "output_type": "stream",
     "text": [
      "Setting default log level to \"WARN\".\n",
      "To adjust logging level use sc.setLogLevel(newLevel). For SparkR, use setLogLevel(newLevel).\n",
      "25/03/17 14:48:44 WARN NativeCodeLoader: Unable to load native-hadoop library for your platform... using builtin-java classes where applicable\n"
     ]
    }
   ],
   "source": [
    "# Start a Spark session\n",
    "spark = SparkSession.builder.appName('MoieRecommender').getOrCreate()"
   ]
  },
  {
   "cell_type": "code",
   "execution_count": 126,
   "id": "35f12b2c-5bea-4343-b107-a76b7d353b56",
   "metadata": {},
   "outputs": [],
   "source": [
    "#loading our dataset using spark.\n",
    "\n",
    "spark_df = spark.read.csv('data/ml-latest-small/ratings.csv', header=True, inferSchema=True)"
   ]
  },
  {
   "cell_type": "code",
   "execution_count": 127,
   "id": "7e3940c6-711b-41fd-b29d-b8b6223c7556",
   "metadata": {},
   "outputs": [],
   "source": [
    "# Create the validation, training and hold out test sets.\n",
    "\n",
    "# creating training and validation sets\n",
    "train, validation, hold_out = spark_df.randomSplit([0.64, 0.16, 0.2], seed=random_seed)"
   ]
  },
  {
   "cell_type": "code",
   "execution_count": 128,
   "id": "d51cf248-768a-40cd-a1dc-9ab198e32f91",
   "metadata": {},
   "outputs": [],
   "source": [
    "# Defining our ALS (Spark) model.\n",
    "als = ALS(\n",
    "    userCol='userId',\n",
    "    itemCol='movieId',\n",
    "    ratingCol='rating',\n",
    "    coldStartStrategy='drop',\n",
    "    nonnegative= True\n",
    ")"
   ]
  },
  {
   "cell_type": "code",
   "execution_count": 129,
   "id": "fcf4c0a9-6828-4ee6-bd61-fab7d96d845b",
   "metadata": {},
   "outputs": [],
   "source": [
    "# Creating our parameter grid for our ALS spark model\n",
    "param_grid = ParamGridBuilder()\\\n",
    "    .addGrid(als.rank, [12, 13, 14])\\\n",
    "    .addGrid(als.maxIter, [18, 19, 20])\\\n",
    "    .addGrid(als.regParam, [.17, .18, .19])\\\n",
    "    .build()"
   ]
  },
  {
   "cell_type": "code",
   "execution_count": 130,
   "id": "a9ae963d-01de-4fe6-a562-130b08358249",
   "metadata": {},
   "outputs": [],
   "source": [
    "# Creating our Regression Evaluator using RMSE as our metric.\n",
    "\n",
    "reg_evaluator = RegressionEvaluator(\n",
    "    metricName='rmse',\n",
    "    labelCol ='rating',\n",
    "    predictionCol='prediction'\n",
    ")"
   ]
  },
  {
   "cell_type": "code",
   "execution_count": 131,
   "id": "717db516-3794-43f1-8b7a-f19247edbcc5",
   "metadata": {},
   "outputs": [],
   "source": [
    "# Build cross validation using Train Validation Split\n",
    "\n",
    "train_val_split = TrainValidationSplit(\n",
    "    estimator=als,\n",
    "    estimatorParamMaps=param_grid,\n",
    "    evaluator= reg_evaluator)"
   ]
  },
  {
   "cell_type": "code",
   "execution_count": 132,
   "id": "903db140-7f28-4e98-87df-96572a439f1d",
   "metadata": {},
   "outputs": [
    {
     "name": "stderr",
     "output_type": "stream",
     "text": [
      "25/03/17 14:49:12 WARN InstanceBuilder: Failed to load implementation from:dev.ludovic.netlib.blas.JNIBLAS\n"
     ]
    }
   ],
   "source": [
    "# Training our ALS model\n",
    "spark_model = train_val_split.fit(train)"
   ]
  },
  {
   "cell_type": "code",
   "execution_count": 136,
   "id": "87a3b305-5f0b-4f2c-ad13-11b43c669440",
   "metadata": {},
   "outputs": [],
   "source": [
    "# Extracting the best model from the tuning process using ParamGridBuilder\n",
    "best_model = spark_model.bestModel"
   ]
  },
  {
   "cell_type": "code",
   "execution_count": 137,
   "id": "f0edc2e7-729d-481e-8679-46b02d82767e",
   "metadata": {},
   "outputs": [],
   "source": [
    "# Generate predictions\n",
    "predictions = spark_model.transform(validation)"
   ]
  },
  {
   "cell_type": "code",
   "execution_count": 138,
   "id": "1b5e39f8-f21f-45e5-9657-22f72162142d",
   "metadata": {},
   "outputs": [],
   "source": [
    "# Generate RMSE using our prediction and reg_evaluator\n",
    "rmse = reg_evaluator.evaluate(predictions)"
   ]
  },
  {
   "cell_type": "code",
   "execution_count": 139,
   "id": "32ebbcb0-2080-4e32-9e12-ec2b4b036aa3",
   "metadata": {
    "scrolled": true
   },
   "outputs": [
    {
     "name": "stdout",
     "output_type": "stream",
     "text": [
      "  **BEST MODEL**\n",
      "  RSME = 0.8827669488510812\n",
      "  Hyperparameters:\n",
      "  Rank: 14\n",
      "  Max Iterations: 20\n",
      "  Regularization Parameter: 0.18\n",
      "  Nonnegative: True\n",
      "  Cold Start Strategy: drop\n",
      "\n"
     ]
    }
   ],
   "source": [
    "print(f\"\"\"  **BEST MODEL**\n",
    "  RSME = {rmse}\n",
    "  Hyperparameters:\n",
    "  Rank: {best_model.rank}\n",
    "  Max Iterations: {best_model._java_obj.parent().getMaxIter()}\n",
    "  Regularization Parameter: {best_model._java_obj.parent().getRegParam()}\n",
    "  Nonnegative: {best_model._java_obj.parent().getNonnegative()}\n",
    "  Cold Start Strategy: {best_model._java_obj.parent().getColdStartStrategy()}\n",
    "\"\"\")"
   ]
  },
  {
   "cell_type": "code",
   "execution_count": 140,
   "id": "3bdc246e-46c2-4bdb-870c-647e688723bd",
   "metadata": {},
   "outputs": [
    {
     "name": "stdout",
     "output_type": "stream",
     "text": [
      "  **BEST MODEL**\n",
      "  RSME = 0.8827669488510812\n",
      "  Hyperparameters:\n",
      "  Rank: 14\n",
      "  Max Iterations: 20\n",
      "  Regularization Parameter: 0.18\n",
      "  Nonnegative: True\n",
      "  Cold Start Strategy: drop\n",
      "\n"
     ]
    }
   ],
   "source": [
    "# Defining our Second ALS (Spark) model.\n",
    "als = ALS(\n",
    "    userCol='userId',\n",
    "    itemCol='movieId',\n",
    "    ratingCol='rating',\n",
    "    rank = 10,\n",
    "    maxIter = 15,\n",
    "    regParam = 0.15,\n",
    "    coldStartStrategy='drop',\n",
    "    nonnegative= True\n",
    ")\n",
    "\n",
    "# Creating our parameter grid for our ALS spark model\n",
    "param_grid = ParamGridBuilder()\\\n",
    "    .addGrid(als.rank, [12, 13, 14])\\\n",
    "    .addGrid(als.maxIter, [18, 19, 20])\\\n",
    "    .addGrid(als.regParam, [.17, .18, .19])\\\n",
    "    .build()\n",
    "\n",
    "# Creating our Regression Evaluator using RMSE as our metric.\n",
    "\n",
    "reg_evaluator = RegressionEvaluator(\n",
    "    metricName='rmse',\n",
    "    labelCol ='rating',\n",
    "    predictionCol='prediction'\n",
    ")\n",
    "# Build cross validation using Train Validation Split\n",
    "\n",
    "train_val_split = TrainValidationSplit(\n",
    "    estimator=als,\n",
    "    estimatorParamMaps=param_grid,\n",
    "    evaluator= reg_evaluator)\n",
    "\n",
    "# Training our ALS model\n",
    "spark_model = train_val_split.fit(train)\n",
    "\n",
    "# Extracting the best model from the tuning process using ParamGridBuilder\n",
    "best_model = spark_model.bestModel\n",
    "\n",
    "# Generate predictions\n",
    "predictions = spark_model.transform(validation)\n",
    "\n",
    "print(f\"\"\"  **BEST MODEL**\n",
    "  RSME = {rmse}\n",
    "  Hyperparameters:\n",
    "  Rank: {best_model.rank}\n",
    "  Max Iterations: {best_model._java_obj.parent().getMaxIter()}\n",
    "  Regularization Parameter: {best_model._java_obj.parent().getRegParam()}\n",
    "  Nonnegative: {best_model._java_obj.parent().getNonnegative()}\n",
    "  Cold Start Strategy: {best_model._java_obj.parent().getColdStartStrategy()}\n",
    "\"\"\")"
   ]
  },
  {
   "cell_type": "code",
   "execution_count": 143,
   "id": "87f2f70f-83be-47ad-822d-ca7ed9382ff5",
   "metadata": {},
   "outputs": [
    {
     "name": "stdout",
     "output_type": "stream",
     "text": [
      "  **BEST MODEL**\n",
      "  RSME = 0.8827669488510812\n",
      "  Hyperparameters:\n",
      "  Rank: 14\n",
      "  Max Iterations: 20\n",
      "  Regularization Parameter: 0.18\n",
      "  Nonnegative: True\n",
      "  Cold Start Strategy: drop\n",
      "\n"
     ]
    }
   ],
   "source": [
    "# # Nothing has changed....\n",
    "# # 0.8837775782950666\n",
    "# # 0.8837775782950666\n",
    "# # Let us try to adjust our hyperparameters more and see if this does anything, otherwise, let's give it a final test! \n",
    "\n",
    "# # Defining our third ALS (Spark) model.\n",
    "# als = ALS(\n",
    "#     userCol='userId',\n",
    "#     itemCol='movieId',\n",
    "#     ratingCol='rating',\n",
    "#     rank = 20,\n",
    "#     maxIter = 20,\n",
    "#     regParam = 0.01,\n",
    "#     coldStartStrategy='drop',\n",
    "#     nonnegative= True\n",
    "# )\n",
    "\n",
    "# # Creating our parameter grid for our ALS spark model\n",
    "# param_grid = ParamGridBuilder()\\\n",
    "#     .addGrid(als.rank, [12, 13, 14])\\\n",
    "#     .addGrid(als.maxIter, [18, 19, 20])\\\n",
    "#     .addGrid(als.regParam, [.17, .18, .19])\\\n",
    "#     .build()\n",
    "\n",
    "# # Creating our Regression Evaluator using RMSE as our metric.\n",
    "\n",
    "# reg_evaluator = RegressionEvaluator(\n",
    "#     metricName='rmse',\n",
    "#     labelCol ='rating',\n",
    "#     predictionCol='prediction'\n",
    "# )\n",
    "# # Build cross validation using Train Validation Split\n",
    "\n",
    "# train_val_split = TrainValidationSplit(\n",
    "#     estimator=als,\n",
    "#     estimatorParamMaps=param_grid,\n",
    "#     evaluator= reg_evaluator)\n",
    "\n",
    "# # Training our ALS model\n",
    "# spark_model = train_val_split.fit(train)\n",
    "\n",
    "# # Extracting the best model from the tuning process using ParamGridBuilder\n",
    "# best_model = spark_model.bestModel\n",
    "\n",
    "# # Generate predictions\n",
    "# predictions = spark_model.transform(validation)\n",
    "\n",
    "# print(f\"\"\"  **BEST MODEL**\n",
    "#   RSME = {rmse}\n",
    "#   Hyperparameters:\n",
    "#   Rank: {best_model.rank}\n",
    "#   Max Iterations: {best_model._java_obj.parent().getMaxIter()}\n",
    "#   Regularization Parameter: {best_model._java_obj.parent().getRegParam()}\n",
    "#   Nonnegative: {best_model._java_obj.parent().getNonnegative()}\n",
    "#   Cold Start Strategy: {best_model._java_obj.parent().getColdStartStrategy()}\n",
    "# \"\"\")"
   ]
  },
  {
   "cell_type": "code",
   "execution_count": 142,
   "id": "243ab703-76df-41b8-b3ea-692b3515b38f",
   "metadata": {},
   "outputs": [],
   "source": [
    "# # OK, so our RMSE is 0.8777. This indicates that our model's predictions are off by .877 of a point. \n",
    "# # Before we go on to other methods let us tune the hyperparameters.\n",
    "\n",
    "# # We are only going to begin by tuning the rank hyperparameter. \n",
    "# # Rank is the number of latent features/dimensions that are created.\n",
    "# # Creating our parameter grid for our ALS spark model\n",
    "\n",
    "# # Defining our ALS (Spark) model.\n",
    "# als = ALS(\n",
    "#     userCol='userId',\n",
    "#     itemCol='movieId',\n",
    "#     ratingCol='rating',\n",
    "#     coldStartStrategy='drop',\n",
    "#     nonnegative= True,\n",
    "#     rank= 12,\n",
    "#     maxIter= 20,\n",
    "#     regParam= .19\n",
    "# )\n",
    "\n",
    "# param_grid = ParamGridBuilder()\\\n",
    "#     .addGrid(als.rank, [5, 7, 9])\\\n",
    "#     .addGrid(als.maxIter, [18, 19, 20])\\\n",
    "#     .addGrid(als.regParam, [.17, .18, .19])\\\n",
    "#     .build()"
   ]
  },
  {
   "cell_type": "code",
   "execution_count": 144,
   "id": "045c547f-d534-4889-b694-85b381184166",
   "metadata": {},
   "outputs": [],
   "source": [
    "# Build cross validation using Train Validation Split\n",
    "\n",
    "train_val_split = TrainValidationSplit(\n",
    "    estimator=als,\n",
    "    estimatorParamMaps=param_grid,\n",
    "    evaluator= reg_evaluator)"
   ]
  },
  {
   "cell_type": "code",
   "execution_count": null,
   "id": "2d3aa994-e17a-4d55-8258-2b6ef502ef78",
   "metadata": {},
   "outputs": [],
   "source": [
    "# # Create the validation, training and hold out test sets.\n",
    "\n",
    "# # creating training and validation sets\n",
    "# (training, validation) = spark_df.randomSplit([0.8, 0.2])\n",
    "\n",
    "# # Splitting our training set to create a hold out set to test our final model against. \n",
    "# (training, hold_out) = training.randomSplit([0.8, 0.2])"
   ]
  },
  {
   "cell_type": "code",
   "execution_count": 145,
   "id": "6ee7c39f-1155-43ae-ab4d-56714e3d3e17",
   "metadata": {},
   "outputs": [],
   "source": [
    "# Training our ALS model\n",
    "spark_model = train_val_split.fit(train)"
   ]
  },
  {
   "cell_type": "code",
   "execution_count": 146,
   "id": "685dce52-6e1a-4dc4-8e73-0315da6b295c",
   "metadata": {},
   "outputs": [],
   "source": [
    "# Extracting the best model from the tuning process using ParamGridBuilder\n",
    "best_model = spark_model.bestModel"
   ]
  },
  {
   "cell_type": "code",
   "execution_count": 147,
   "id": "3e98bf49-e14a-4f62-96a8-4f9a926196b8",
   "metadata": {},
   "outputs": [
    {
     "name": "stdout",
     "output_type": "stream",
     "text": [
      "  **BEST MODEL**\n",
      "  RSME = 0.8827669488510812\n",
      "  Hyperparameters:\n",
      "  Rank: 14\n",
      "  Max Iterations: 20\n",
      "  Regularization Parameter: 0.18\n",
      "  Nonnegative: True\n",
      "  Cold Start Strategy: drop\n",
      "\n"
     ]
    }
   ],
   "source": [
    "# Generate predictions\n",
    "predictions = spark_model.transform(validation)\n",
    "\n",
    "# Generate RMSE using our prediction and reg_evaluator\n",
    "rmse = reg_evaluator.evaluate(predictions)\n",
    "\n",
    "# Printing our evaluation metrics and model parameters\n",
    "print(f\"\"\"  **BEST MODEL**\n",
    "  RSME = {rmse}\n",
    "  Hyperparameters:\n",
    "  Rank: {best_model.rank}\n",
    "  Max Iterations: {best_model._java_obj.parent().getMaxIter()}\n",
    "  Regularization Parameter: {best_model._java_obj.parent().getRegParam()}\n",
    "  Nonnegative: {best_model._java_obj.parent().getNonnegative()}\n",
    "  Cold Start Strategy: {best_model._java_obj.parent().getColdStartStrategy()}\n",
    "\"\"\")"
   ]
  },
  {
   "cell_type": "code",
   "execution_count": 148,
   "id": "fd8d49a1-eb09-47fd-95bd-ec59b4f8d11f",
   "metadata": {},
   "outputs": [],
   "source": [
    "# Our RMSE has gone down slightly, by .01 points, but that isn't enough, we are trying to get it as low as we can!"
   ]
  },
  {
   "cell_type": "code",
   "execution_count": 149,
   "id": "7e3d3e9c-7ceb-452d-8f87-29c33b73d429",
   "metadata": {},
   "outputs": [],
   "source": [
    "\n",
    "\n",
    "\n",
    "als = ALS(\n",
    "    userCol='userId',\n",
    "    itemCol='movieId',\n",
    "    ratingCol='rating',\n",
    "    coldStartStrategy='drop',\n",
    "    nonnegative= True,\n",
    "    rank= 30,\n",
    "    maxIter= 30,\n",
    "    regParam= .18\n",
    ")"
   ]
  },
  {
   "cell_type": "code",
   "execution_count": 150,
   "id": "b4116005-ce31-43ad-b0ce-9aeca9d96ba1",
   "metadata": {},
   "outputs": [],
   "source": [
    "# Creating our parameter grid for our ALS spark model\n",
    "param_grid = ParamGridBuilder()\\\n",
    "    .addGrid(als.rank, [20, 30, 40])\\\n",
    "    .addGrid(als.maxIter, [20, 30, 40])\\\n",
    "    .addGrid(als.regParam, [.10, .20, .30])\\\n",
    "    .build()"
   ]
  },
  {
   "cell_type": "code",
   "execution_count": 151,
   "id": "fa630ee9-9737-4f60-bd20-dfc88ec38bed",
   "metadata": {},
   "outputs": [],
   "source": [
    "# # Create the validation, training and hold out test sets.\n",
    "\n",
    "# # creating training and validation sets\n",
    "# (training, validation) = spark_df.randomSplit([0.8, 0.2])\n",
    "\n",
    "# # Splitting our training set to create a hold out set to test our final model against. \n",
    "# (training, hold_out) = training.randomSplit([0.8, 0.2])"
   ]
  },
  {
   "cell_type": "code",
   "execution_count": 152,
   "id": "b761916a-8718-4e51-b0b8-1cfee621b0d8",
   "metadata": {},
   "outputs": [],
   "source": [
    "# Training our ALS model\n",
    "spark_model = train_val_split.fit(train)"
   ]
  },
  {
   "cell_type": "code",
   "execution_count": 153,
   "id": "33346f17-25a5-41e1-9367-abfb29e9b9b8",
   "metadata": {},
   "outputs": [],
   "source": [
    "# Extracting the best model from the tuning process using ParamGridBuilder\n",
    "best_model = spark_model.bestModel"
   ]
  },
  {
   "cell_type": "code",
   "execution_count": 154,
   "id": "2186df68-ead6-4e8e-8154-964460e28b6f",
   "metadata": {},
   "outputs": [
    {
     "name": "stdout",
     "output_type": "stream",
     "text": [
      "  RSME = 0.8827669488510812 of current model.\n",
      "  **BEST MODEL**\n",
      "  Hyperparameters:\n",
      "  Rank: 14\n",
      "  Max Iterations: 20\n",
      "  Regularization Parameter: 0.18\n",
      "  Nonnegative: True\n",
      "  Cold Start Strategy: drop\n",
      "\n"
     ]
    }
   ],
   "source": [
    "# Generate predictions\n",
    "predictions = spark_model.transform(validation)\n",
    "\n",
    "# Generate RMSE using our prediction and reg_evaluator\n",
    "rmse = reg_evaluator.evaluate(predictions)\n",
    "\n",
    "# Printing our evaluation metrics and model parameters\n",
    "# Printing our evaluation metrics and model parameters\n",
    "print(f\"\"\"  RSME = {rmse} of current model.\n",
    "  **BEST MODEL**\n",
    "  Hyperparameters:\n",
    "  Rank: {best_model.rank}\n",
    "  Max Iterations: {best_model._java_obj.parent().getMaxIter()}\n",
    "  Regularization Parameter: {best_model._java_obj.parent().getRegParam()}\n",
    "  Nonnegative: {best_model._java_obj.parent().getNonnegative()}\n",
    "  Cold Start Strategy: {best_model._java_obj.parent().getColdStartStrategy()}\n",
    "\"\"\")"
   ]
  },
  {
   "cell_type": "code",
   "execution_count": 155,
   "id": "1206dc15-4de0-4856-9622-f9718e7e2d3d",
   "metadata": {},
   "outputs": [],
   "source": [
    "from sklearn.neighbors import KNeighborsRegressor\n",
    "from sklearn.model_selection import GridSearchCV\n",
    "from sklearn.metrics import mean_squared_error\n",
    "import numpy as np\n"
   ]
  },
  {
   "cell_type": "code",
   "execution_count": 156,
   "id": "8203e7ea-d376-41fe-9d4b-332f65f83942",
   "metadata": {},
   "outputs": [],
   "source": [
    "# instantiating our KNN regressor.\n",
    "knn = KNeighborsRegressor(n_neighbors=10,\n",
    "    weights='distance',\n",
    "    metric='cosine',\n",
    "    metric_params=None,\n",
    ")\n",
    "\n",
    "# defining our parameter grid\n",
    "param_grid = {\n",
    "    'n_neighbors': [3, 5, 7, 10],  \n",
    "    'weights': ['uniform', 'distance'],  \n",
    "    'metric': ['euclidean', 'cosine']  \n",
    "}"
   ]
  },
  {
   "cell_type": "code",
   "execution_count": 157,
   "id": "d1ceb26b-0d1e-4233-a8a7-d62ae0c2f41c",
   "metadata": {},
   "outputs": [],
   "source": [
    "# # Convert PySpark DataFrame to pandas DataFrame\n",
    "# train_pd = train.toPandas()\n",
    "# validation_pd = validation.toPandas()"
   ]
  },
  {
   "cell_type": "code",
   "execution_count": 158,
   "id": "83df84ae-3677-443f-ac87-17d5c6f40052",
   "metadata": {},
   "outputs": [
    {
     "name": "stdout",
     "output_type": "stream",
     "text": [
      "Fitting 5 folds for each of 16 candidates, totalling 80 fits\n",
      "[CV] END ...metric=euclidean, n_neighbors=3, weights=uniform; total time=   0.0s\n",
      "[CV] END ..metric=euclidean, n_neighbors=5, weights=distance; total time=   0.0s\n",
      "[CV] END ..metric=euclidean, n_neighbors=7, weights=distance; total time=   0.0s\n",
      "[CV] END ..metric=euclidean, n_neighbors=10, weights=uniform; total time=   0.0s\n",
      "[CV] END ......metric=cosine, n_neighbors=3, weights=uniform; total time=  29.3s\n",
      "[CV] END .....metric=cosine, n_neighbors=5, weights=distance; total time=  15.4s\n",
      "[CV] END .....metric=cosine, n_neighbors=5, weights=distance; total time=  14.5s\n",
      "[CV] END .....metric=cosine, n_neighbors=7, weights=distance; total time=  14.4s\n",
      "[CV] END .....metric=cosine, n_neighbors=7, weights=distance; total time=  16.6s\n",
      "[CV] END ..metric=euclidean, n_neighbors=3, weights=distance; total time=   0.0s\n",
      "[CV] END ...metric=euclidean, n_neighbors=5, weights=uniform; total time=   0.0s\n",
      "[CV] END ..metric=euclidean, n_neighbors=5, weights=distance; total time=   0.0s\n",
      "[CV] END ...metric=euclidean, n_neighbors=7, weights=uniform; total time=   0.0s\n",
      "[CV] END ..metric=euclidean, n_neighbors=10, weights=uniform; total time=   0.0s\n",
      "[CV] END .metric=euclidean, n_neighbors=10, weights=distance; total time=   0.1s\n",
      "[CV] END .....metric=cosine, n_neighbors=3, weights=distance; total time=  27.1s\n",
      "[CV] END ......metric=cosine, n_neighbors=5, weights=uniform; total time=  12.6s\n",
      "[CV] END ......metric=cosine, n_neighbors=5, weights=uniform; total time=  15.4s\n",
      "[CV] END ......metric=cosine, n_neighbors=7, weights=uniform; total time=  14.6s\n",
      "[CV] END .....metric=cosine, n_neighbors=7, weights=distance; total time=  19.3s\n"
     ]
    },
    {
     "ename": "KeyboardInterrupt",
     "evalue": "",
     "output_type": "error",
     "traceback": [
      "\u001b[0;31m---------------------------------------------------------------------------\u001b[0m",
      "\u001b[0;31mKeyboardInterrupt\u001b[0m                         Traceback (most recent call last)",
      "Cell \u001b[0;32mIn[158], line 5\u001b[0m\n\u001b[1;32m      2\u001b[0m grid_search \u001b[38;5;241m=\u001b[39m GridSearchCV(knn, param_grid, cv\u001b[38;5;241m=\u001b[39m\u001b[38;5;241m5\u001b[39m, scoring\u001b[38;5;241m=\u001b[39m\u001b[38;5;124m'\u001b[39m\u001b[38;5;124mneg_root_mean_squared_error\u001b[39m\u001b[38;5;124m'\u001b[39m, verbose\u001b[38;5;241m=\u001b[39m\u001b[38;5;241m2\u001b[39m, n_jobs\u001b[38;5;241m=\u001b[39m\u001b[38;5;241m-\u001b[39m\u001b[38;5;241m1\u001b[39m)\n\u001b[1;32m      4\u001b[0m \u001b[38;5;66;03m# Fit on training data\u001b[39;00m\n\u001b[0;32m----> 5\u001b[0m grid_search\u001b[38;5;241m.\u001b[39mfit(train_pd[[\u001b[38;5;124m'\u001b[39m\u001b[38;5;124muserId\u001b[39m\u001b[38;5;124m'\u001b[39m, \u001b[38;5;124m'\u001b[39m\u001b[38;5;124mmovieId\u001b[39m\u001b[38;5;124m'\u001b[39m]], train_pd[\u001b[38;5;124m'\u001b[39m\u001b[38;5;124mrating\u001b[39m\u001b[38;5;124m'\u001b[39m])\n\u001b[1;32m      7\u001b[0m \u001b[38;5;66;03m# Get best model\u001b[39;00m\n\u001b[1;32m      8\u001b[0m best_knn_model \u001b[38;5;241m=\u001b[39m grid_search\u001b[38;5;241m.\u001b[39mbest_estimator_\n",
      "File \u001b[0;32m/opt/anaconda3/lib/python3.12/site-packages/sklearn/base.py:1474\u001b[0m, in \u001b[0;36m_fit_context.<locals>.decorator.<locals>.wrapper\u001b[0;34m(estimator, *args, **kwargs)\u001b[0m\n\u001b[1;32m   1467\u001b[0m     estimator\u001b[38;5;241m.\u001b[39m_validate_params()\n\u001b[1;32m   1469\u001b[0m \u001b[38;5;28;01mwith\u001b[39;00m config_context(\n\u001b[1;32m   1470\u001b[0m     skip_parameter_validation\u001b[38;5;241m=\u001b[39m(\n\u001b[1;32m   1471\u001b[0m         prefer_skip_nested_validation \u001b[38;5;129;01mor\u001b[39;00m global_skip_validation\n\u001b[1;32m   1472\u001b[0m     )\n\u001b[1;32m   1473\u001b[0m ):\n\u001b[0;32m-> 1474\u001b[0m     \u001b[38;5;28;01mreturn\u001b[39;00m fit_method(estimator, \u001b[38;5;241m*\u001b[39margs, \u001b[38;5;241m*\u001b[39m\u001b[38;5;241m*\u001b[39mkwargs)\n",
      "File \u001b[0;32m/opt/anaconda3/lib/python3.12/site-packages/sklearn/model_selection/_search.py:970\u001b[0m, in \u001b[0;36mBaseSearchCV.fit\u001b[0;34m(self, X, y, **params)\u001b[0m\n\u001b[1;32m    964\u001b[0m     results \u001b[38;5;241m=\u001b[39m \u001b[38;5;28mself\u001b[39m\u001b[38;5;241m.\u001b[39m_format_results(\n\u001b[1;32m    965\u001b[0m         all_candidate_params, n_splits, all_out, all_more_results\n\u001b[1;32m    966\u001b[0m     )\n\u001b[1;32m    968\u001b[0m     \u001b[38;5;28;01mreturn\u001b[39;00m results\n\u001b[0;32m--> 970\u001b[0m \u001b[38;5;28mself\u001b[39m\u001b[38;5;241m.\u001b[39m_run_search(evaluate_candidates)\n\u001b[1;32m    972\u001b[0m \u001b[38;5;66;03m# multimetric is determined here because in the case of a callable\u001b[39;00m\n\u001b[1;32m    973\u001b[0m \u001b[38;5;66;03m# self.scoring the return type is only known after calling\u001b[39;00m\n\u001b[1;32m    974\u001b[0m first_test_score \u001b[38;5;241m=\u001b[39m all_out[\u001b[38;5;241m0\u001b[39m][\u001b[38;5;124m\"\u001b[39m\u001b[38;5;124mtest_scores\u001b[39m\u001b[38;5;124m\"\u001b[39m]\n",
      "File \u001b[0;32m/opt/anaconda3/lib/python3.12/site-packages/sklearn/model_selection/_search.py:1527\u001b[0m, in \u001b[0;36mGridSearchCV._run_search\u001b[0;34m(self, evaluate_candidates)\u001b[0m\n\u001b[1;32m   1525\u001b[0m \u001b[38;5;28;01mdef\u001b[39;00m \u001b[38;5;21m_run_search\u001b[39m(\u001b[38;5;28mself\u001b[39m, evaluate_candidates):\n\u001b[1;32m   1526\u001b[0m \u001b[38;5;250m    \u001b[39m\u001b[38;5;124;03m\"\"\"Search all candidates in param_grid\"\"\"\u001b[39;00m\n\u001b[0;32m-> 1527\u001b[0m     evaluate_candidates(ParameterGrid(\u001b[38;5;28mself\u001b[39m\u001b[38;5;241m.\u001b[39mparam_grid))\n",
      "File \u001b[0;32m/opt/anaconda3/lib/python3.12/site-packages/sklearn/model_selection/_search.py:916\u001b[0m, in \u001b[0;36mBaseSearchCV.fit.<locals>.evaluate_candidates\u001b[0;34m(candidate_params, cv, more_results)\u001b[0m\n\u001b[1;32m    908\u001b[0m \u001b[38;5;28;01mif\u001b[39;00m \u001b[38;5;28mself\u001b[39m\u001b[38;5;241m.\u001b[39mverbose \u001b[38;5;241m>\u001b[39m \u001b[38;5;241m0\u001b[39m:\n\u001b[1;32m    909\u001b[0m     \u001b[38;5;28mprint\u001b[39m(\n\u001b[1;32m    910\u001b[0m         \u001b[38;5;124m\"\u001b[39m\u001b[38;5;124mFitting \u001b[39m\u001b[38;5;132;01m{0}\u001b[39;00m\u001b[38;5;124m folds for each of \u001b[39m\u001b[38;5;132;01m{1}\u001b[39;00m\u001b[38;5;124m candidates,\u001b[39m\u001b[38;5;124m\"\u001b[39m\n\u001b[1;32m    911\u001b[0m         \u001b[38;5;124m\"\u001b[39m\u001b[38;5;124m totalling \u001b[39m\u001b[38;5;132;01m{2}\u001b[39;00m\u001b[38;5;124m fits\u001b[39m\u001b[38;5;124m\"\u001b[39m\u001b[38;5;241m.\u001b[39mformat(\n\u001b[1;32m    912\u001b[0m             n_splits, n_candidates, n_candidates \u001b[38;5;241m*\u001b[39m n_splits\n\u001b[1;32m    913\u001b[0m         )\n\u001b[1;32m    914\u001b[0m     )\n\u001b[0;32m--> 916\u001b[0m out \u001b[38;5;241m=\u001b[39m parallel(\n\u001b[1;32m    917\u001b[0m     delayed(_fit_and_score)(\n\u001b[1;32m    918\u001b[0m         clone(base_estimator),\n\u001b[1;32m    919\u001b[0m         X,\n\u001b[1;32m    920\u001b[0m         y,\n\u001b[1;32m    921\u001b[0m         train\u001b[38;5;241m=\u001b[39mtrain,\n\u001b[1;32m    922\u001b[0m         test\u001b[38;5;241m=\u001b[39mtest,\n\u001b[1;32m    923\u001b[0m         parameters\u001b[38;5;241m=\u001b[39mparameters,\n\u001b[1;32m    924\u001b[0m         split_progress\u001b[38;5;241m=\u001b[39m(split_idx, n_splits),\n\u001b[1;32m    925\u001b[0m         candidate_progress\u001b[38;5;241m=\u001b[39m(cand_idx, n_candidates),\n\u001b[1;32m    926\u001b[0m         \u001b[38;5;241m*\u001b[39m\u001b[38;5;241m*\u001b[39mfit_and_score_kwargs,\n\u001b[1;32m    927\u001b[0m     )\n\u001b[1;32m    928\u001b[0m     \u001b[38;5;28;01mfor\u001b[39;00m (cand_idx, parameters), (split_idx, (train, test)) \u001b[38;5;129;01min\u001b[39;00m product(\n\u001b[1;32m    929\u001b[0m         \u001b[38;5;28menumerate\u001b[39m(candidate_params),\n\u001b[1;32m    930\u001b[0m         \u001b[38;5;28menumerate\u001b[39m(cv\u001b[38;5;241m.\u001b[39msplit(X, y, \u001b[38;5;241m*\u001b[39m\u001b[38;5;241m*\u001b[39mrouted_params\u001b[38;5;241m.\u001b[39msplitter\u001b[38;5;241m.\u001b[39msplit)),\n\u001b[1;32m    931\u001b[0m     )\n\u001b[1;32m    932\u001b[0m )\n\u001b[1;32m    934\u001b[0m \u001b[38;5;28;01mif\u001b[39;00m \u001b[38;5;28mlen\u001b[39m(out) \u001b[38;5;241m<\u001b[39m \u001b[38;5;241m1\u001b[39m:\n\u001b[1;32m    935\u001b[0m     \u001b[38;5;28;01mraise\u001b[39;00m \u001b[38;5;167;01mValueError\u001b[39;00m(\n\u001b[1;32m    936\u001b[0m         \u001b[38;5;124m\"\u001b[39m\u001b[38;5;124mNo fits were performed. \u001b[39m\u001b[38;5;124m\"\u001b[39m\n\u001b[1;32m    937\u001b[0m         \u001b[38;5;124m\"\u001b[39m\u001b[38;5;124mWas the CV iterator empty? \u001b[39m\u001b[38;5;124m\"\u001b[39m\n\u001b[1;32m    938\u001b[0m         \u001b[38;5;124m\"\u001b[39m\u001b[38;5;124mWere there no candidates?\u001b[39m\u001b[38;5;124m\"\u001b[39m\n\u001b[1;32m    939\u001b[0m     )\n",
      "File \u001b[0;32m/opt/anaconda3/lib/python3.12/site-packages/sklearn/utils/parallel.py:67\u001b[0m, in \u001b[0;36mParallel.__call__\u001b[0;34m(self, iterable)\u001b[0m\n\u001b[1;32m     62\u001b[0m config \u001b[38;5;241m=\u001b[39m get_config()\n\u001b[1;32m     63\u001b[0m iterable_with_config \u001b[38;5;241m=\u001b[39m (\n\u001b[1;32m     64\u001b[0m     (_with_config(delayed_func, config), args, kwargs)\n\u001b[1;32m     65\u001b[0m     \u001b[38;5;28;01mfor\u001b[39;00m delayed_func, args, kwargs \u001b[38;5;129;01min\u001b[39;00m iterable\n\u001b[1;32m     66\u001b[0m )\n\u001b[0;32m---> 67\u001b[0m \u001b[38;5;28;01mreturn\u001b[39;00m \u001b[38;5;28msuper\u001b[39m()\u001b[38;5;241m.\u001b[39m\u001b[38;5;21m__call__\u001b[39m(iterable_with_config)\n",
      "File \u001b[0;32m/opt/anaconda3/lib/python3.12/site-packages/joblib/parallel.py:2007\u001b[0m, in \u001b[0;36mParallel.__call__\u001b[0;34m(self, iterable)\u001b[0m\n\u001b[1;32m   2001\u001b[0m \u001b[38;5;66;03m# The first item from the output is blank, but it makes the interpreter\u001b[39;00m\n\u001b[1;32m   2002\u001b[0m \u001b[38;5;66;03m# progress until it enters the Try/Except block of the generator and\u001b[39;00m\n\u001b[1;32m   2003\u001b[0m \u001b[38;5;66;03m# reaches the first `yield` statement. This starts the asynchronous\u001b[39;00m\n\u001b[1;32m   2004\u001b[0m \u001b[38;5;66;03m# dispatch of the tasks to the workers.\u001b[39;00m\n\u001b[1;32m   2005\u001b[0m \u001b[38;5;28mnext\u001b[39m(output)\n\u001b[0;32m-> 2007\u001b[0m \u001b[38;5;28;01mreturn\u001b[39;00m output \u001b[38;5;28;01mif\u001b[39;00m \u001b[38;5;28mself\u001b[39m\u001b[38;5;241m.\u001b[39mreturn_generator \u001b[38;5;28;01melse\u001b[39;00m \u001b[38;5;28mlist\u001b[39m(output)\n",
      "File \u001b[0;32m/opt/anaconda3/lib/python3.12/site-packages/joblib/parallel.py:1650\u001b[0m, in \u001b[0;36mParallel._get_outputs\u001b[0;34m(self, iterator, pre_dispatch)\u001b[0m\n\u001b[1;32m   1647\u001b[0m     \u001b[38;5;28;01myield\u001b[39;00m\n\u001b[1;32m   1649\u001b[0m     \u001b[38;5;28;01mwith\u001b[39;00m \u001b[38;5;28mself\u001b[39m\u001b[38;5;241m.\u001b[39m_backend\u001b[38;5;241m.\u001b[39mretrieval_context():\n\u001b[0;32m-> 1650\u001b[0m         \u001b[38;5;28;01myield from\u001b[39;00m \u001b[38;5;28mself\u001b[39m\u001b[38;5;241m.\u001b[39m_retrieve()\n\u001b[1;32m   1652\u001b[0m \u001b[38;5;28;01mexcept\u001b[39;00m \u001b[38;5;167;01mGeneratorExit\u001b[39;00m:\n\u001b[1;32m   1653\u001b[0m     \u001b[38;5;66;03m# The generator has been garbage collected before being fully\u001b[39;00m\n\u001b[1;32m   1654\u001b[0m     \u001b[38;5;66;03m# consumed. This aborts the remaining tasks if possible and warn\u001b[39;00m\n\u001b[1;32m   1655\u001b[0m     \u001b[38;5;66;03m# the user if necessary.\u001b[39;00m\n\u001b[1;32m   1656\u001b[0m     \u001b[38;5;28mself\u001b[39m\u001b[38;5;241m.\u001b[39m_exception \u001b[38;5;241m=\u001b[39m \u001b[38;5;28;01mTrue\u001b[39;00m\n",
      "File \u001b[0;32m/opt/anaconda3/lib/python3.12/site-packages/joblib/parallel.py:1762\u001b[0m, in \u001b[0;36mParallel._retrieve\u001b[0;34m(self)\u001b[0m\n\u001b[1;32m   1757\u001b[0m \u001b[38;5;66;03m# If the next job is not ready for retrieval yet, we just wait for\u001b[39;00m\n\u001b[1;32m   1758\u001b[0m \u001b[38;5;66;03m# async callbacks to progress.\u001b[39;00m\n\u001b[1;32m   1759\u001b[0m \u001b[38;5;28;01mif\u001b[39;00m ((\u001b[38;5;28mlen\u001b[39m(\u001b[38;5;28mself\u001b[39m\u001b[38;5;241m.\u001b[39m_jobs) \u001b[38;5;241m==\u001b[39m \u001b[38;5;241m0\u001b[39m) \u001b[38;5;129;01mor\u001b[39;00m\n\u001b[1;32m   1760\u001b[0m     (\u001b[38;5;28mself\u001b[39m\u001b[38;5;241m.\u001b[39m_jobs[\u001b[38;5;241m0\u001b[39m]\u001b[38;5;241m.\u001b[39mget_status(\n\u001b[1;32m   1761\u001b[0m         timeout\u001b[38;5;241m=\u001b[39m\u001b[38;5;28mself\u001b[39m\u001b[38;5;241m.\u001b[39mtimeout) \u001b[38;5;241m==\u001b[39m TASK_PENDING)):\n\u001b[0;32m-> 1762\u001b[0m     time\u001b[38;5;241m.\u001b[39msleep(\u001b[38;5;241m0.01\u001b[39m)\n\u001b[1;32m   1763\u001b[0m     \u001b[38;5;28;01mcontinue\u001b[39;00m\n\u001b[1;32m   1765\u001b[0m \u001b[38;5;66;03m# We need to be careful: the job list can be filling up as\u001b[39;00m\n\u001b[1;32m   1766\u001b[0m \u001b[38;5;66;03m# we empty it and Python list are not thread-safe by\u001b[39;00m\n\u001b[1;32m   1767\u001b[0m \u001b[38;5;66;03m# default hence the use of the lock\u001b[39;00m\n",
      "\u001b[0;31mKeyboardInterrupt\u001b[0m: "
     ]
    }
   ],
   "source": [
    "# Perform GridSearchCV to find the best hyperparameters\n",
    "grid_search = GridSearchCV(knn, param_grid, cv=5, scoring='neg_root_mean_squared_error', verbose=2, n_jobs=-1)\n",
    "\n",
    "# Fit on training data\n",
    "grid_search.fit(train_pd[['userId', 'movieId']], train_pd['rating'])\n",
    "\n",
    "# Get best model\n",
    "best_knn_model = grid_search.best_estimator_\n"
   ]
  },
  {
   "cell_type": "code",
   "execution_count": null,
   "id": "7ce75cc0-1582-4e18-a766-dda17b9cc182",
   "metadata": {},
   "outputs": [],
   "source": [
    "# # Generate predictions\n",
    "# val_preds = best_knn_model.predict(validation_pd[['userId', 'movieId']])\n",
    "\n",
    "# # Compute RMSE\n",
    "# rmse = np.sqrt(mean_squared_error(validation_pd['rating'], val_preds))\n",
    "\n",
    "# print(f\"\"\"  **BEST k-NN MODEL**\n",
    "#   RMSE = {rmse}\n",
    "#   Hyperparameters:\n",
    "#   n_neighbors: {best_knn_model.n_neighbors}\n",
    "#   Weights: {best_knn_model.weights}\n",
    "#   Metric: {best_knn_model.metric}\n",
    "# \"\"\")\n"
   ]
  },
  {
   "cell_type": "code",
   "execution_count": null,
   "id": "0f12d313-ed0b-410d-ba8f-cbc3525e38e4",
   "metadata": {
    "scrolled": true
   },
   "outputs": [],
   "source": [
    "# # instantiating our KNN regressor.\n",
    "# knn = KNeighborsRegressor(n_neighbors=10,\n",
    "#     weights='distance',\n",
    "#     metric='cosine',\n",
    "#     metric_params=None,\n",
    "# )\n",
    "\n",
    "\n",
    "# param_grid = {\n",
    "#     'n_neighbors': [5, 10, 15, 20, 25],  \n",
    "#     'weights': ['uniform', 'distance'],  \n",
    "#     'metric': ['euclidean', 'cosine', 'manhattan'],  \n",
    "#     'p': [1, 2, 3]  # Only applies if using Minkowski\n",
    "# }\n",
    "\n",
    "# # Perform GridSearchCV to find the best hyperparameters\n",
    "# grid_search = GridSearchCV(knn, param_grid, cv=5, scoring='neg_root_mean_squared_error', verbose=2, n_jobs=-1)\n",
    "\n",
    "# # Fit on training data\n",
    "# grid_search.fit(train_pd[['userId', 'movieId']], train_pd['rating'])\n",
    "\n",
    "# # Get best model\n",
    "# best_knn_model = grid_search.best_estimator_\n",
    "\n",
    "\n",
    "# # Generate predictions\n",
    "# val_preds = best_knn_model.predict(validation_pd[['userId', 'movieId']])\n",
    "\n",
    "# # Compute RMSE\n",
    "# rmse = np.sqrt(mean_squared_error(validation_pd['rating'], val_preds))\n",
    "\n",
    "# print(f\"\"\"  **BEST k-NN MODEL**\n",
    "#   RMSE = {rmse}\n",
    "#   Hyperparameters:\n",
    "#   n_neighbors: {best_knn_model.n_neighbors}\n",
    "#   Weights: {best_knn_model.weights}\n",
    "#   Metric: {best_knn_model.metric}\n",
    "# \"\"\")\n"
   ]
  },
  {
   "cell_type": "code",
   "execution_count": null,
   "id": "e06625c6-fcf5-4fa2-84bf-148569c1b9c3",
   "metadata": {},
   "outputs": [],
   "source": [
    "# # This model is not very good. We will move on to another one. \n",
    "\n",
    "# # instantiating our KNN regressor.\n",
    "# knn = KNeighborsRegressor(n_neighbors=10,\n",
    "#     weights='distance',\n",
    "#     metric='cosine',\n",
    "#     metric_params=None,\n",
    "# )\n",
    "\n",
    "\n",
    "# param_grid = {\n",
    "#     'n_neighbors': [5, 10, 15, 20, 25],  \n",
    "#     'weights': ['uniform', 'distance'],  \n",
    "#     'metric': ['euclidean', 'cosine', 'manhattan'],  \n",
    "#     'p': [1, 2, 3]  # Only applies if using Minkowski\n",
    "# }\n",
    "\n",
    "# # Perform GridSearchCV to find the best hyperparameters\n",
    "# grid_search = GridSearchCV(knn, param_grid, cv=5, scoring='neg_root_mean_squared_error', verbose=2, n_jobs=-1)\n",
    "\n",
    "# # Fit on training data\n",
    "# grid_search.fit(train_pd[['userId', 'movieId']], train_pd['rating'])\n",
    "\n",
    "# # Get best model\n",
    "# best_knn_model = grid_search.best_estimator_\n",
    "\n",
    "\n",
    "# # Generate predictions\n",
    "# val_preds = best_knn_model.predict(validation_pd[['userId', 'movieId']])\n",
    "\n",
    "# # Compute RMSE\n",
    "# rmse = np.sqrt(mean_squared_error(validation_pd['rating'], val_preds))\n",
    "\n",
    "# print(f\"\"\"  **BEST k-NN MODEL**\n",
    "#   RMSE = {rmse}\n",
    "#   Hyperparameters:\n",
    "#   n_neighbors: {best_knn_model.n_neighbors}\n",
    "#   Weights: {best_knn_model.weights}\n",
    "#   Metric: {best_knn_model.metric}\n",
    "# \"\"\")\n"
   ]
  },
  {
   "cell_type": "code",
   "execution_count": 159,
   "id": "d0143fd7-6ae8-43c0-9251-058d1cc85542",
   "metadata": {},
   "outputs": [],
   "source": [
    "# This is a really bad score. Let us adjust this and attempt again.\n",
    "from surprise import Dataset, Reader\n",
    "from surprise.model_selection import train_test_split\n",
    "from surprise import accuracy\n",
    "from surprise.prediction_algorithms import KNNWithMeans, KNNBasic, KNNBaseline\n",
    "from surprise.prediction_algorithms import SVD\n",
    "from surprise.model_selection import GridSearchCV, cross_validate\n",
    "\n",
    "reader = Reader(rating_scale=(1, 5))\n",
    "\n",
    "expected_column_names = [\"userId\", \"movieId\", \"rating\"]\n",
    "\n",
    "# Load the data into a Surprise Dataset\n",
    "data_surp = Dataset.load_from_df(ratings_df[expected_column_names], reader)"
   ]
  },
  {
   "cell_type": "code",
   "execution_count": 160,
   "id": "5d89f7e5-5c3a-4af0-9ca1-b1ef9939880a",
   "metadata": {},
   "outputs": [],
   "source": [
    "# cross validating with KNNBasic\n",
    "knn_basic = KNNBasic(sim_options={'name':'pearson', 'user_based':True})\n",
    "cv_knn_basic = cross_validate(knn_basic, data_surp, n_jobs=-1)\n",
    "\n",
    "\n",
    "# cross validating with KNNBaseline\n",
    "knn_baseline = KNNBaseline(sim_options={'name':'pearson', 'user_based':True})\n",
    "cv_knn_baseline = cross_validate(knn_baseline, data_surp, n_jobs=-1)"
   ]
  },
  {
   "cell_type": "code",
   "execution_count": 161,
   "id": "6d787578-a883-481a-8590-6350ac40920c",
   "metadata": {},
   "outputs": [
    {
     "name": "stdout",
     "output_type": "stream",
     "text": [
      "('test_rmse', array([0.87129581, 0.87569697, 0.88612286, 0.87670677, 0.87664321]))\n",
      "('test_mae', array([0.66620832, 0.66911635, 0.67534732, 0.67012533, 0.66599564]))\n",
      "('fit_time', (0.08748102188110352, 0.08698272705078125, 0.07869696617126465, 0.0920708179473877, 0.07537698745727539))\n",
      "('test_time', (0.5909638404846191, 0.5717267990112305, 0.5751030445098877, 0.541888952255249, 0.5545310974121094))\n",
      "-----------------------\n"
     ]
    },
    {
     "data": {
      "text/plain": [
       "0.8772931252455999"
      ]
     },
     "execution_count": 161,
     "metadata": {},
     "output_type": "execute_result"
    }
   ],
   "source": [
    "for i in cv_knn_baseline.items():\n",
    "    print(i)\n",
    "    \n",
    "print('-----------------------')\n",
    "# print validation results\n",
    "np.mean(cv_knn_baseline['test_rmse'])"
   ]
  },
  {
   "cell_type": "code",
   "execution_count": 162,
   "id": "cb757763-aa8f-4534-a366-dd50aaff1c76",
   "metadata": {},
   "outputs": [
    {
     "name": "stdout",
     "output_type": "stream",
     "text": [
      "('test_rmse', array([0.97955521, 0.96835979, 0.96523305, 0.96941139, 0.98175157]))\n",
      "('test_mae', array([0.75596027, 0.74572518, 0.74720689, 0.74780687, 0.75702466]))\n",
      "('fit_time', (0.05368208885192871, 0.05331611633300781, 0.05966591835021973, 0.044490814208984375, 0.04895210266113281))\n",
      "('test_time', (0.4386579990386963, 0.42512989044189453, 0.4350612163543701, 0.421720027923584, 0.41425180435180664))\n",
      "-----------------------\n",
      "0.9728621995991865\n"
     ]
    }
   ],
   "source": [
    "# print out the average RMSE score for the test set\n",
    "for i in cv_knn_basic.items():\n",
    "    print(i)\n",
    "# print validation results\n",
    "print('-----------------------')\n",
    "print(np.mean(cv_knn_basic['test_rmse']))"
   ]
  },
  {
   "cell_type": "code",
   "execution_count": 163,
   "id": "8804fc3a-131a-4fa9-875c-43721383b8b0",
   "metadata": {},
   "outputs": [],
   "source": [
    "# cross validating with KNNBasic\n",
    "knn_basic = KNNBasic(k=20, min_k=10, sim_options={'name':'pearson', 'user_based':True})\n",
    "cv_knn_basic = cross_validate(knn_basic, data_surp, n_jobs=-1)\n",
    "\n",
    "\n",
    "# # cross validating with KNNBaseline\n",
    "# knn_baseline = KNNBaseline(sim_options={'name':'pearson', 'user_based':True})\n",
    "# cv_knn_baseline = cross_validate(knn_baseline, data_surp)"
   ]
  },
  {
   "cell_type": "code",
   "execution_count": 164,
   "id": "accf5e47-1f7b-4f79-a73a-1b5a08ffb250",
   "metadata": {},
   "outputs": [
    {
     "name": "stdout",
     "output_type": "stream",
     "text": [
      "('test_rmse', array([0.97919432, 0.98475891, 0.98627719, 0.97817698, 0.9724892 ]))\n",
      "('test_mae', array([0.75749356, 0.75998947, 0.7639062 , 0.75665686, 0.75074758]))\n",
      "('fit_time', (0.04740023612976074, 0.049021244049072266, 0.04783773422241211, 0.04458284378051758, 0.049276113510131836))\n",
      "('test_time', (0.3721017837524414, 0.3736090660095215, 0.363173246383667, 0.35597705841064453, 0.3649752140045166))\n",
      "-----------------------\n",
      "0.9801793213993573\n"
     ]
    }
   ],
   "source": [
    "# print out the average RMSE score for the test set\n",
    "for i in cv_knn_basic.items():\n",
    "    print(i)\n",
    "# print validation results\n",
    "print('-----------------------')\n",
    "print(np.mean(cv_knn_basic['test_rmse']))"
   ]
  },
  {
   "cell_type": "code",
   "execution_count": 165,
   "id": "e5a9b9f4-2edd-4500-b74d-654f0fdb92e0",
   "metadata": {},
   "outputs": [],
   "source": [
    "# This made it slightly worse, we will attempt one more try. \n",
    "# cross validating with KNNBasic\n",
    "knn_basic = KNNBasic(k=40, min_k=5, sim_options={'name':'pearson', 'user_based':True})\n",
    "cv_knn_basic = cross_validate(knn_basic, data_surp, n_jobs=-1)"
   ]
  },
  {
   "cell_type": "code",
   "execution_count": 166,
   "id": "428a026c-ce71-4d33-9a05-859217f7141d",
   "metadata": {},
   "outputs": [
    {
     "name": "stdout",
     "output_type": "stream",
     "text": [
      "('test_rmse', array([0.96190614, 0.97036551, 0.97131469, 0.96698655, 0.96716883]))\n",
      "('test_mae', array([0.74486465, 0.75064469, 0.75218159, 0.74485965, 0.74765896]))\n",
      "('fit_time', (0.04878711700439453, 0.05116891860961914, 0.047823190689086914, 0.04461169242858887, 0.049009084701538086))\n",
      "('test_time', (0.4486970901489258, 0.423203706741333, 0.43580126762390137, 0.4267740249633789, 0.41510486602783203))\n",
      "-----------------------\n",
      "0.9675483417435551\n"
     ]
    }
   ],
   "source": [
    "# print out the average RMSE score for the test set\n",
    "for i in cv_knn_basic.items():\n",
    "    print(i)\n",
    "# print validation results\n",
    "print('-----------------------')\n",
    "print(np.mean(cv_knn_basic['test_rmse']))"
   ]
  },
  {
   "cell_type": "code",
   "execution_count": 167,
   "id": "c9de1d58-902a-4c73-8487-110980d8f3b2",
   "metadata": {},
   "outputs": [
    {
     "name": "stdout",
     "output_type": "stream",
     "text": [
      "('test_rmse', array([0.87129581, 0.87569697, 0.88612286, 0.87670677, 0.87664321]))\n",
      "('test_mae', array([0.66620832, 0.66911635, 0.67534732, 0.67012533, 0.66599564]))\n",
      "('fit_time', (0.08748102188110352, 0.08698272705078125, 0.07869696617126465, 0.0920708179473877, 0.07537698745727539))\n",
      "('test_time', (0.5909638404846191, 0.5717267990112305, 0.5751030445098877, 0.541888952255249, 0.5545310974121094))\n",
      "-----------------------\n"
     ]
    },
    {
     "data": {
      "text/plain": [
       "0.8772931252455999"
      ]
     },
     "execution_count": 167,
     "metadata": {},
     "output_type": "execute_result"
    }
   ],
   "source": [
    "for i in cv_knn_baseline.items():\n",
    "    print(i)\n",
    "    \n",
    "print('-----------------------')\n",
    "# print validation results\n",
    "np.mean(cv_knn_baseline['test_rmse'])"
   ]
  },
  {
   "cell_type": "code",
   "execution_count": 168,
   "id": "bacef648-f3f0-4bc1-8dee-adfada372174",
   "metadata": {},
   "outputs": [
    {
     "name": "stdout",
     "output_type": "stream",
     "text": [
      "('test_rmse', array([0.86523473, 0.86411122, 0.86710804, 0.86472226, 0.86764384]))\n",
      "('test_mae', array([0.66630152, 0.66341875, 0.66263858, 0.66094921, 0.66405144]))\n",
      "('fit_time', (0.07993197441101074, 0.08349895477294922, 0.07987499237060547, 0.08801913261413574, 0.07590723037719727))\n",
      "('test_time', (0.5793631076812744, 0.5669159889221191, 0.5646181106567383, 0.550731897354126, 0.5468027591705322))\n",
      "-----------------------\n"
     ]
    },
    {
     "data": {
      "text/plain": [
       "0.8657640173789254"
      ]
     },
     "execution_count": 168,
     "metadata": {},
     "output_type": "execute_result"
    }
   ],
   "source": [
    "# cross validating with KNNBaseline\n",
    "knn_baseline = KNNBaseline(k=40, min_k=7, sim_options={'name':'pearson', 'user_based':True})\n",
    "cv_knn_baseline = cross_validate(knn_baseline, data_surp, n_jobs=-1)\n",
    "\n",
    "for i in cv_knn_baseline.items():\n",
    "    print(i)\n",
    "    \n",
    "print('-----------------------')\n",
    "# print validation results\n",
    "np.mean(cv_knn_baseline['test_rmse'])"
   ]
  },
  {
   "cell_type": "code",
   "execution_count": 169,
   "id": "060bb58c-5bdb-4545-be66-15d7321b3f99",
   "metadata": {},
   "outputs": [
    {
     "name": "stdout",
     "output_type": "stream",
     "text": [
      "('test_rmse', array([0.86655067, 0.86912016, 0.86623171, 0.86067146, 0.86279432]))\n",
      "('test_mae', array([0.66480597, 0.66545537, 0.66400014, 0.65952827, 0.66202602]))\n",
      "('fit_time', (0.07869315147399902, 0.08124899864196777, 0.08696913719177246, 0.08949708938598633, 0.07473587989807129))\n",
      "('test_time', (0.5829699039459229, 0.6045980453491211, 0.6097259521484375, 0.5809581279754639, 0.6031839847564697))\n",
      "-----------------------\n"
     ]
    },
    {
     "data": {
      "text/plain": [
       "0.8650736623604885"
      ]
     },
     "execution_count": 169,
     "metadata": {},
     "output_type": "execute_result"
    }
   ],
   "source": [
    "#that brought it down slightly. Let's go again...\n",
    "# cross validating with KNNBaseline\n",
    "knn_baseline = KNNBaseline(k=50, min_k=12, sim_options={'name':'pearson', 'user_based':True})\n",
    "cv_knn_baseline = cross_validate(knn_baseline, data_surp, n_jobs=-1)\n",
    "\n",
    "for i in cv_knn_baseline.items():\n",
    "    print(i)\n",
    "    \n",
    "print('-----------------------')\n",
    "# print validation results\n",
    "np.mean(cv_knn_baseline['test_rmse'])"
   ]
  },
  {
   "cell_type": "code",
   "execution_count": 170,
   "id": "064c8ed7-8f48-42db-86e3-6d32e8f149a3",
   "metadata": {},
   "outputs": [
    {
     "name": "stdout",
     "output_type": "stream",
     "text": [
      "('test_rmse', array([0.85790787, 0.87109611, 0.86051934, 0.8668442 , 0.86798772]))\n",
      "('test_mae', array([0.65966519, 0.66812045, 0.65991189, 0.66487942, 0.66329807]))\n",
      "('fit_time', (0.07965302467346191, 0.08316421508789062, 0.10036563873291016, 0.10925984382629395, 0.09175515174865723))\n",
      "('test_time', (0.6175930500030518, 0.6291890144348145, 0.617023229598999, 0.5949418544769287, 0.5975608825683594))\n",
      "-----------------------\n"
     ]
    },
    {
     "data": {
      "text/plain": [
       "0.864871045873827"
      ]
     },
     "execution_count": 170,
     "metadata": {},
     "output_type": "execute_result"
    }
   ],
   "source": [
    "#that brought it down slightly. Let's go again...\n",
    "# cross validating with KNNBaseline\n",
    "knn_baseline = KNNBaseline(k=55, min_k=15, sim_options={'name':'pearson', 'user_based':True})\n",
    "cv_knn_baseline = cross_validate(knn_baseline, data_surp, n_jobs=-1)\n",
    "\n",
    "for i in cv_knn_baseline.items():\n",
    "    print(i)\n",
    "    \n",
    "print('-----------------------')\n",
    "# print validation results\n",
    "np.mean(cv_knn_baseline['test_rmse'])"
   ]
  },
  {
   "cell_type": "code",
   "execution_count": 171,
   "id": "63ab23a2-f111-4bd0-ad07-3f6fb7cf6c27",
   "metadata": {},
   "outputs": [
    {
     "name": "stdout",
     "output_type": "stream",
     "text": [
      "('test_rmse', array([0.86304149, 0.86505901, 0.86131064, 0.87298305, 0.860736  ]))\n",
      "('test_mae', array([0.6650901 , 0.66210532, 0.65996632, 0.66781185, 0.66145834]))\n",
      "('fit_time', (0.08073616027832031, 0.08534502983093262, 0.09128689765930176, 0.08587789535522461, 0.07547593116760254))\n",
      "('test_time', (0.6107006072998047, 0.6598122119903564, 0.6349189281463623, 0.6349079608917236, 0.6113321781158447))\n",
      "-----------------------\n"
     ]
    },
    {
     "data": {
      "text/plain": [
       "0.864626037536145"
      ]
     },
     "execution_count": 171,
     "metadata": {},
     "output_type": "execute_result"
    }
   ],
   "source": [
    "#that brought it down slightly. Let's go again...\n",
    "# cross validating with KNNBaseline\n",
    "knn_baseline = KNNBaseline(k=56, min_k=14, sim_options={'name':'pearson', 'user_based':True})\n",
    "cv_knn_baseline = cross_validate(knn_baseline, data_surp, n_jobs=-1)\n",
    "\n",
    "for i in cv_knn_baseline.items():\n",
    "    print(i)\n",
    "    \n",
    "print('-----------------------')\n",
    "# print validation results\n",
    "np.mean(cv_knn_baseline['test_rmse'])"
   ]
  },
  {
   "cell_type": "code",
   "execution_count": 172,
   "id": "74f44302-3cee-4498-b242-8e9a9461933e",
   "metadata": {},
   "outputs": [
    {
     "name": "stdout",
     "output_type": "stream",
     "text": [
      "('test_rmse', array([0.86631976, 0.86177397, 0.86861098, 0.85295271, 0.87799675]))\n",
      "('test_mae', array([0.66386943, 0.66230036, 0.66597446, 0.65589966, 0.67199231]))\n",
      "('fit_time', (0.08213567733764648, 0.0847468376159668, 0.09010696411132812, 0.0842428207397461, 0.07514691352844238))\n",
      "('test_time', (0.6330540180206299, 0.6450309753417969, 0.6135098934173584, 0.616459846496582, 0.6128981113433838))\n",
      "-----------------------\n"
     ]
    },
    {
     "data": {
      "text/plain": [
       "0.8655308335886389"
      ]
     },
     "execution_count": 172,
     "metadata": {},
     "output_type": "execute_result"
    }
   ],
   "source": [
    "#that brought it down slightly. Let's go again...\n",
    "# cross validating with KNNBaseline\n",
    "knn_baseline = KNNBaseline(k=54, min_k=18, sim_options={'name':'pearson', 'user_based':True})\n",
    "cv_knn_baseline = cross_validate(knn_baseline, data_surp, n_jobs=-1)\n",
    "\n",
    "for i in cv_knn_baseline.items():\n",
    "    print(i)\n",
    "    \n",
    "print('-----------------------')\n",
    "# print validation results\n",
    "np.mean(cv_knn_baseline['test_rmse'])"
   ]
  },
  {
   "cell_type": "code",
   "execution_count": 173,
   "id": "e03d143f-da38-4836-a994-aa163d6e24d3",
   "metadata": {},
   "outputs": [
    {
     "name": "stdout",
     "output_type": "stream",
     "text": [
      "('test_rmse', array([0.86631976, 0.86177397, 0.86861098, 0.85295271, 0.87799675]))\n",
      "('test_mae', array([0.66386943, 0.66230036, 0.66597446, 0.65589966, 0.67199231]))\n",
      "('fit_time', (0.08213567733764648, 0.0847468376159668, 0.09010696411132812, 0.0842428207397461, 0.07514691352844238))\n",
      "('test_time', (0.6330540180206299, 0.6450309753417969, 0.6135098934173584, 0.616459846496582, 0.6128981113433838))\n",
      "-----------------------\n"
     ]
    },
    {
     "data": {
      "text/plain": [
       "0.8648097061842275"
      ]
     },
     "execution_count": 173,
     "metadata": {},
     "output_type": "execute_result"
    }
   ],
   "source": [
    "# OK it seems that our best rmse scores come from the knn_baselin model with the hyperparameter values k=56 and min_k=14 so tha is what we will use as our final model.\n",
    "# cross validating with KNNBaseline\n",
    "final_knn_baseline = KNNBaseline(k=56, min_k=14, sim_options={'name':'pearson', 'user_based':True})\n",
    "final_cv_knn_baseline = cross_validate(final_knn_baseline, data_surp, n_jobs=-1)\n",
    "\n",
    "for i in cv_knn_baseline.items():\n",
    "    print(i)\n",
    "    \n",
    "print('-----------------------')\n",
    "# print validation results\n",
    "np.mean(final_cv_knn_baseline['test_rmse'])"
   ]
  },
  {
   "cell_type": "code",
   "execution_count": 174,
   "id": "5e8e33e6-5b30-484c-8160-701077aac12c",
   "metadata": {},
   "outputs": [
    {
     "name": "stdout",
     "output_type": "stream",
     "text": [
      "  RSME = 0.8828571191747658 of current model.\n",
      "  **HOLD OUT MODELL**\n",
      "  Hyperparameters:\n",
      "  Rank: 14\n",
      "  Max Iterations: 20\n",
      "  Regularization Parameter: 0.18\n",
      "  Nonnegative: True\n",
      "  Cold Start Strategy: drop\n",
      "\n"
     ]
    }
   ],
   "source": [
    "# It seems like our second best scores are with our ALS model, which will help address our issues of cold start. \n",
    "# Defining our ALS (Spark) model.\n",
    "als = ALS(\n",
    "    userCol='userId',\n",
    "    itemCol='movieId',\n",
    "    ratingCol='rating',\n",
    "    coldStartStrategy='drop',\n",
    "    nonnegative= True\n",
    ")\n",
    "\n",
    "# Creating our parameter grid for our ALS spark model\n",
    "param_grid = ParamGridBuilder()\\\n",
    "    .addGrid(als.rank, [12, 13, 14])\\\n",
    "    .addGrid(als.maxIter, [18, 19, 20])\\\n",
    "    .addGrid(als.regParam, [.17, .18, .19])\\\n",
    "    .build()\n",
    "\n",
    "# Creating our Regression Evaluator using RMSE as our metric.\n",
    "\n",
    "reg_evaluator = RegressionEvaluator(\n",
    "    metricName='rmse',\n",
    "    labelCol ='rating',\n",
    "    predictionCol='prediction'\n",
    ")\n",
    "\n",
    "# Build cross validation using Train Validation Split\n",
    "\n",
    "train_val_split = TrainValidationSplit(\n",
    "    estimator=als,\n",
    "    estimatorParamMaps=param_grid,\n",
    "    evaluator= reg_evaluator)\n",
    "\n",
    "# Training our ALS model\n",
    "final_spark_model = train_val_split.fit(train)\n",
    "\n",
    "# Extracting the best model from the tuning process using ParamGridBuilder\n",
    "best_model = final_spark_model.bestModel\n",
    "\n",
    "# Generate predictions\n",
    "hold_out_predictions = final_spark_model.transform(hold_out)\n",
    "\n",
    "# Generate RMSE using our prediction and reg_evaluator\n",
    "hold_out_rmse = reg_evaluator.evaluate(hold_out_predictions)\n",
    "\n",
    "print(f\"\"\"  RSME = {hold_out_rmse} of current model.\n",
    "  **HOLD OUT MODELL**\n",
    "  Hyperparameters:\n",
    "  Rank: {best_model.rank}\n",
    "  Max Iterations: {best_model._java_obj.parent().getMaxIter()}\n",
    "  Regularization Parameter: {best_model._java_obj.parent().getRegParam()}\n",
    "  Nonnegative: {best_model._java_obj.parent().getNonnegative()}\n",
    "  Cold Start Strategy: {best_model._java_obj.parent().getColdStartStrategy()}\n",
    "\"\"\")"
   ]
  },
  {
   "cell_type": "code",
   "execution_count": 175,
   "id": "b6410e8d-71a6-4cd1-907a-88f8d1bb1480",
   "metadata": {},
   "outputs": [
    {
     "name": "stdout",
     "output_type": "stream",
     "text": [
      "Estimating biases using als...\n",
      "Computing the pearson similarity matrix...\n",
      "Done computing similarity matrix.\n"
     ]
    },
    {
     "data": {
      "text/plain": [
       "<surprise.prediction_algorithms.knns.KNNBaseline at 0x17ca7dc10>"
      ]
     },
     "execution_count": 175,
     "metadata": {},
     "output_type": "execute_result"
    }
   ],
   "source": [
    "# Assuming 'ratings_df' is your pandas DataFrame\n",
    "reader = Reader(rating_scale=(1, 5))\n",
    "data = Dataset.load_from_df(ratings_df[['userId', 'movieId', 'rating']], reader)\n",
    "\n",
    "# Create the trainset\n",
    "trainset = data.build_full_trainset()\n",
    "\n",
    "# Fit the final KNNBaseline model on the trainset\n",
    "final_knn_baseline = KNNBaseline(k=56, min_k=14, sim_options={'name': 'pearson', 'user_based': True})\n",
    "final_knn_baseline.fit(trainset)"
   ]
  },
  {
   "cell_type": "code",
   "execution_count": 176,
   "id": "77f1d2e2-10f3-46e9-ac46-3bbd0a1a0cdd",
   "metadata": {},
   "outputs": [],
   "source": [
    "#loading our dataset using spark.\n",
    "\n",
    "# Convert Pandas DataFrame to Spark DataFrame\n",
    "spark_df = spark.createDataFrame(merged_df)\n",
    "\n",
    "# Create the validation, training and hold out test sets.\n",
    "\n",
    "# creating training and validation sets\n",
    "train, validation, hold_out = spark_df.randomSplit([0.64, 0.16, 0.2], seed=random_seed)"
   ]
  },
  {
   "cell_type": "code",
   "execution_count": 177,
   "id": "0fecf375-c28d-4962-9a9d-6f233200924e",
   "metadata": {},
   "outputs": [
    {
     "data": {
      "text/plain": [
       "userId  movieId  rating  timestamp            day_of_week  time_of_day  day_and_time     userId_x  movieId_x\n",
       "1       1        4.0     2000-07-30 18:45:03  Sunday       18:45        Sunday 18:00     0         0            1\n",
       "434     4993     5.0     2010-04-07 01:35:33  Wednesday    01:35        Wednesday 01:00  433       3633         1\n",
       "        4963     4.0     2010-04-07 01:42:40  Wednesday    01:42        Wednesday 01:00  433       3609         1\n",
       "        4896     2.5     2010-04-07 01:48:35  Wednesday    01:48        Wednesday 01:00  433       3569         1\n",
       "        4886     4.5     2010-04-07 01:44:18  Wednesday    01:44        Wednesday 01:00  433       3563         1\n",
       "                                                                                                               ..\n",
       "227     58303    4.0     2015-11-11 02:53:29  Wednesday    02:53        Wednesday 02:00  226       6681         1\n",
       "        56782    4.5     2015-11-11 02:46:53  Wednesday    02:46        Wednesday 02:00  226       6631         1\n",
       "        56367    4.5     2015-11-11 03:00:24  Wednesday    03:00        Wednesday 03:00  226       6621         1\n",
       "        55820    4.0     2015-11-11 02:44:41  Wednesday    02:44        Wednesday 02:00  226       6596         1\n",
       "610     170875   3.0     2017-05-03 21:20:15  Wednesday    21:20        Wednesday 21:00  609       9485         1\n",
       "Name: count, Length: 100836, dtype: int64"
      ]
     },
     "execution_count": 177,
     "metadata": {},
     "output_type": "execute_result"
    }
   ],
   "source": [
    "ratings_df.value_counts()"
   ]
  },
  {
   "cell_type": "code",
   "execution_count": null,
   "id": "d4e43e4e-e452-433f-b9ea-75e5a3a0aba3",
   "metadata": {},
   "outputs": [],
   "source": []
  },
  {
   "cell_type": "code",
   "execution_count": null,
   "id": "9df966bd-2191-40ac-8372-afcbdba357f4",
   "metadata": {},
   "outputs": [],
   "source": []
  },
  {
   "cell_type": "code",
   "execution_count": 179,
   "id": "16e86823-4a92-4278-944c-4ca900acf8d8",
   "metadata": {},
   "outputs": [
    {
     "name": "stdout",
     "output_type": "stream",
     "text": [
      "   movieId                   title  predicted_rating  actual_rating   error  \\\n",
      "2    48516           Departed, The          4.512895            NaN     NaN   \n",
      "1     1265           Groundhog Day          4.271455            NaN     NaN   \n",
      "3    91529  Dark Knight Rises, The          4.085754            NaN     NaN   \n",
      "4     1124          On Golden Pond          3.892420            NaN     NaN   \n",
      "0      151                 Rob Roy          3.881300            4.0  0.1187   \n",
      "\n",
      "  cosine_similarity  \n",
      "2              None  \n",
      "1              None  \n",
      "3              None  \n",
      "4              None  \n",
      "0              None  \n"
     ]
    },
    {
     "name": "stderr",
     "output_type": "stream",
     "text": [
      "[Stage 35660:=================================>                  (65 + 8) / 100]\r"
     ]
    },
    {
     "name": "stdout",
     "output_type": "stream",
     "text": [
      "     movieId         title    rating\n",
      "260     3379  On the Beach  6.808526\n",
      "261    33649   Saving Face  6.452315\n",
      "263    59018  Visitor, The  6.392463\n",
      "262    60943  Frozen River  6.392463\n",
      "264   132333          Seve  6.380474\n"
     ]
    },
    {
     "name": "stderr",
     "output_type": "stream",
     "text": [
      "                                                                                \r"
     ]
    }
   ],
   "source": [
    "from pyspark.sql import functions as F\n",
    "import pandas as pd\n",
    "\n",
    "def get_movie_recommendations(userId=None, k=5):\n",
    "    if userId is None:\n",
    "        # Cold Start: Use ALS model\n",
    "        als_recommendations = best_model.recommendForAllUsers(k)\n",
    "\n",
    "        # Extract top k recommendations\n",
    "        top_recommendations = als_recommendations.select('userId', F.explode('recommendations').alias('recommendation')) \\\n",
    "                                                 .select('userId', 'recommendation.movieId', 'recommendation.rating')\n",
    "\n",
    "        # Convert to Pandas\n",
    "        top_recommendations = top_recommendations.toPandas()\n",
    "\n",
    "        # Join with movies_df for titles\n",
    "        top_recommendations = top_recommendations.merge(movies_df, on=\"movieId\", how=\"left\")\n",
    "\n",
    "        return top_recommendations[['movieId', 'title', 'rating']].sort_values(by='rating', ascending=False).head(k)\n",
    "\n",
    "    else:\n",
    "        # Known User: Use KNN model\n",
    "        neighbors = final_knn_baseline.get_neighbors(trainset.to_inner_uid(userId), k)\n",
    "        \n",
    "        # Map indices to movie IDs\n",
    "        movie_ids = [trainset.to_raw_iid(i) for i in neighbors]\n",
    "\n",
    "        # Predict ratings\n",
    "        predicted_ratings = [final_knn_baseline.predict(userId, movie_id).est for movie_id in movie_ids]\n",
    "\n",
    "        # Create DataFrame\n",
    "        recommendations_df = pd.DataFrame({'movieId': movie_ids, 'predicted_rating': predicted_ratings})\n",
    "\n",
    "        # Join with movies_df for titles\n",
    "        recommendations_df = recommendations_df.merge(movies_df, on=\"movieId\", how=\"left\")\n",
    "\n",
    "        # Get actual ratings (if available)\n",
    "        actual_ratings = ratings_df[ratings_df['userId'] == userId][['movieId', 'rating']].rename(columns={'rating': 'actual_rating'})\n",
    "        \n",
    "        # Merge actual ratings\n",
    "        recommendations_df = recommendations_df.merge(actual_ratings, on=\"movieId\", how=\"left\")\n",
    "\n",
    "        # Calculate prediction error\n",
    "        recommendations_df['error'] = abs(recommendations_df['predicted_rating'] - recommendations_df['actual_rating'])\n",
    "\n",
    "        # **Ensure cosine similarity column exists**\n",
    "        recommendations_df['cosine_similarity'] = None  # Default value\n",
    "\n",
    "        # Compute cosine similarity if no actual ratings exist\n",
    "        if recommendations_df['actual_rating'].isnull().all():\n",
    "            similarities = []\n",
    "            for movie_id in movie_ids:\n",
    "                inner_id = trainset.to_inner_iid(movie_id)\n",
    "                sim_scores = final_knn_baseline.sim[inner_id]\n",
    "                mean_similarity = sim_scores.mean()  # Get mean similarity\n",
    "                similarities.append(mean_similarity)\n",
    "\n",
    "            recommendations_df['cosine_similarity'] = similarities\n",
    "\n",
    "        # **Ensure column exists before selection**\n",
    "        columns_to_display = ['movieId', 'title', 'predicted_rating', 'actual_rating', 'error']\n",
    "        if 'cosine_similarity' in recommendations_df.columns:\n",
    "            columns_to_display.append('cosine_similarity')\n",
    "\n",
    "        # Display top k recommendations\n",
    "        return recommendations_df[columns_to_display].sort_values(by='predicted_rating', ascending=False).head(k)\n",
    "\n",
    "# Example usage:\n",
    "print(get_movie_recommendations(userId=40))  # For a known user\n",
    "print(get_movie_recommendations(userId=None))  # For cold start scenario\n"
   ]
  },
  {
   "cell_type": "code",
   "execution_count": 180,
   "id": "2f74ae44-8d59-4bd4-a5f8-daad99891a23",
   "metadata": {},
   "outputs": [
    {
     "name": "stdout",
     "output_type": "stream",
     "text": [
      "   movieId                                  title  predicted_rating  \\\n",
      "1     1031               Bedknobs and Broomsticks          3.772197   \n",
      "0     1029                                  Dumbo          3.769324   \n",
      "2     2058                        Negotiator, The          3.711144   \n",
      "4     2427                     Thin Red Line, The          3.318884   \n",
      "3     2338  I Still Know What You Did Last Summer          1.849769   \n",
      "\n",
      "   actual_rating     error cosine_similarity  \n",
      "1            3.0  0.772197              None  \n",
      "0            4.5  0.730676              None  \n",
      "2            NaN       NaN              None  \n",
      "4            NaN       NaN              None  \n",
      "3            NaN       NaN              None  \n",
      "     movieId         title    rating\n",
      "260     3379  On the Beach  6.808526\n",
      "261    33649   Saving Face  6.452315\n",
      "263    59018  Visitor, The  6.392463\n",
      "262    60943  Frozen River  6.392463\n",
      "264   132333          Seve  6.380474\n"
     ]
    },
    {
     "name": "stderr",
     "output_type": "stream",
     "text": [
      "                                                                                \r"
     ]
    }
   ],
   "source": [
    "print(get_movie_recommendations(userId=20))  # For a known user\n",
    "print(get_movie_recommendations(userId=None)) "
   ]
  },
  {
   "cell_type": "code",
   "execution_count": null,
   "id": "5e4a436e-6fb4-47c8-a25e-a2d48c48f9a8",
   "metadata": {},
   "outputs": [],
   "source": []
  }
 ],
 "metadata": {
  "kernelspec": {
   "display_name": "Python 3 (ipykernel)",
   "language": "python",
   "name": "python3"
  },
  "language_info": {
   "codemirror_mode": {
    "name": "ipython",
    "version": 3
   },
   "file_extension": ".py",
   "mimetype": "text/x-python",
   "name": "python",
   "nbconvert_exporter": "python",
   "pygments_lexer": "ipython3",
   "version": "3.12.4"
  }
 },
 "nbformat": 4,
 "nbformat_minor": 5
}

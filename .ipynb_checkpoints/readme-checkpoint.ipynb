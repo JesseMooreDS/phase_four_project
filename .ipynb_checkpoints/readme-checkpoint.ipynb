{
 "cells": [
  {
   "cell_type": "markdown",
   "id": "05dd7409-9a57-42be-8401-c9c54dab01e7",
   "metadata": {},
   "source": [
    "# Movie Recommendation System"
   ]
  },
  {
   "cell_type": "markdown",
   "id": "9ef4d286-6c30-473c-af9a-13f7af096ca6",
   "metadata": {},
   "source": [
    "## Jesse Moore"
   ]
  },
  {
   "cell_type": "markdown",
   "id": "a792b3da-1301-48dc-972f-b145e2a48128",
   "metadata": {},
   "source": [
    "## LinkedIn | Github | email"
   ]
  },
  {
   "cell_type": "markdown",
   "id": "681f8903-927e-4206-b79c-021f8f193b4b",
   "metadata": {},
   "source": [
    "![image](images/picking_movie.jpeg)"
   ]
  },
  {
   "cell_type": "markdown",
   "id": "6b0346e0-4521-40fa-8dac-c5f58b4bc727",
   "metadata": {},
   "source": [
    "# Summary"
   ]
  },
  {
   "cell_type": "markdown",
   "id": "147732e5-e00e-4cde-a5c1-1bf75636af43",
   "metadata": {},
   "source": [
    "Our project aims to develop a recommendation system for a new streaming service, providing users with five personalized movie recommendations. The model that we developed uses both K-nearest Neighbors (KNN) and Alternating Least Squares modeling to create our recommendation system and to provide users with 5 recommendations. \n",
    "\n",
    "Business and Data Understanding:\n",
    "We utilized the MovieLens dataset, which contains 100,000 ratings and 3,600 tags, making it well-suited for training a recommendation system. This dataset provides rich user-movie interactions and metadata, essential for building effective recommendations.\n",
    "\n",
    "Data Preparation:\n",
    "For our modeling, the data required little / no cleaning or preparation aside from merging our ratings data with our movie data. \n",
    "\n",
    "Libraries: \n",
    "Aside from the standard libraries (numpy, pandas, random, matplotlib.pyplot, seaborn, warnings), we used the following libraries: zipfile for extracting our data; scipy for csr_matrices, scikit-learn for model selection, label encoding, and evaluating cosine similarity; pyspark for Alternate Least Squares (ALS) modelling; and Surprise for our K-nearest Neighbors modelling. \n",
    "\n",
    "Modeling:\n",
    "We initially implemented an Alternating Least Squares (ALS) model using Spark for collaborative filtering. ALS decomposes the user-item matrix to uncover latent factors, optimized via hyperparameter tuning (rank, maxIter, and RegParam). We then introduced a K-Nearest Neighbors (KNN) baseline model using the Surprise package, tuning for optimal k and min_k values. This approach strategizes to combat 'cold-start' problems where users have little to no rating history, or when movies have little to no ratings. \n",
    "\n",
    "Evaluation:\n",
    "Performance was assessed using Root Mean Squared Error (RMSE), where a lower RMSE indicates better predictive accuracy. Grid search tuning found the best model to be KNN Baseline (k=56, min_k=14) with an RMSE of 0.886, slightly outperforming the ALS baseline (RMSE 0.888). ALS remains valuable for handling cold start issues.\n",
    "\n",
    "Insights and Limitations:\n",
    "Additional user behavior tracking—such as viewing duration and repeated watches—could improve recommendations. Incorporating explicit user preferences, such as favorite genres and actors, would further refine personalization. Future iterations may explore hybrid deep learning models for enhanced performance."
   ]
  },
  {
   "cell_type": "markdown",
   "id": "617c1e6b-de71-414b-9f6d-527ccd1fae57",
   "metadata": {},
   "source": [
    "# Overview"
   ]
  },
  {
   "cell_type": "markdown",
   "id": "09fbcc3b-45cf-465d-9755-7a9d98315ad7",
   "metadata": {},
   "source": [
    "## Business Understanding"
   ]
  },
  {
   "cell_type": "markdown",
   "id": "90bffdef-bc35-435e-9d95-59e2e293dff0",
   "metadata": {},
   "source": [
    "### Problem Statement"
   ]
  },
  {
   "cell_type": "markdown",
   "id": "68621aac-2827-4009-a2c9-96dda4049dd2",
   "metadata": {},
   "source": [
    "Our client is launching a new streaming service and wants to implement a recommendation system that provides users with five personalized movie recommendations.\n",
    "\n",
    "To achieve this, we will use a hybrid approach, combining collaborative filtering and content-based filtering. This will help mitigate the cold start problem, which occurs when:\n",
    "\n",
    "New users, who haven’t rated any content, receive poor or no recommendations.\n",
    "Movies with few or no ratings are unlikely to be recommended.\n",
    "Additionally, we have been tasked with delivering insights into user engagement, enabling our client to maximize engagement with their growing user base.\n",
    "\n",
    "Evaluation Metrics\n",
    "To assess the effectiveness of our recommendation system, we will use the following key metrics:\n",
    "\n",
    "Cosine Similarity – Measures the similarity between movies based on content features. It calculates the angle between feature vectors, helping identify movies with similar characteristics.\n",
    "\n",
    "Root Mean Squared Error (RMSE) – Evaluates the accuracy of our rating predictions by measuring the average difference between actual and predicted ratings. A lower RMSE indicates better prediction performance.\n",
    "By leveraging this hybrid approach and these evaluation metrics, we aim to build a recommendation system that delivers high-quality suggestions while providing valuable insights for our client.\n",
    "\n",
    "These concepts will be explained in further detail below."
   ]
  },
  {
   "cell_type": "markdown",
   "id": "f0b8c493-de6b-4a72-8ae1-98dd335f02f4",
   "metadata": {},
   "source": [
    "### Business Objective\n"
   ]
  },
  {
   "cell_type": "markdown",
   "id": "0498ad96-0c72-49d6-9b2f-20fa7745967c",
   "metadata": {},
   "source": [
    "Our business objective is to enhance user enjoyment and engagement with our client's streaming service.\n",
    "\n",
    "To achieve this, we will recommend five movies to each user that they are likely to enjoy. Success will be measured by ensuring that our recommendations receive higher rating scores compared to a baseline model."
   ]
  },
  {
   "cell_type": "markdown",
   "id": "f018b2a2-2785-40e8-8cdf-435a7a0cd961",
   "metadata": {},
   "source": [
    "# Data"
   ]
  },
  {
   "cell_type": "markdown",
   "id": "6272065f-3a53-4257-bd1f-c21afe1dfd6e",
   "metadata": {},
   "source": [
    "## Data Understanding"
   ]
  },
  {
   "cell_type": "markdown",
   "id": "bb70824f-6f91-4fee-a705-67df9bd5a3fd",
   "metadata": {},
   "source": [
    "### Data Source"
   ]
  },
  {
   "cell_type": "markdown",
   "id": "e515ad6d-bd95-4560-89fb-0b354e053c9f",
   "metadata": {},
   "source": [
    "Our dataset is the [MovieLens](https://grouplens.org/datasets/movielens/latest/) dataset that has been created by the GroupLens research lab at the University of Minnesota. This dataset contains 100,000 ratings, 3,600 tags and was last updated on 9/2018. While the dataset contains several csv files of data, such as 'tags.csv' (which contains user created tags for movies) and 'link.csv' (which contains keys to link our data with imdb and tmdb information), we will not be utilizing this data, instead focusing on the 'movies.csv' and 'ratings.csv' datafiles."
   ]
  },
  {
   "cell_type": "markdown",
   "id": "0fc2ce73-aec8-435e-804a-d0e18988bfee",
   "metadata": {},
   "source": [
    "### Data Description"
   ]
  },
  {
   "cell_type": "markdown",
   "id": "d1ddf47e-0ba5-4247-80d8-d7201503a4e1",
   "metadata": {},
   "source": [
    "movies.csv - contains the nearly 10,000 movies that have been rated, their title and genre.\n",
    "\n",
    "- movieId - the Id of the movie, this will used to be merge this information with other data. \n",
    "- title - the title of the movie, also generally contains the year of the movie.\n",
    "- genres -  the genres that the movie comprises. This data will be transformed later, to split genre tags such as 'Action/Adventure/Animation' into their individual components, and will be explained later in this notebook. "
   ]
  },
  {
   "cell_type": "markdown",
   "id": "bc77a525-780f-4dbb-9273-22d139b59a48",
   "metadata": {},
   "source": [
    "ratings.csv - includes the over 100,000 user ratings.\n",
    "\n",
    "- userId - the Id of the user who left the rating, this will be used to merge with other data.\n",
    "- movieId - the Id of the movie, we will use this Id to merge with other data.\n",
    "- rating - the rating, ranging from 0.5 to 5.0.\n",
    "- timestamp - the time when the rating was left. "
   ]
  },
  {
   "cell_type": "markdown",
   "id": "fd3dc3b2-a39d-4d85-9c2d-9f3497abdacf",
   "metadata": {},
   "source": [
    "### Data Cleaning"
   ]
  },
  {
   "cell_type": "markdown",
   "id": "3fbea7f2-2e93-419a-8d2e-cb78e638e1a4",
   "metadata": {},
   "source": [
    "There was little data cleaning that was done in this notebook, as we only utilized the movies.csv and ratings.csv for our modeling. This data was organized and needed no cleaning. (Note - in our exploratory notebook we have done more extensive cleaning that can be used to implement further testing in the future, see Limitations). "
   ]
  },
  {
   "cell_type": "markdown",
   "id": "95b02e78-88e1-45da-a909-6b87b5542557",
   "metadata": {},
   "source": [
    "### Data Preparation"
   ]
  },
  {
   "cell_type": "markdown",
   "id": "27c8b101-1f31-4374-9928-f397d578eae0",
   "metadata": {},
   "source": [
    "There was little data cleaning that was done in this notebook, as we only utilized the movies.csv and ratings.csv for our modeling. We chose to In future implementations of our model, removing users who have left too few ratings, or movies that have too few ratings can considered to be removed from our modelling data."
   ]
  },
  {
   "cell_type": "markdown",
   "id": "a7caa001-161d-4be3-9f6a-8b66d5ca6756",
   "metadata": {},
   "source": [
    "## Data Analysis"
   ]
  },
  {
   "cell_type": "markdown",
   "id": "fa7bef1e-3115-45f0-8145-f9b222d25db4",
   "metadata": {},
   "source": [
    "Our ratings_df has no null values and contains 100,836 ratings. The mean rating is 3.5, with a standard deviation of 1.0, indicating that most ratings fall between 2.5 and 3.5. Specifically, 25% of the ratings are at or below 3.0, 50% are at or below 3.5, and 75% are at or below 4.0. "
   ]
  },
  {
   "cell_type": "markdown",
   "id": "da545221-7aa2-465e-bb0c-d794820ab6c0",
   "metadata": {},
   "source": [
    "### Matrix Sparsity Analysis"
   ]
  },
  {
   "cell_type": "markdown",
   "id": "52a9056e-aeaf-4d0d-bc6c-5155d8bc5354",
   "metadata": {},
   "source": [
    "Before we can build our hybrid recommender system, we must analyze the matrix sparsity to ensure that the majority of our users have rated more than very few items. While we will build a hybrid recommender system that factors for cold-start issues, we must also contend with a model that will not be able to generalize predictions if there is too much sparsity. Too little, and we may have bias in our dataset. \n",
    "\n",
    "Sparsity is calculated as: sparsity = 1 - no# of non-zero interactions / total possible interactions"
   ]
  },
  {
   "cell_type": "markdown",
   "id": "8c16c643-311d-47ee-886a-1f345efd60f2",
   "metadata": {},
   "source": [
    "The results of our matrix sparsity analysis indicates that are dataset is a highly sparse dataset with shape: (610, 9724) and the sparsity of the interaction matrix is 98.30%. Because of the highly sparse nature of our dataset, and because we have explicit ratings, we will utilize a hybrid recommendation system using both KNN and ALS models. "
   ]
  },
  {
   "cell_type": "markdown",
   "id": "32083f1d-7aa9-418a-bcdc-f951f0751daf",
   "metadata": {},
   "source": [
    "![image](images/user_interaction_distro.png)"
   ]
  },
  {
   "cell_type": "markdown",
   "id": "cfc6cad4-b092-417b-96b0-1dedb60e1e4c",
   "metadata": {},
   "source": [
    "![image](images/item_interaction_distro.png)"
   ]
  },
  {
   "cell_type": "markdown",
   "id": "05b6fa74-3b91-4fb4-a91c-f258c1e26bf7",
   "metadata": {},
   "source": [
    "This 'long-tail' distribution shows us that the majority of our movies have fewer or no ratings/interactions, while a small amount of popular have a large number of interactions. This can lead to cold-start problems, when the system fails to recommend an item because it has too little information to go on. We will use a hybrid recommendation system to account for this."
   ]
  },
  {
   "cell_type": "markdown",
   "id": "a9c8c36b-aa00-4bc1-b47d-c8af19eadca6",
   "metadata": {},
   "source": [
    "![image](images/interaction_heatmap.png)"
   ]
  },
  {
   "cell_type": "markdown",
   "id": "75856246-4de7-414d-be77-b72e0cd5f578",
   "metadata": {},
   "source": [
    "Since the majority of our heatmap shows off-white, this represents 0 or near-zero values in our dataset, while the darker zones represent larger values. This indicates a highly sparse dataset. "
   ]
  },
  {
   "cell_type": "markdown",
   "id": "6385a193-a5dd-44f2-86e6-ad93b72cbb44",
   "metadata": {},
   "source": [
    "This shows us that, currently, every user has interacted with at least one item, and every item has been interacted with by at least one user. "
   ]
  },
  {
   "cell_type": "markdown",
   "id": "e516cf1f-b4cd-469e-8fd4-c7c30810843f",
   "metadata": {},
   "source": [
    "# Modeling"
   ]
  },
  {
   "cell_type": "markdown",
   "id": "c1a29888-3373-4bf9-a112-b5bfa9209ced",
   "metadata": {},
   "source": [
    "# Alternating Least Squares"
   ]
  },
  {
   "cell_type": "markdown",
   "id": "c9d64fea-e717-40f1-bbaf-d0d4ade2dd22",
   "metadata": {},
   "source": [
    "We began with Alternating Least Squares (ALS) using Apache Spark as our baseline model. ALS is a collaborative filtering method that factorizes the user-item matrix into two smaller matrices, capturing latent factors of users and items. The model iteratively optimizes one matrix while fixing the other, minimizing the least squared error. We tuned the following hyperparameters:\n",
    "\n",
    "* rank (number of latent factors),\n",
    "* maxIter (maximum iterations for optimization),\n",
    "* RegParam (regularization to prevent overfitting).\n",
    "\n",
    "While ALS effectively handles the cold-start problem by learning from implicit feedback, it struggled with accuracy for well-established users with substantial rating histories."
   ]
  },
  {
   "cell_type": "markdown",
   "id": "433399c2-060e-424a-8a9b-b08c62122437",
   "metadata": {},
   "source": [
    "# K-nearest Neighbors"
   ]
  },
  {
   "cell_type": "markdown",
   "id": "1f08629c-05e7-4c95-93fc-950e3366f89e",
   "metadata": {},
   "source": [
    "To improve recommendations, we implemented a K-Nearest Neighbors (KNN) Baseline model using Surprise. KNN finds the K most similar users or items and predicts ratings based on their aggregated preferences. We tuned:\n",
    "\n",
    "* k (number of neighbors considered),\n",
    "* min_k (minimum neighbors required for aggregation).\n",
    "\n",
    "To optimize both models, we performed grid search, systematically testing hyperparameter combinations to find the best-performing configuration. Our final KNN Baseline model (with k=56 and min_k=14) achieved an RMSE of 0.886, outperforming ALS (RMSE = 0.888). The improvement, while marginal, suggests KNN's advantage in leveraging explicit user rating similarities, making it more effective for established users.\n",
    "\n",
    "However, KNN struggles with sparsity, making ALS a valuable fallback for new users or unrated items. A hybrid system leveraging both models balances accuracy and cold-start mitigation."
   ]
  },
  {
   "cell_type": "markdown",
   "id": "6161c609-ceff-4f1e-8be2-f6047c5d47b2",
   "metadata": {},
   "source": [
    "## Evaluation "
   ]
  },
  {
   "cell_type": "markdown",
   "id": "5adbe00d-0d29-4031-91fe-4a86cba2419b",
   "metadata": {},
   "source": [
    "Our hybrid recommendation system works, with our KNN model providing an RMSE score of: 0.8649660909040028\n",
    "while our ALS model has a score of: 0.8863465869481534"
   ]
  },
  {
   "cell_type": "markdown",
   "id": "801041dd-3e8f-4d8d-b9f3-e981c73e00f9",
   "metadata": {},
   "source": [
    "When a user has a sufficient user rating history, this model on average provides movies recommended to users within .88 of their predicted rating, however, in cases where the user has little to no user rating history or a movie no too few ratings, we cannot accurately predict what their rating will be. In such cases, our ALS model will be used to recommend movies based upon latent factors. "
   ]
  },
  {
   "cell_type": "markdown",
   "id": "59e67823-b831-4f1b-887a-d024468b0df5",
   "metadata": {},
   "source": [
    "During model development, we identified several data limitations that impact recommendation accuracy, particularly in addressing the cold-start problem. Additional user information—such as favorite genres, actors, or directors—could improve recommendations for new users. Tracking unrated movies, watch duration (e.g., whether a user finished a movie or stopped after a few minutes), and rewatch frequency would provide deeper insights into viewing habits. Incorporating these behavioral signals could enhance prediction accuracy and better capture user preferences beyond explicit ratings."
   ]
  },
  {
   "cell_type": "markdown",
   "id": "afd15abb-ab8b-4cc2-8b69-7e80f4a821b6",
   "metadata": {},
   "source": [
    "## Conclusion"
   ]
  },
  {
   "cell_type": "markdown",
   "id": "0b9329df-8194-42a9-846d-335ed6992c43",
   "metadata": {},
   "source": [
    "Implementing a hybrid recommendation system, we combined the strengths of ALS and KNN Baseline to deliver personalized movie suggestions while addressing the cold-start problem. Our grid search optimization identified KNN as the best-performing model (RMSE = 0.886), outperforming the ALS baseline (RMSE = 0.888). While KNN excels for users with rich rating histories, ALS remains essential for recommending movies to new users or sparsely rated items.\n",
    "\n",
    "Further improvements could be made by incorporating additional user behavior data—such as watch duration, rewatch frequency, and unrated views—to refine predictions. With this hybrid approach, our client can maximize user engagement and deliver high-quality recommendations as their streaming platform grows."
   ]
  },
  {
   "cell_type": "markdown",
   "id": "f20b3421-4177-42c3-b6b2-c186a4f4b04b",
   "metadata": {},
   "source": [
    "For further details, please refer to the following linked project notebook and presentation:\n",
    "\n",
    "project notebook presentation"
   ]
  }
 ],
 "metadata": {
  "kernelspec": {
   "display_name": "Python 3 (ipykernel)",
   "language": "python",
   "name": "python3"
  },
  "language_info": {
   "codemirror_mode": {
    "name": "ipython",
    "version": 3
   },
   "file_extension": ".py",
   "mimetype": "text/x-python",
   "name": "python",
   "nbconvert_exporter": "python",
   "pygments_lexer": "ipython3",
   "version": "3.12.4"
  }
 },
 "nbformat": 4,
 "nbformat_minor": 5
}
